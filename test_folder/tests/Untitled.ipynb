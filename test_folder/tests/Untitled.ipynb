{
 "cells": [
  {
   "cell_type": "code",
   "execution_count": 1,
   "metadata": {},
   "outputs": [],
   "source": [
    "import json\n",
    "import os\n",
    "import re\n",
    "import logging\n",
    "import time\n",
    "import requests\n",
    "\n",
    "\n",
    "def get_connections(domain, url):\n",
    "\n",
    "    conn_dict = dict()\n",
    "\n",
    "    dir_path = os.path.dirname(os.path.abspath(__file__))\n",
    "\n",
    "    with open(f'{dir_path}/../.secrets/looker_secrets.json') as f:\n",
    "        j = json.load(f)\n",
    "\n",
    "    data = {\n",
    "        'client_id': j['client_id'],\n",
    "        'client_secret': j['client_secret']\n",
    "    }\n",
    "\n",
    "    response = requests.post(f'{domain}/login', data=data)\n",
    "\n",
    "    access_token = response.json()['access_token']\n",
    "\n",
    "    headers = {\n",
    "        'Authorization': f'token {access_token}'\n",
    "    }\n",
    "\n",
    "    response = requests.get(domain+url, headers=headers)\n",
    "\n",
    "    for r in response.json():\n",
    "        conn_dict[r['name']] = {'database': r['database'], 'type': r['dialect']['label']}\n",
    "\n",
    "    return conn_dict\n",
    "\n",
    "\n",
    "def look_up_target_view(source_view_name, view_map):\n",
    "    target_view_payload = view_map[source_view_name]\n",
    "    return target_view_payload\n",
    "\n",
    "\n",
    "def is_true_source(source):\n",
    "    return bool(len(source.split('.')) == 3)\n",
    "\n",
    "\n",
    "def get_conn_db(explore, connection_map):\n",
    "    conn = explore['conn']\n",
    "    database = connection_map[conn]['database']\n",
    "    provider = connection_map[conn]['type'].split(' ')\n",
    "    if len(provider) > 1:\n",
    "        provider = provider[1]\n",
    "    else:\n",
    "        provider = provider[0]\n",
    "        \n",
    "    return provider, database\n",
    "\n",
    "####### need to add NDT, and derived table ################\n",
    "def get_true_source(dir_path, view_payload, explore, connection_map, view_map):\n",
    "    \n",
    "    if isinstance(view_payload, dict):\n",
    "\n",
    "        if view_payload['view_type'] == 'extension': \n",
    "\n",
    "            new_view_name = look_up_target_view(view_payload['source_table'], view_map=view_map)\n",
    "            with open(f'{dir_path}/../maps/{new_view_name}', 'r') as f:\n",
    "                new_view_payload = json.load(f)\n",
    "            return get_true_source(dir_path, new_view_payload, explore, connection_map, view_map)\n",
    "            \n",
    "        elif view_payload['view_type'] == 'sql_table_name': \n",
    "\n",
    "            source = view_payload['source_table']\n",
    "\n",
    "            if is_true_source(source):\n",
    "                true_source = view_payload['source_table']\n",
    "\n",
    "            else: \n",
    "                if len(source.split('.')) == 3:\n",
    "                    true_source = source\n",
    "                \n",
    "                else:\n",
    "                    provider, database = get_conn_db(explore=explore, connection_map=connection_map)\n",
    "                    if len(source.split('.')) == 2:\n",
    "                        true_source = f'{provider}.{source}'\n",
    "                    elif len(source.split('.')) == 1:\n",
    "                        true_source = f'{provider}.{database}.{source}'\n",
    "\n",
    "        elif view_payload['view_type'] == 'derived_table':\n",
    "            true_source = 'derived table'\n",
    "\n",
    "    else:\n",
    "        true_source = view_payload\n",
    "\n",
    "    return view_payload['view_name'], true_source\n"
   ]
  },
  {
   "cell_type": "code",
   "execution_count": null,
   "metadata": {},
   "outputs": [],
   "source": []
  },
  {
   "cell_type": "code",
   "execution_count": null,
   "metadata": {},
   "outputs": [],
   "source": []
  },
  {
   "cell_type": "code",
   "execution_count": 2,
   "metadata": {},
   "outputs": [],
   "source": [
    "view_content = dict()\n",
    "view_map = dict()\n",
    "for view in next(os.walk(f'../maps'))[2]:\n",
    "    if view.startswith('view'):\n",
    " \n",
    "        view_map[view.split('-')[1].split('.')[0]] = view\n",
    "        with open(f'../maps/{view}','r') as f:\n",
    "            payload = json.load(f)\n",
    "            view_content[payload['view_name']] = payload\n"
   ]
  },
  {
   "cell_type": "code",
   "execution_count": 3,
   "metadata": {},
   "outputs": [
    {
     "data": {
      "text/plain": [
       "{'sf__leads': 'view-sf__leads.json',\n",
       " 'sf__cases': 'view-sf__cases.json',\n",
       " 'sfbase__users': 'view-sfbase__users.json',\n",
       " 'total_active_node_count': 'view-total_active_node_count.json',\n",
       " 'sf__accounts': 'view-sf__accounts.json',\n",
       " 'snowflake_sf__accounts': 'view-snowflake_sf__accounts.json',\n",
       " 'sfbase__cases': 'view-sfbase__cases.json',\n",
       " 'sf__contacts': 'view-sf__contacts.json',\n",
       " 'sfbase__leads': 'view-sfbase__leads.json',\n",
       " 'sfbase__contacts': 'view-sfbase__contacts.json',\n",
       " 'sfbase__accounts': 'view-sfbase__accounts.json',\n",
       " 'sf__users': 'view-sf__users.json'}"
      ]
     },
     "execution_count": 3,
     "metadata": {},
     "output_type": "execute_result"
    }
   ],
   "source": [
    "view_map"
   ]
  },
  {
   "cell_type": "code",
   "execution_count": 5,
   "metadata": {
    "scrolled": true
   },
   "outputs": [
    {
     "ename": "NameError",
     "evalue": "name '__file__' is not defined",
     "output_type": "error",
     "traceback": [
      "\u001b[0;31m---------------------------------------------------------------------------\u001b[0m",
      "\u001b[0;31mNameError\u001b[0m                                 Traceback (most recent call last)",
      "\u001b[0;32m<ipython-input-5-cc720b5ba058>\u001b[0m in \u001b[0;36m<module>\u001b[0;34m\u001b[0m\n\u001b[0;32m----> 1\u001b[0;31m \u001b[0mget_connections\u001b[0m\u001b[0;34m(\u001b[0m\u001b[0mdomain\u001b[0m\u001b[0;34m=\u001b[0m\u001b[0;34m'https://docker.looker.com:19999'\u001b[0m\u001b[0;34m,\u001b[0m \u001b[0murl\u001b[0m\u001b[0;34m=\u001b[0m\u001b[0;34m'/api/3.1/connections'\u001b[0m\u001b[0;34m)\u001b[0m\u001b[0;34m\u001b[0m\u001b[0;34m\u001b[0m\u001b[0m\n\u001b[0m",
      "\u001b[0;32m<ipython-input-1-b9110122e7da>\u001b[0m in \u001b[0;36mget_connections\u001b[0;34m(domain, url)\u001b[0m\n\u001b[1;32m     11\u001b[0m     \u001b[0mconn_dict\u001b[0m \u001b[0;34m=\u001b[0m \u001b[0mdict\u001b[0m\u001b[0;34m(\u001b[0m\u001b[0;34m)\u001b[0m\u001b[0;34m\u001b[0m\u001b[0;34m\u001b[0m\u001b[0m\n\u001b[1;32m     12\u001b[0m \u001b[0;34m\u001b[0m\u001b[0m\n\u001b[0;32m---> 13\u001b[0;31m     \u001b[0mdir_path\u001b[0m \u001b[0;34m=\u001b[0m \u001b[0mos\u001b[0m\u001b[0;34m.\u001b[0m\u001b[0mpath\u001b[0m\u001b[0;34m.\u001b[0m\u001b[0mdirname\u001b[0m\u001b[0;34m(\u001b[0m\u001b[0mos\u001b[0m\u001b[0;34m.\u001b[0m\u001b[0mpath\u001b[0m\u001b[0;34m.\u001b[0m\u001b[0mabspath\u001b[0m\u001b[0;34m(\u001b[0m\u001b[0m__file__\u001b[0m\u001b[0;34m)\u001b[0m\u001b[0;34m)\u001b[0m\u001b[0;34m\u001b[0m\u001b[0;34m\u001b[0m\u001b[0m\n\u001b[0m\u001b[1;32m     14\u001b[0m \u001b[0;34m\u001b[0m\u001b[0m\n\u001b[1;32m     15\u001b[0m     \u001b[0;32mwith\u001b[0m \u001b[0mopen\u001b[0m\u001b[0;34m(\u001b[0m\u001b[0;34mf'{dir_path}/../.secrets/looker_secrets.json'\u001b[0m\u001b[0;34m)\u001b[0m \u001b[0;32mas\u001b[0m \u001b[0mf\u001b[0m\u001b[0;34m:\u001b[0m\u001b[0;34m\u001b[0m\u001b[0;34m\u001b[0m\u001b[0m\n",
      "\u001b[0;31mNameError\u001b[0m: name '__file__' is not defined"
     ]
    }
   ],
   "source": [
    "get_connections(domain='https://docker.looker.com:19999', url='/api/3.1/connections')"
   ]
  },
  {
   "cell_type": "code",
   "execution_count": 7,
   "metadata": {},
   "outputs": [],
   "source": [
    "domain='https://docker.looker.com:19999'\n",
    "url='/api/3.1/connections'"
   ]
  },
  {
   "cell_type": "code",
   "execution_count": 9,
   "metadata": {},
   "outputs": [],
   "source": [
    "conn_dict = dict()"
   ]
  },
  {
   "cell_type": "code",
   "execution_count": 10,
   "metadata": {},
   "outputs": [],
   "source": [
    "with open(f'../../.secrets/looker_secrets.json') as f:\n",
    "    j = json.load(f)\n",
    "\n",
    "data = {\n",
    "    'client_id': j['client_id'],\n",
    "    'client_secret': j['client_secret']\n",
    "}\n",
    "\n",
    "response = requests.post(f'{domain}/login', data=data)\n",
    "\n",
    "access_token = response.json()['access_token']\n",
    "\n",
    "headers = {\n",
    "    'Authorization': f'token {access_token}'\n",
    "}\n",
    "\n",
    "response = requests.get(domain+url, headers=headers)\n",
    "\n",
    "for r in response.json():\n",
    "    conn_dict[r['name']] = {'database': r['database'], 'type': r['dialect']['label']}"
   ]
  },
  {
   "cell_type": "code",
   "execution_count": 11,
   "metadata": {},
   "outputs": [
    {
     "data": {
      "text/plain": [
       "{'hub': {'database': 'accounts', 'type': 'PostgreSQL'},\n",
       " 'registry-hub': {'database': 'repos', 'type': 'PostgreSQL'},\n",
       " 'data_warehouse': {'database': 'production', 'type': 'Amazon Redshift'},\n",
       " 'docker_cloud': {'database': 'tutum', 'type': 'MySQL'},\n",
       " 'nautilus_db': {'database': 'nautilus', 'type': 'PostgreSQL'},\n",
       " 'restricted': {'database': 'restricted', 'type': 'Amazon Redshift'},\n",
       " 'data_warehouse_staging': {'database': 'staging', 'type': 'Amazon Redshift'},\n",
       " 'snowflake_segment': {'database': 'SEGMENT', 'type': 'Snowflake'},\n",
       " 'snowflake_production': {'database': 'PRODUCTION', 'type': 'Snowflake'},\n",
       " 'bigquery': {'database': 'clari_pulse_breakdown',\n",
       "  'type': 'Google BigQuery Standard SQL'},\n",
       " 'bigquery_production': {'database': 'finance',\n",
       "  'type': 'Google BigQuery Standard SQL'},\n",
       " 'snowflake_medium': {'database': 'PRODUCTION', 'type': 'Snowflake'},\n",
       " 'initiatives-db': {'database': 'initiatives', 'type': 'PostgreSQL'},\n",
       " 'bigquery_production_marketing': {'database': 'marketing',\n",
       "  'type': 'Google BigQuery Standard SQL'}}"
      ]
     },
     "execution_count": 11,
     "metadata": {},
     "output_type": "execute_result"
    }
   ],
   "source": [
    "conn_dict"
   ]
  },
  {
   "cell_type": "code",
   "execution_count": null,
   "metadata": {},
   "outputs": [],
   "source": []
  }
 ],
 "metadata": {
  "kernelspec": {
   "display_name": "Python 3",
   "language": "python",
   "name": "python3"
  },
  "language_info": {
   "codemirror_mode": {
    "name": "ipython",
    "version": 3
   },
   "file_extension": ".py",
   "mimetype": "text/x-python",
   "name": "python",
   "nbconvert_exporter": "python",
   "pygments_lexer": "ipython3",
   "version": "3.7.4"
  }
 },
 "nbformat": 4,
 "nbformat_minor": 2
}

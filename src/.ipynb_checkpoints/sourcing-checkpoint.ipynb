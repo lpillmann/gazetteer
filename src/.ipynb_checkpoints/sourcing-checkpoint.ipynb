{
 "cells": [
  {
   "cell_type": "code",
   "execution_count": 1,
   "metadata": {},
   "outputs": [],
   "source": [
    "from sourcing_explore import get_explore_source"
   ]
  },
  {
   "cell_type": "code",
   "execution_count": 27,
   "metadata": {},
   "outputs": [],
   "source": [
    "from sourcing_explore import get_connections, get_true_source"
   ]
  },
  {
   "cell_type": "code",
   "execution_count": 20,
   "metadata": {},
   "outputs": [],
   "source": [
    "import json\n",
    "import os"
   ]
  },
  {
   "cell_type": "code",
   "execution_count": 4,
   "metadata": {},
   "outputs": [],
   "source": [
    "connection_map = get_connections(domain='https://docker.looker.com:19999', url='/api/3.1/connections')"
   ]
  },
  {
   "cell_type": "code",
   "execution_count": 5,
   "metadata": {},
   "outputs": [
    {
     "data": {
      "text/plain": [
       "{'hub': {'database': 'accounts', 'type': 'PostgreSQL'},\n",
       " 'registry-hub': {'database': 'repos', 'type': 'PostgreSQL'},\n",
       " 'data_warehouse': {'database': 'production', 'type': 'Amazon Redshift'},\n",
       " 'docker_cloud': {'database': 'tutum', 'type': 'MySQL'},\n",
       " 'nautilus_db': {'database': 'nautilus', 'type': 'PostgreSQL'},\n",
       " 'restricted': {'database': 'restricted', 'type': 'Amazon Redshift'},\n",
       " 'data_warehouse_staging': {'database': 'staging', 'type': 'Amazon Redshift'},\n",
       " 'snowflake_segment': {'database': 'SEGMENT', 'type': 'Snowflake'},\n",
       " 'snowflake_production': {'database': 'PRODUCTION', 'type': 'Snowflake'},\n",
       " 'bigquery': {'database': 'clari_pulse_breakdown',\n",
       "  'type': 'Google BigQuery Standard SQL'},\n",
       " 'bigquery_production': {'database': 'finance',\n",
       "  'type': 'Google BigQuery Standard SQL'},\n",
       " 'snowflake_medium': {'database': 'PRODUCTION', 'type': 'Snowflake'},\n",
       " 'initiatives-db': {'database': 'initiatives', 'type': 'PostgreSQL'},\n",
       " 'bigquery_production_marketing': {'database': 'marketing',\n",
       "  'type': 'Google BigQuery Standard SQL'}}"
      ]
     },
     "execution_count": 5,
     "metadata": {},
     "output_type": "execute_result"
    }
   ],
   "source": [
    "connection_map"
   ]
  },
  {
   "cell_type": "code",
   "execution_count": 6,
   "metadata": {},
   "outputs": [],
   "source": [
    "model_folder='snowflake_salesforce'"
   ]
  },
  {
   "cell_type": "code",
   "execution_count": 11,
   "metadata": {},
   "outputs": [],
   "source": [
    "explore_file='explore-ucp_usage.json'"
   ]
  },
  {
   "cell_type": "code",
   "execution_count": 12,
   "metadata": {},
   "outputs": [
    {
     "ename": "StopIteration",
     "evalue": "",
     "output_type": "error",
     "traceback": [
      "\u001b[0;31m---------------------------------------------------------------------------\u001b[0m",
      "\u001b[0;31mStopIteration\u001b[0m                             Traceback (most recent call last)",
      "\u001b[0;32m<ipython-input-12-23d9f4ce2095>\u001b[0m in \u001b[0;36m<module>\u001b[0;34m\u001b[0m\n\u001b[0;32m----> 1\u001b[0;31m \u001b[0mget_explore_source\u001b[0m\u001b[0;34m(\u001b[0m\u001b[0mmodel_folder\u001b[0m\u001b[0;34m,\u001b[0m \u001b[0;34mf'../maps/{model_folder}/{explore_file}'\u001b[0m\u001b[0;34m,\u001b[0m \u001b[0mdir_path\u001b[0m\u001b[0;34m=\u001b[0m\u001b[0;34m''\u001b[0m\u001b[0;34m,\u001b[0m \u001b[0mconnection_map\u001b[0m\u001b[0;34m=\u001b[0m\u001b[0mconnection_map\u001b[0m\u001b[0;34m)\u001b[0m\u001b[0;34m\u001b[0m\u001b[0;34m\u001b[0m\u001b[0m\n\u001b[0m",
      "\u001b[0;32m~/Dev/gazetteer/src/sourcing_explore.py\u001b[0m in \u001b[0;36mget_explore_source\u001b[0;34m(model_name, explore_path, dir_path, connection_map)\u001b[0m\n\u001b[1;32m    109\u001b[0m     \u001b[0mview_content\u001b[0m \u001b[0;34m=\u001b[0m \u001b[0mdict\u001b[0m\u001b[0;34m(\u001b[0m\u001b[0;34m)\u001b[0m\u001b[0;34m\u001b[0m\u001b[0;34m\u001b[0m\u001b[0m\n\u001b[1;32m    110\u001b[0m     \u001b[0mview_map\u001b[0m \u001b[0;34m=\u001b[0m \u001b[0mdict\u001b[0m\u001b[0;34m(\u001b[0m\u001b[0;34m)\u001b[0m\u001b[0;34m\u001b[0m\u001b[0;34m\u001b[0m\u001b[0m\n\u001b[0;32m--> 111\u001b[0;31m     \u001b[0;32mfor\u001b[0m \u001b[0mview\u001b[0m \u001b[0;32min\u001b[0m \u001b[0mnext\u001b[0m\u001b[0;34m(\u001b[0m\u001b[0mos\u001b[0m\u001b[0;34m.\u001b[0m\u001b[0mwalk\u001b[0m\u001b[0;34m(\u001b[0m\u001b[0;34mf'{dir_path}/../maps'\u001b[0m\u001b[0;34m)\u001b[0m\u001b[0;34m)\u001b[0m\u001b[0;34m[\u001b[0m\u001b[0;36m2\u001b[0m\u001b[0;34m]\u001b[0m\u001b[0;34m:\u001b[0m\u001b[0;34m\u001b[0m\u001b[0;34m\u001b[0m\u001b[0m\n\u001b[0m\u001b[1;32m    112\u001b[0m         \u001b[0;32mif\u001b[0m \u001b[0mview\u001b[0m\u001b[0;34m.\u001b[0m\u001b[0mstartswith\u001b[0m\u001b[0;34m(\u001b[0m\u001b[0;34m'view'\u001b[0m\u001b[0;34m)\u001b[0m\u001b[0;34m:\u001b[0m\u001b[0;34m\u001b[0m\u001b[0;34m\u001b[0m\u001b[0m\n\u001b[1;32m    113\u001b[0m             \u001b[0mlogging\u001b[0m\u001b[0;34m.\u001b[0m\u001b[0minfo\u001b[0m\u001b[0;34m(\u001b[0m\u001b[0;34mf'Getting source tables for view {view}...'\u001b[0m\u001b[0;34m)\u001b[0m\u001b[0;34m\u001b[0m\u001b[0;34m\u001b[0m\u001b[0m\n",
      "\u001b[0;31mStopIteration\u001b[0m: "
     ]
    }
   ],
   "source": [
    "get_explore_source(model_folder, f'../maps/{model_folder}/{explore_file}', dir_path='', connection_map=connection_map)\n"
   ]
  },
  {
   "cell_type": "code",
   "execution_count": 22,
   "metadata": {},
   "outputs": [],
   "source": [
    "explore_path = f'../maps/{model_folder}/{explore_file}'\n",
    "model_name = model_folder\n",
    "dir_path = ''"
   ]
  },
  {
   "cell_type": "code",
   "execution_count": 28,
   "metadata": {},
   "outputs": [
    {
     "name": "stdout",
     "output_type": "stream",
     "text": [
      "view name: ucp_usage , base view name: ucp_usage, source: Snowflake.${ucp_usage_pdt.SQL_TABLE_NAME}\n"
     ]
    }
   ],
   "source": [
    "with open(explore_path, 'r') as f:\n",
    "    explore = json.load(f)\n",
    "\n",
    "view_content = dict()\n",
    "view_map = dict()\n",
    "for view in next(os.walk(f'../maps'))[2]:\n",
    "    if view.startswith('view'):\n",
    "\n",
    "        view_map[view.split('-')[1].split('.')[0]] = view\n",
    "        with open(f'../maps/{view}','r') as f:\n",
    "            payload = json.load(f)\n",
    "            view_content[payload['view_name']] = payload\n",
    "\n",
    "source_payload = dict()\n",
    "for view_name,view_payload in view_content.items():\n",
    "    \n",
    "    if view_name in explore['explore_joins']:\n",
    "        base_view_name, source_table = get_true_source(f'{dir_path}', view_payload, explore=explore, connection_map=connection_map, view_map=view_map)\n",
    "        print(f\"view name: {view_name} , base view name: {base_view_name}, source: {source_table}\")\n",
    "        source_payload[view_name] = dict()\n",
    "        source_payload[view_name]['view_name'] = base_view_name\n",
    "        source_payload[view_name]['base_view_name'] = source_table  "
   ]
  },
  {
   "cell_type": "code",
   "execution_count": 24,
   "metadata": {},
   "outputs": [
    {
     "ename": "FileNotFoundError",
     "evalue": "[Errno 2] No such file or directory: '/../maps'",
     "output_type": "error",
     "traceback": [
      "\u001b[0;31m---------------------------------------------------------------------------\u001b[0m",
      "\u001b[0;31mFileNotFoundError\u001b[0m                         Traceback (most recent call last)",
      "\u001b[0;32m<ipython-input-24-956e49150ded>\u001b[0m in \u001b[0;36m<module>\u001b[0;34m\u001b[0m\n\u001b[0;32m----> 1\u001b[0;31m \u001b[0mos\u001b[0m\u001b[0;34m.\u001b[0m\u001b[0mlistdir\u001b[0m\u001b[0;34m(\u001b[0m\u001b[0;34mf'{dir_path}/../maps'\u001b[0m\u001b[0;34m)\u001b[0m\u001b[0;34m\u001b[0m\u001b[0;34m\u001b[0m\u001b[0m\n\u001b[0m",
      "\u001b[0;31mFileNotFoundError\u001b[0m: [Errno 2] No such file or directory: '/../maps'"
     ]
    }
   ],
   "source": [
    "os.listdir(f'{dir_path}/../maps')"
   ]
  },
  {
   "cell_type": "code",
   "execution_count": null,
   "metadata": {},
   "outputs": [],
   "source": [
    "get_true_source(f'{dir_path}', view_payload, explore=explore, connection_map=connection_map, view_map=view_map)"
   ]
  }
 ],
 "metadata": {
  "kernelspec": {
   "display_name": "Python 3",
   "language": "python",
   "name": "python3"
  },
  "language_info": {
   "codemirror_mode": {
    "name": "ipython",
    "version": 3
   },
   "file_extension": ".py",
   "mimetype": "text/x-python",
   "name": "python",
   "nbconvert_exporter": "python",
   "pygments_lexer": "ipython3",
   "version": "3.7.4"
  }
 },
 "nbformat": 4,
 "nbformat_minor": 2
}

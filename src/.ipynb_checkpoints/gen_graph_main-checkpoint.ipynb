{
 "cells": [
  {
   "cell_type": "code",
   "execution_count": 1,
   "metadata": {},
   "outputs": [],
   "source": [
    "from graphviz import Digraph\n",
    "import json\n",
    "import os\n",
    "import logging\n",
    "\n",
    "\n",
    "def view_source_dependency(source_file, dir_path):\n",
    "\n",
    "    with open(f'{dir_path}/../maps/{source_file}', 'r') as f:\n",
    "        view_source = json.load(f)\n",
    "    \n",
    "    return view_source\n",
    "\n",
    "\n",
    "def gen_graph(explore_name, join_list, view_source_payload, dir_path):\n",
    "    dot = Digraph(f'{explore_name}')\n",
    "    dot.node(explore_name, explore_name)\n",
    "\n",
    "    view_list = join_list\n",
    "\n",
    "    for view in view_list:\n",
    "    \n",
    "        join_node = f'view_{view}'\n",
    "        dot.node(join_node, join_node)\n",
    "        dot.edge(explore_name, join_node)\n",
    "\n",
    "        with open(f'{dir_path}/../maps/view-{view}.json', 'r') as f:\n",
    "            payload = json.load(f)\n",
    "\n",
    "            if payload['view_type'] == 'derived_table':\n",
    "                pass\n",
    "            elif payload['view_type'] == 'extension':\n",
    "                base_node = view_source_payload[payload['view_name']]['base_view_name']\n",
    "            else:\n",
    "                base_node = payload['source_table']\n",
    "            \n",
    "            dot.node(base_node, base_node)\n",
    "            dot.edge(join_node, base_node)\n",
    "            \n",
    "    dot.render(f'{dir_path}/../graphs/{explore_name}.gv', view=False)\n",
    "    return logging.info(f'Successfully generated dependency graph for Explore {explore_name}.')\n"
   ]
  },
  {
   "cell_type": "code",
   "execution_count": 2,
   "metadata": {},
   "outputs": [],
   "source": [
    "dir_path = os.getcwd()"
   ]
  },
  {
   "cell_type": "code",
   "execution_count": 73,
   "metadata": {},
   "outputs": [],
   "source": [
    "# for model_folder in next(os.walk(f'{dir_path}/../maps'))[1]:\n",
    "model_folder = 'snowflake_salesforce'\n",
    "for map_path in ['explore-sf__accounts_history', \\\n",
    "                 'explore-sf__certifications', \\\n",
    "                 'explore-sf__leads', \\\n",
    "                 'explore-sf__opportunities_history', \\\n",
    "                 'explore-sf__pipeline_ndt']:\n",
    "\n",
    "    logging.info(f\"Generating dependency graph for explore {map_path}...\")\n",
    "    try:\n",
    "        with open(f'{dir_path}/../maps/{model_folder}/{map_path}.json', 'r') as f:\n",
    "            map_explore = json.load(f)\n",
    "            view_source = view_source_dependency(f'{model_folder}/map-model-{model_folder}-{map_path}-source.json', dir_path=dir_path)\n",
    "            gen_graph(explore_name=map_explore['explore_name'], join_list=map_explore['explore_joins'], \\\n",
    "                            view_source_payload=view_source, dir_path=dir_path)\n",
    "    except:\n",
    "        pass"
   ]
  },
  {
   "cell_type": "code",
   "execution_count": 74,
   "metadata": {},
   "outputs": [
    {
     "ename": "KeyError",
     "evalue": "'source_table'",
     "output_type": "error",
     "traceback": [
      "\u001b[0;31m---------------------------------------------------------------------------\u001b[0m",
      "\u001b[0;31mKeyError\u001b[0m                                  Traceback (most recent call last)",
      "\u001b[0;32m<ipython-input-74-965f5f505e2c>\u001b[0m in \u001b[0;36m<module>\u001b[0;34m\u001b[0m\n\u001b[1;32m      1\u001b[0m gen_graph(explore_name=map_explore['explore_name'], join_list=map_explore['explore_joins'], \\\n\u001b[0;32m----> 2\u001b[0;31m                             view_source_payload=view_source, dir_path=dir_path)\n\u001b[0m",
      "\u001b[0;32m<ipython-input-1-abf2d2f4cd15>\u001b[0m in \u001b[0;36mgen_graph\u001b[0;34m(explore_name, join_list, view_source_payload, dir_path)\u001b[0m\n\u001b[1;32m     29\u001b[0m \u001b[0;34m\u001b[0m\u001b[0m\n\u001b[1;32m     30\u001b[0m             \u001b[0;32mif\u001b[0m \u001b[0mpayload\u001b[0m\u001b[0;34m[\u001b[0m\u001b[0;34m'view_type'\u001b[0m\u001b[0;34m]\u001b[0m \u001b[0;34m!=\u001b[0m \u001b[0;34m'extension'\u001b[0m\u001b[0;34m:\u001b[0m\u001b[0;34m\u001b[0m\u001b[0;34m\u001b[0m\u001b[0m\n\u001b[0;32m---> 31\u001b[0;31m                 \u001b[0mbase_node\u001b[0m \u001b[0;34m=\u001b[0m \u001b[0mpayload\u001b[0m\u001b[0;34m[\u001b[0m\u001b[0;34m'source_table'\u001b[0m\u001b[0;34m]\u001b[0m\u001b[0;34m\u001b[0m\u001b[0;34m\u001b[0m\u001b[0m\n\u001b[0m\u001b[1;32m     32\u001b[0m             \u001b[0;32melse\u001b[0m\u001b[0;34m:\u001b[0m\u001b[0;34m\u001b[0m\u001b[0;34m\u001b[0m\u001b[0m\n\u001b[1;32m     33\u001b[0m                 \u001b[0mbase_node\u001b[0m \u001b[0;34m=\u001b[0m \u001b[0mview_source_payload\u001b[0m\u001b[0;34m[\u001b[0m\u001b[0mpayload\u001b[0m\u001b[0;34m[\u001b[0m\u001b[0;34m'view_name'\u001b[0m\u001b[0;34m]\u001b[0m\u001b[0;34m]\u001b[0m\u001b[0;34m[\u001b[0m\u001b[0;34m'base_view_name'\u001b[0m\u001b[0;34m]\u001b[0m\u001b[0;34m\u001b[0m\u001b[0;34m\u001b[0m\u001b[0m\n",
      "\u001b[0;31mKeyError\u001b[0m: 'source_table'"
     ]
    }
   ],
   "source": [
    "gen_graph(explore_name=map_explore['explore_name'], join_list=map_explore['explore_joins'], \\\n",
    "                            view_source_payload=view_source, dir_path=dir_path)"
   ]
  },
  {
   "cell_type": "code",
   "execution_count": 75,
   "metadata": {},
   "outputs": [],
   "source": [
    "join_list = map_explore['explore_joins']"
   ]
  },
  {
   "cell_type": "code",
   "execution_count": 76,
   "metadata": {},
   "outputs": [
    {
     "data": {
      "text/plain": [
       "['sf__pipeline_ndt']"
      ]
     },
     "execution_count": 76,
     "metadata": {},
     "output_type": "execute_result"
    }
   ],
   "source": [
    "join_list"
   ]
  },
  {
   "cell_type": "code",
   "execution_count": 77,
   "metadata": {},
   "outputs": [
    {
     "data": {
      "text/plain": [
       "'sf__pipeline_ndt'"
      ]
     },
     "execution_count": 77,
     "metadata": {},
     "output_type": "execute_result"
    }
   ],
   "source": [
    "explore_name = map_explore['explore_name']\n",
    "explore_name"
   ]
  },
  {
   "cell_type": "code",
   "execution_count": 78,
   "metadata": {},
   "outputs": [
    {
     "data": {
      "text/plain": [
       "{'sf__pipeline_ndt': {'view_name': 'sf__pipeline_ndt',\n",
       "  'base_view_name': 'derived table'}}"
      ]
     },
     "execution_count": 78,
     "metadata": {},
     "output_type": "execute_result"
    }
   ],
   "source": [
    "view_source_payload=view_source\n",
    "view_source_payload"
   ]
  },
  {
   "cell_type": "code",
   "execution_count": 83,
   "metadata": {},
   "outputs": [
    {
     "name": "stdout",
     "output_type": "stream",
     "text": [
      "derived_table sf__pipeline_ndt\n",
      "stripe.charges\n"
     ]
    }
   ],
   "source": [
    "view_list = join_list\n",
    "\n",
    "for view in view_list:\n",
    "\n",
    "    with open(f'{dir_path}/../maps/view-{view}.json', 'r') as f:\n",
    "        payload = json.load(f)\n",
    "        print(payload['view_type'], payload['view_name'])\n",
    "\n",
    "        if payload['view_type'] == 'derived_table':\n",
    "            pass\n",
    "        elif payload['view_type'] == 'extension':\n",
    "            base_node = view_source_payload[payload['view_name']]['base_view_name']\n",
    "        else:\n",
    "            base_node = payload['source_table']\n",
    "        print(base_node)"
   ]
  },
  {
   "cell_type": "code",
   "execution_count": null,
   "metadata": {},
   "outputs": [],
   "source": []
  }
 ],
 "metadata": {
  "kernelspec": {
   "display_name": "Python 3",
   "language": "python",
   "name": "python3"
  },
  "language_info": {
   "codemirror_mode": {
    "name": "ipython",
    "version": 3
   },
   "file_extension": ".py",
   "mimetype": "text/x-python",
   "name": "python",
   "nbconvert_exporter": "python",
   "pygments_lexer": "ipython3",
   "version": "3.7.4"
  }
 },
 "nbformat": 4,
 "nbformat_minor": 2
}

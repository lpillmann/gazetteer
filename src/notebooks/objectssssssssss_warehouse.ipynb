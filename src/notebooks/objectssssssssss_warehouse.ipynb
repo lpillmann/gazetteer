{
 "cells": [
  {
   "cell_type": "code",
   "execution_count": 1,
   "metadata": {},
   "outputs": [],
   "source": [
    "import json\n",
    "import os\n",
    "import re"
   ]
  },
  {
   "cell_type": "markdown",
   "metadata": {},
   "source": [
    "# get connection"
   ]
  },
  {
   "cell_type": "code",
   "execution_count": 2,
   "metadata": {},
   "outputs": [],
   "source": [
    "import get_connections"
   ]
  },
  {
   "cell_type": "code",
   "execution_count": 3,
   "metadata": {},
   "outputs": [],
   "source": [
    "connection_map = get_connections.main(domain='https://docker.looker.com:19999', url='/api/3.1/connections')"
   ]
  },
  {
   "cell_type": "code",
   "execution_count": 4,
   "metadata": {},
   "outputs": [
    {
     "data": {
      "text/plain": [
       "{'hub': {'database': 'accounts', 'type': 'PostgreSQL'},\n",
       " 'registry-hub': {'database': 'repos', 'type': 'PostgreSQL'},\n",
       " 'data_warehouse': {'database': 'production', 'type': 'Amazon Redshift'},\n",
       " 'docker_cloud': {'database': 'tutum', 'type': 'MySQL'},\n",
       " 'nautilus_db': {'database': 'nautilus', 'type': 'PostgreSQL'},\n",
       " 'restricted': {'database': 'restricted', 'type': 'Amazon Redshift'},\n",
       " 'data_warehouse_staging': {'database': 'staging', 'type': 'Amazon Redshift'},\n",
       " 'snowflake_segment': {'database': 'SEGMENT', 'type': 'Snowflake'},\n",
       " 'snowflake_production': {'database': 'PRODUCTION', 'type': 'Snowflake'},\n",
       " 'bigquery': {'database': 'clari_pulse_breakdown',\n",
       "  'type': 'Google BigQuery Standard SQL'},\n",
       " 'bigquery_production': {'database': 'finance',\n",
       "  'type': 'Google BigQuery Standard SQL'},\n",
       " 'snowflake_medium': {'database': 'PRODUCTION', 'type': 'Snowflake'},\n",
       " 'initiatives-db': {'database': 'initiatives', 'type': 'PostgreSQL'},\n",
       " 'bigquery_production_marketing': {'database': 'marketing',\n",
       "  'type': 'Google BigQuery Standard SQL'}}"
      ]
     },
     "execution_count": 4,
     "metadata": {},
     "output_type": "execute_result"
    }
   ],
   "source": [
    "connection_map"
   ]
  },
  {
   "cell_type": "markdown",
   "metadata": {},
   "source": [
    "# get explore"
   ]
  },
  {
   "cell_type": "code",
   "execution_count": 5,
   "metadata": {},
   "outputs": [],
   "source": [
    "with open('../../maps/explore-sample_model-sf__accounts.json', 'r') as f:\n",
    "    explore = json.load(f)"
   ]
  },
  {
   "cell_type": "code",
   "execution_count": 6,
   "metadata": {},
   "outputs": [
    {
     "data": {
      "text/plain": [
       "{'explore_name': 'sf__accounts',\n",
       " 'explore_joins': ['sf__accounts',\n",
       "  'sf__users',\n",
       "  'sf__contacts',\n",
       "  'sf__cases',\n",
       "  'sf__users'],\n",
       " 'conn': 'data_warehouse'}"
      ]
     },
     "execution_count": 6,
     "metadata": {},
     "output_type": "execute_result"
    }
   ],
   "source": [
    "explore"
   ]
  },
  {
   "cell_type": "markdown",
   "metadata": {},
   "source": [
    "# get views"
   ]
  },
  {
   "cell_type": "code",
   "execution_count": 7,
   "metadata": {},
   "outputs": [],
   "source": [
    "d = dict()"
   ]
  },
  {
   "cell_type": "code",
   "execution_count": 8,
   "metadata": {},
   "outputs": [],
   "source": [
    "view_dict = dict()"
   ]
  },
  {
   "cell_type": "code",
   "execution_count": 9,
   "metadata": {},
   "outputs": [],
   "source": [
    "for view in os.listdir('../../maps'):\n",
    "    if view.startswith('view'):\n",
    "        view_dict[view.split('-')[2].split('.')[0]] = view\n",
    "        with open(f'../../maps/{view}','r') as f:\n",
    "            payload = json.load(f)\n",
    "            d[payload['view_name']] = payload"
   ]
  },
  {
   "cell_type": "code",
   "execution_count": 65,
   "metadata": {
    "scrolled": false
   },
   "outputs": [],
   "source": [
    "[k,v] = zip(*d.items())"
   ]
  },
  {
   "cell_type": "code",
   "execution_count": 70,
   "metadata": {},
   "outputs": [
    {
     "data": {
      "text/plain": [
       "{'explore_name': 'sf__accounts',\n",
       " 'explore_joins': ['sf__accounts',\n",
       "  'sf__users',\n",
       "  'sf__contacts',\n",
       "  'sf__cases',\n",
       "  'sf__users'],\n",
       " 'conn': 'data_warehouse'}"
      ]
     },
     "execution_count": 70,
     "metadata": {},
     "output_type": "execute_result"
    }
   ],
   "source": [
    "explore"
   ]
  },
  {
   "cell_type": "code",
   "execution_count": 71,
   "metadata": {},
   "outputs": [
    {
     "data": {
      "text/plain": [
       "{'hub': {'database': 'accounts', 'type': 'PostgreSQL'},\n",
       " 'registry-hub': {'database': 'repos', 'type': 'PostgreSQL'},\n",
       " 'data_warehouse': {'database': 'production', 'type': 'Amazon Redshift'},\n",
       " 'docker_cloud': {'database': 'tutum', 'type': 'MySQL'},\n",
       " 'nautilus_db': {'database': 'nautilus', 'type': 'PostgreSQL'},\n",
       " 'restricted': {'database': 'restricted', 'type': 'Amazon Redshift'},\n",
       " 'data_warehouse_staging': {'database': 'staging', 'type': 'Amazon Redshift'},\n",
       " 'snowflake_segment': {'database': 'SEGMENT', 'type': 'Snowflake'},\n",
       " 'snowflake_production': {'database': 'PRODUCTION', 'type': 'Snowflake'},\n",
       " 'bigquery': {'database': 'clari_pulse_breakdown',\n",
       "  'type': 'Google BigQuery Standard SQL'},\n",
       " 'bigquery_production': {'database': 'finance',\n",
       "  'type': 'Google BigQuery Standard SQL'},\n",
       " 'snowflake_medium': {'database': 'PRODUCTION', 'type': 'Snowflake'},\n",
       " 'initiatives-db': {'database': 'initiatives', 'type': 'PostgreSQL'},\n",
       " 'bigquery_production_marketing': {'database': 'marketing',\n",
       "  'type': 'Google BigQuery Standard SQL'}}"
      ]
     },
     "execution_count": 71,
     "metadata": {},
     "output_type": "execute_result"
    }
   ],
   "source": [
    "connection_map"
   ]
  },
  {
   "cell_type": "code",
   "execution_count": 73,
   "metadata": {
    "scrolled": true
   },
   "outputs": [],
   "source": [
    "args = []\n",
    "for view in v:\n",
    "    args.append((view, explore, connection_map))"
   ]
  },
  {
   "cell_type": "code",
   "execution_count": 74,
   "metadata": {},
   "outputs": [
    {
     "data": {
      "text/plain": [
       "[({'view_name': 'sfbase__accounts',\n",
       "   'source_table': 'salesforce.accounts',\n",
       "   'view_type': 'sql_table_name'},\n",
       "  {'explore_name': 'sf__accounts',\n",
       "   'explore_joins': ['sf__accounts',\n",
       "    'sf__users',\n",
       "    'sf__contacts',\n",
       "    'sf__cases',\n",
       "    'sf__users'],\n",
       "   'conn': 'data_warehouse'},\n",
       "  {'hub': {'database': 'accounts', 'type': 'PostgreSQL'},\n",
       "   'registry-hub': {'database': 'repos', 'type': 'PostgreSQL'},\n",
       "   'data_warehouse': {'database': 'production', 'type': 'Amazon Redshift'},\n",
       "   'docker_cloud': {'database': 'tutum', 'type': 'MySQL'},\n",
       "   'nautilus_db': {'database': 'nautilus', 'type': 'PostgreSQL'},\n",
       "   'restricted': {'database': 'restricted', 'type': 'Amazon Redshift'},\n",
       "   'data_warehouse_staging': {'database': 'staging',\n",
       "    'type': 'Amazon Redshift'},\n",
       "   'snowflake_segment': {'database': 'SEGMENT', 'type': 'Snowflake'},\n",
       "   'snowflake_production': {'database': 'PRODUCTION', 'type': 'Snowflake'},\n",
       "   'bigquery': {'database': 'clari_pulse_breakdown',\n",
       "    'type': 'Google BigQuery Standard SQL'},\n",
       "   'bigquery_production': {'database': 'finance',\n",
       "    'type': 'Google BigQuery Standard SQL'},\n",
       "   'snowflake_medium': {'database': 'PRODUCTION', 'type': 'Snowflake'},\n",
       "   'initiatives-db': {'database': 'initiatives', 'type': 'PostgreSQL'},\n",
       "   'bigquery_production_marketing': {'database': 'marketing',\n",
       "    'type': 'Google BigQuery Standard SQL'}}),\n",
       " ({'view_name': 'sf__accounts',\n",
       "   'source_table': 'sfbase__accounts',\n",
       "   'view_type': 'extension'},\n",
       "  {'explore_name': 'sf__accounts',\n",
       "   'explore_joins': ['sf__accounts',\n",
       "    'sf__users',\n",
       "    'sf__contacts',\n",
       "    'sf__cases',\n",
       "    'sf__users'],\n",
       "   'conn': 'data_warehouse'},\n",
       "  {'hub': {'database': 'accounts', 'type': 'PostgreSQL'},\n",
       "   'registry-hub': {'database': 'repos', 'type': 'PostgreSQL'},\n",
       "   'data_warehouse': {'database': 'production', 'type': 'Amazon Redshift'},\n",
       "   'docker_cloud': {'database': 'tutum', 'type': 'MySQL'},\n",
       "   'nautilus_db': {'database': 'nautilus', 'type': 'PostgreSQL'},\n",
       "   'restricted': {'database': 'restricted', 'type': 'Amazon Redshift'},\n",
       "   'data_warehouse_staging': {'database': 'staging',\n",
       "    'type': 'Amazon Redshift'},\n",
       "   'snowflake_segment': {'database': 'SEGMENT', 'type': 'Snowflake'},\n",
       "   'snowflake_production': {'database': 'PRODUCTION', 'type': 'Snowflake'},\n",
       "   'bigquery': {'database': 'clari_pulse_breakdown',\n",
       "    'type': 'Google BigQuery Standard SQL'},\n",
       "   'bigquery_production': {'database': 'finance',\n",
       "    'type': 'Google BigQuery Standard SQL'},\n",
       "   'snowflake_medium': {'database': 'PRODUCTION', 'type': 'Snowflake'},\n",
       "   'initiatives-db': {'database': 'initiatives', 'type': 'PostgreSQL'},\n",
       "   'bigquery_production_marketing': {'database': 'marketing',\n",
       "    'type': 'Google BigQuery Standard SQL'}}),\n",
       " ({'view_name': 'snowflake_sf__accounts',\n",
       "   'source_table': 'SEGMENT.SALESFORCE.ACCOUNTS',\n",
       "   'view_type': 'sql_table_name'},\n",
       "  {'explore_name': 'sf__accounts',\n",
       "   'explore_joins': ['sf__accounts',\n",
       "    'sf__users',\n",
       "    'sf__contacts',\n",
       "    'sf__cases',\n",
       "    'sf__users'],\n",
       "   'conn': 'data_warehouse'},\n",
       "  {'hub': {'database': 'accounts', 'type': 'PostgreSQL'},\n",
       "   'registry-hub': {'database': 'repos', 'type': 'PostgreSQL'},\n",
       "   'data_warehouse': {'database': 'production', 'type': 'Amazon Redshift'},\n",
       "   'docker_cloud': {'database': 'tutum', 'type': 'MySQL'},\n",
       "   'nautilus_db': {'database': 'nautilus', 'type': 'PostgreSQL'},\n",
       "   'restricted': {'database': 'restricted', 'type': 'Amazon Redshift'},\n",
       "   'data_warehouse_staging': {'database': 'staging',\n",
       "    'type': 'Amazon Redshift'},\n",
       "   'snowflake_segment': {'database': 'SEGMENT', 'type': 'Snowflake'},\n",
       "   'snowflake_production': {'database': 'PRODUCTION', 'type': 'Snowflake'},\n",
       "   'bigquery': {'database': 'clari_pulse_breakdown',\n",
       "    'type': 'Google BigQuery Standard SQL'},\n",
       "   'bigquery_production': {'database': 'finance',\n",
       "    'type': 'Google BigQuery Standard SQL'},\n",
       "   'snowflake_medium': {'database': 'PRODUCTION', 'type': 'Snowflake'},\n",
       "   'initiatives-db': {'database': 'initiatives', 'type': 'PostgreSQL'},\n",
       "   'bigquery_production_marketing': {'database': 'marketing',\n",
       "    'type': 'Google BigQuery Standard SQL'}}),\n",
       " ({'view_name': 'total_active_node_count',\n",
       "   'view_type': 'derived_table',\n",
       "   'derived_table': [['derived_table:', '{'],\n",
       "    ['explore_source:', 'sf__opportunities', '{'],\n",
       "    ['column:', 'id', '{', 'field:', 'sf__accounts.id', '}'],\n",
       "    ['column:', 'name', '{', 'field:', 'sf__accounts.name', '}'],\n",
       "    ['column:',\n",
       "     'total_quantity',\n",
       "     '{',\n",
       "     'field:',\n",
       "     'opportunity_products.total_quantity',\n",
       "     '}'],\n",
       "    ['column:',\n",
       "     'node_type',\n",
       "     '{',\n",
       "     'field:',\n",
       "     'opportunity_products.node_type',\n",
       "     '}'],\n",
       "    ['filters:', '{'],\n",
       "    ['field:', 'opportunity_products.end_date'],\n",
       "    ['value:', '\"after', '1', 'days', 'from', 'now\"'],\n",
       "    ['}'],\n",
       "    ['filters:', '{'],\n",
       "    ['field:', 'opportunity_products.node_type'],\n",
       "    ['value:', '\"-None\"'],\n",
       "    ['}'],\n",
       "    ['filters:', '{'],\n",
       "    ['field:', 'opportunity_products.product_family'],\n",
       "    ['value:', '\"Subscription\"'],\n",
       "    ['}'],\n",
       "    ['filters:', '{'],\n",
       "    ['field:', 'sf__opportunities.is_won'],\n",
       "    ['value:', '\"Yes\"'],\n",
       "    ['}'],\n",
       "    ['}'],\n",
       "    ['}']]},\n",
       "  {'explore_name': 'sf__accounts',\n",
       "   'explore_joins': ['sf__accounts',\n",
       "    'sf__users',\n",
       "    'sf__contacts',\n",
       "    'sf__cases',\n",
       "    'sf__users'],\n",
       "   'conn': 'data_warehouse'},\n",
       "  {'hub': {'database': 'accounts', 'type': 'PostgreSQL'},\n",
       "   'registry-hub': {'database': 'repos', 'type': 'PostgreSQL'},\n",
       "   'data_warehouse': {'database': 'production', 'type': 'Amazon Redshift'},\n",
       "   'docker_cloud': {'database': 'tutum', 'type': 'MySQL'},\n",
       "   'nautilus_db': {'database': 'nautilus', 'type': 'PostgreSQL'},\n",
       "   'restricted': {'database': 'restricted', 'type': 'Amazon Redshift'},\n",
       "   'data_warehouse_staging': {'database': 'staging',\n",
       "    'type': 'Amazon Redshift'},\n",
       "   'snowflake_segment': {'database': 'SEGMENT', 'type': 'Snowflake'},\n",
       "   'snowflake_production': {'database': 'PRODUCTION', 'type': 'Snowflake'},\n",
       "   'bigquery': {'database': 'clari_pulse_breakdown',\n",
       "    'type': 'Google BigQuery Standard SQL'},\n",
       "   'bigquery_production': {'database': 'finance',\n",
       "    'type': 'Google BigQuery Standard SQL'},\n",
       "   'snowflake_medium': {'database': 'PRODUCTION', 'type': 'Snowflake'},\n",
       "   'initiatives-db': {'database': 'initiatives', 'type': 'PostgreSQL'},\n",
       "   'bigquery_production_marketing': {'database': 'marketing',\n",
       "    'type': 'Google BigQuery Standard SQL'}}),\n",
       " ({'view_name': 'sf__cases',\n",
       "   'source_table': 'sfbase__cases',\n",
       "   'view_type': 'extension'},\n",
       "  {'explore_name': 'sf__accounts',\n",
       "   'explore_joins': ['sf__accounts',\n",
       "    'sf__users',\n",
       "    'sf__contacts',\n",
       "    'sf__cases',\n",
       "    'sf__users'],\n",
       "   'conn': 'data_warehouse'},\n",
       "  {'hub': {'database': 'accounts', 'type': 'PostgreSQL'},\n",
       "   'registry-hub': {'database': 'repos', 'type': 'PostgreSQL'},\n",
       "   'data_warehouse': {'database': 'production', 'type': 'Amazon Redshift'},\n",
       "   'docker_cloud': {'database': 'tutum', 'type': 'MySQL'},\n",
       "   'nautilus_db': {'database': 'nautilus', 'type': 'PostgreSQL'},\n",
       "   'restricted': {'database': 'restricted', 'type': 'Amazon Redshift'},\n",
       "   'data_warehouse_staging': {'database': 'staging',\n",
       "    'type': 'Amazon Redshift'},\n",
       "   'snowflake_segment': {'database': 'SEGMENT', 'type': 'Snowflake'},\n",
       "   'snowflake_production': {'database': 'PRODUCTION', 'type': 'Snowflake'},\n",
       "   'bigquery': {'database': 'clari_pulse_breakdown',\n",
       "    'type': 'Google BigQuery Standard SQL'},\n",
       "   'bigquery_production': {'database': 'finance',\n",
       "    'type': 'Google BigQuery Standard SQL'},\n",
       "   'snowflake_medium': {'database': 'PRODUCTION', 'type': 'Snowflake'},\n",
       "   'initiatives-db': {'database': 'initiatives', 'type': 'PostgreSQL'},\n",
       "   'bigquery_production_marketing': {'database': 'marketing',\n",
       "    'type': 'Google BigQuery Standard SQL'}}),\n",
       " ({'view_name': 'sfbase__users',\n",
       "   'source_table': 'salesforce.users',\n",
       "   'view_type': 'sql_table_name'},\n",
       "  {'explore_name': 'sf__accounts',\n",
       "   'explore_joins': ['sf__accounts',\n",
       "    'sf__users',\n",
       "    'sf__contacts',\n",
       "    'sf__cases',\n",
       "    'sf__users'],\n",
       "   'conn': 'data_warehouse'},\n",
       "  {'hub': {'database': 'accounts', 'type': 'PostgreSQL'},\n",
       "   'registry-hub': {'database': 'repos', 'type': 'PostgreSQL'},\n",
       "   'data_warehouse': {'database': 'production', 'type': 'Amazon Redshift'},\n",
       "   'docker_cloud': {'database': 'tutum', 'type': 'MySQL'},\n",
       "   'nautilus_db': {'database': 'nautilus', 'type': 'PostgreSQL'},\n",
       "   'restricted': {'database': 'restricted', 'type': 'Amazon Redshift'},\n",
       "   'data_warehouse_staging': {'database': 'staging',\n",
       "    'type': 'Amazon Redshift'},\n",
       "   'snowflake_segment': {'database': 'SEGMENT', 'type': 'Snowflake'},\n",
       "   'snowflake_production': {'database': 'PRODUCTION', 'type': 'Snowflake'},\n",
       "   'bigquery': {'database': 'clari_pulse_breakdown',\n",
       "    'type': 'Google BigQuery Standard SQL'},\n",
       "   'bigquery_production': {'database': 'finance',\n",
       "    'type': 'Google BigQuery Standard SQL'},\n",
       "   'snowflake_medium': {'database': 'PRODUCTION', 'type': 'Snowflake'},\n",
       "   'initiatives-db': {'database': 'initiatives', 'type': 'PostgreSQL'},\n",
       "   'bigquery_production_marketing': {'database': 'marketing',\n",
       "    'type': 'Google BigQuery Standard SQL'}}),\n",
       " ({'view_name': 'sf__contacts',\n",
       "   'source_table': 'sfbase__contacts',\n",
       "   'view_type': 'extension'},\n",
       "  {'explore_name': 'sf__accounts',\n",
       "   'explore_joins': ['sf__accounts',\n",
       "    'sf__users',\n",
       "    'sf__contacts',\n",
       "    'sf__cases',\n",
       "    'sf__users'],\n",
       "   'conn': 'data_warehouse'},\n",
       "  {'hub': {'database': 'accounts', 'type': 'PostgreSQL'},\n",
       "   'registry-hub': {'database': 'repos', 'type': 'PostgreSQL'},\n",
       "   'data_warehouse': {'database': 'production', 'type': 'Amazon Redshift'},\n",
       "   'docker_cloud': {'database': 'tutum', 'type': 'MySQL'},\n",
       "   'nautilus_db': {'database': 'nautilus', 'type': 'PostgreSQL'},\n",
       "   'restricted': {'database': 'restricted', 'type': 'Amazon Redshift'},\n",
       "   'data_warehouse_staging': {'database': 'staging',\n",
       "    'type': 'Amazon Redshift'},\n",
       "   'snowflake_segment': {'database': 'SEGMENT', 'type': 'Snowflake'},\n",
       "   'snowflake_production': {'database': 'PRODUCTION', 'type': 'Snowflake'},\n",
       "   'bigquery': {'database': 'clari_pulse_breakdown',\n",
       "    'type': 'Google BigQuery Standard SQL'},\n",
       "   'bigquery_production': {'database': 'finance',\n",
       "    'type': 'Google BigQuery Standard SQL'},\n",
       "   'snowflake_medium': {'database': 'PRODUCTION', 'type': 'Snowflake'},\n",
       "   'initiatives-db': {'database': 'initiatives', 'type': 'PostgreSQL'},\n",
       "   'bigquery_production_marketing': {'database': 'marketing',\n",
       "    'type': 'Google BigQuery Standard SQL'}}),\n",
       " ({'view_name': 'sfbase__cases',\n",
       "   'source_table': 'salesforce.cases',\n",
       "   'view_type': 'sql_table_name'},\n",
       "  {'explore_name': 'sf__accounts',\n",
       "   'explore_joins': ['sf__accounts',\n",
       "    'sf__users',\n",
       "    'sf__contacts',\n",
       "    'sf__cases',\n",
       "    'sf__users'],\n",
       "   'conn': 'data_warehouse'},\n",
       "  {'hub': {'database': 'accounts', 'type': 'PostgreSQL'},\n",
       "   'registry-hub': {'database': 'repos', 'type': 'PostgreSQL'},\n",
       "   'data_warehouse': {'database': 'production', 'type': 'Amazon Redshift'},\n",
       "   'docker_cloud': {'database': 'tutum', 'type': 'MySQL'},\n",
       "   'nautilus_db': {'database': 'nautilus', 'type': 'PostgreSQL'},\n",
       "   'restricted': {'database': 'restricted', 'type': 'Amazon Redshift'},\n",
       "   'data_warehouse_staging': {'database': 'staging',\n",
       "    'type': 'Amazon Redshift'},\n",
       "   'snowflake_segment': {'database': 'SEGMENT', 'type': 'Snowflake'},\n",
       "   'snowflake_production': {'database': 'PRODUCTION', 'type': 'Snowflake'},\n",
       "   'bigquery': {'database': 'clari_pulse_breakdown',\n",
       "    'type': 'Google BigQuery Standard SQL'},\n",
       "   'bigquery_production': {'database': 'finance',\n",
       "    'type': 'Google BigQuery Standard SQL'},\n",
       "   'snowflake_medium': {'database': 'PRODUCTION', 'type': 'Snowflake'},\n",
       "   'initiatives-db': {'database': 'initiatives', 'type': 'PostgreSQL'},\n",
       "   'bigquery_production_marketing': {'database': 'marketing',\n",
       "    'type': 'Google BigQuery Standard SQL'}}),\n",
       " ({'view_name': 'sf__users',\n",
       "   'source_table': 'sfbase__users',\n",
       "   'view_type': 'extension'},\n",
       "  {'explore_name': 'sf__accounts',\n",
       "   'explore_joins': ['sf__accounts',\n",
       "    'sf__users',\n",
       "    'sf__contacts',\n",
       "    'sf__cases',\n",
       "    'sf__users'],\n",
       "   'conn': 'data_warehouse'},\n",
       "  {'hub': {'database': 'accounts', 'type': 'PostgreSQL'},\n",
       "   'registry-hub': {'database': 'repos', 'type': 'PostgreSQL'},\n",
       "   'data_warehouse': {'database': 'production', 'type': 'Amazon Redshift'},\n",
       "   'docker_cloud': {'database': 'tutum', 'type': 'MySQL'},\n",
       "   'nautilus_db': {'database': 'nautilus', 'type': 'PostgreSQL'},\n",
       "   'restricted': {'database': 'restricted', 'type': 'Amazon Redshift'},\n",
       "   'data_warehouse_staging': {'database': 'staging',\n",
       "    'type': 'Amazon Redshift'},\n",
       "   'snowflake_segment': {'database': 'SEGMENT', 'type': 'Snowflake'},\n",
       "   'snowflake_production': {'database': 'PRODUCTION', 'type': 'Snowflake'},\n",
       "   'bigquery': {'database': 'clari_pulse_breakdown',\n",
       "    'type': 'Google BigQuery Standard SQL'},\n",
       "   'bigquery_production': {'database': 'finance',\n",
       "    'type': 'Google BigQuery Standard SQL'},\n",
       "   'snowflake_medium': {'database': 'PRODUCTION', 'type': 'Snowflake'},\n",
       "   'initiatives-db': {'database': 'initiatives', 'type': 'PostgreSQL'},\n",
       "   'bigquery_production_marketing': {'database': 'marketing',\n",
       "    'type': 'Google BigQuery Standard SQL'}}),\n",
       " ({'view_name': 'sfbase__contacts',\n",
       "   'source_table': 'salesforce.contacts',\n",
       "   'view_type': 'sql_table_name'},\n",
       "  {'explore_name': 'sf__accounts',\n",
       "   'explore_joins': ['sf__accounts',\n",
       "    'sf__users',\n",
       "    'sf__contacts',\n",
       "    'sf__cases',\n",
       "    'sf__users'],\n",
       "   'conn': 'data_warehouse'},\n",
       "  {'hub': {'database': 'accounts', 'type': 'PostgreSQL'},\n",
       "   'registry-hub': {'database': 'repos', 'type': 'PostgreSQL'},\n",
       "   'data_warehouse': {'database': 'production', 'type': 'Amazon Redshift'},\n",
       "   'docker_cloud': {'database': 'tutum', 'type': 'MySQL'},\n",
       "   'nautilus_db': {'database': 'nautilus', 'type': 'PostgreSQL'},\n",
       "   'restricted': {'database': 'restricted', 'type': 'Amazon Redshift'},\n",
       "   'data_warehouse_staging': {'database': 'staging',\n",
       "    'type': 'Amazon Redshift'},\n",
       "   'snowflake_segment': {'database': 'SEGMENT', 'type': 'Snowflake'},\n",
       "   'snowflake_production': {'database': 'PRODUCTION', 'type': 'Snowflake'},\n",
       "   'bigquery': {'database': 'clari_pulse_breakdown',\n",
       "    'type': 'Google BigQuery Standard SQL'},\n",
       "   'bigquery_production': {'database': 'finance',\n",
       "    'type': 'Google BigQuery Standard SQL'},\n",
       "   'snowflake_medium': {'database': 'PRODUCTION', 'type': 'Snowflake'},\n",
       "   'initiatives-db': {'database': 'initiatives', 'type': 'PostgreSQL'},\n",
       "   'bigquery_production_marketing': {'database': 'marketing',\n",
       "    'type': 'Google BigQuery Standard SQL'}})]"
      ]
     },
     "execution_count": 74,
     "metadata": {},
     "output_type": "execute_result"
    }
   ],
   "source": [
    "args"
   ]
  },
  {
   "cell_type": "markdown",
   "metadata": {},
   "source": [
    "## type 1:  if 'view_type' == 'sql_table_name' \n",
    "- warehouse.database.table"
   ]
  },
  {
   "cell_type": "code",
   "execution_count": 27,
   "metadata": {},
   "outputs": [
    {
     "data": {
      "text/plain": [
       "{'view_name': 'snowflake_sf__accounts',\n",
       " 'source_table': 'SEGMENT.SALESFORCE.ACCOUNTS',\n",
       " 'view_type': 'sql_table_name'}"
      ]
     },
     "execution_count": 27,
     "metadata": {},
     "output_type": "execute_result"
    }
   ],
   "source": [
    "d['snowflake_sf__accounts']"
   ]
  },
  {
   "cell_type": "code",
   "execution_count": 28,
   "metadata": {},
   "outputs": [],
   "source": [
    "view_type = d['snowflake_sf__accounts']['view_type']"
   ]
  },
  {
   "cell_type": "code",
   "execution_count": 29,
   "metadata": {},
   "outputs": [],
   "source": [
    "source1 = d['snowflake_sf__accounts']['source_table']"
   ]
  },
  {
   "cell_type": "code",
   "execution_count": 30,
   "metadata": {},
   "outputs": [
    {
     "data": {
      "text/plain": [
       "'SEGMENT.SALESFORCE.ACCOUNTS'"
      ]
     },
     "execution_count": 30,
     "metadata": {},
     "output_type": "execute_result"
    }
   ],
   "source": [
    "source1"
   ]
  },
  {
   "cell_type": "markdown",
   "metadata": {},
   "source": [
    "## type 2: if 'view_type' == 'sql_table_name'\n",
    "- database.table"
   ]
  },
  {
   "cell_type": "code",
   "execution_count": 23,
   "metadata": {},
   "outputs": [],
   "source": [
    "d['sfbase__cases']\n",
    "view_type = d['sfbase__cases']\n",
    "source = d['sfbase__cases']['source_table']"
   ]
  },
  {
   "cell_type": "code",
   "execution_count": 31,
   "metadata": {},
   "outputs": [
    {
     "data": {
      "text/plain": [
       "True"
      ]
     },
     "execution_count": 31,
     "metadata": {},
     "output_type": "execute_result"
    }
   ],
   "source": [
    "bool(len(source.split('.')) < 4)"
   ]
  },
  {
   "cell_type": "markdown",
   "metadata": {},
   "source": [
    "- look for explore and connection"
   ]
  },
  {
   "cell_type": "code",
   "execution_count": 25,
   "metadata": {},
   "outputs": [],
   "source": [
    "conn = explore['conn']\n",
    "database = connection_map[conn]['database']\n",
    "provider = connection_map[conn]['type'].split(' ')[0]\n",
    "source2 = f'{provider}.{database}.{source}'"
   ]
  },
  {
   "cell_type": "code",
   "execution_count": 26,
   "metadata": {},
   "outputs": [
    {
     "data": {
      "text/plain": [
       "'Amazon.production.salesforce.cases'"
      ]
     },
     "execution_count": 26,
     "metadata": {},
     "output_type": "execute_result"
    }
   ],
   "source": [
    "source2"
   ]
  },
  {
   "cell_type": "code",
   "execution_count": 32,
   "metadata": {},
   "outputs": [
    {
     "data": {
      "text/plain": [
       "False"
      ]
     },
     "execution_count": 32,
     "metadata": {},
     "output_type": "execute_result"
    }
   ],
   "source": [
    "bool(len(source2.split('.')) < 4)"
   ]
  },
  {
   "cell_type": "code",
   "execution_count": null,
   "metadata": {},
   "outputs": [],
   "source": [
    "# d['sfbase__contacts']\n",
    "# d['sfbase__users']\n",
    "# d['sfbase__accounts']"
   ]
  },
  {
   "cell_type": "markdown",
   "metadata": {},
   "source": [
    "## type 3: if 'view_type' == 'extension'\n",
    "- extends"
   ]
  },
  {
   "cell_type": "code",
   "execution_count": 11,
   "metadata": {},
   "outputs": [
    {
     "data": {
      "text/plain": [
       "{'view_name': 'sf__contacts',\n",
       " 'source_table': 'sfbase__contacts',\n",
       " 'view_type': 'extension'}"
      ]
     },
     "execution_count": 11,
     "metadata": {},
     "output_type": "execute_result"
    }
   ],
   "source": [
    "d['sf__contacts']"
   ]
  },
  {
   "cell_type": "markdown",
   "metadata": {},
   "source": [
    "- get a mapping of file names and view names"
   ]
  },
  {
   "cell_type": "code",
   "execution_count": 12,
   "metadata": {},
   "outputs": [
    {
     "data": {
      "text/plain": [
       "{'sfbase__accounts': 'view-sf__accounts-sfbase__accounts.json',\n",
       " 'sf__accounts': 'view-sf__accounts-sf__accounts.json',\n",
       " 'snowflake_sf__accounts': 'view-sf__accounts-snowflake_sf__accounts.json',\n",
       " 'total_active_node_count': 'view-sf__accounts-total_active_node_count.json',\n",
       " 'sf__cases': 'view-sf__cases-sf__cases.json',\n",
       " 'sfbase__users': 'view-sf__users-sfbase__users.json',\n",
       " 'sf__contacts': 'view-sf__contacts-sf__contacts.json',\n",
       " 'sfbase__cases': 'view-sf__cases-sfbase__cases.json',\n",
       " 'sf__users': 'view-sf__users-sf__users.json',\n",
       " 'sfbase__contacts': 'view-sf__contacts-sfbase__contacts.json'}"
      ]
     },
     "execution_count": 12,
     "metadata": {},
     "output_type": "execute_result"
    }
   ],
   "source": [
    "view_dict"
   ]
  },
  {
   "cell_type": "code",
   "execution_count": 15,
   "metadata": {},
   "outputs": [],
   "source": [
    "new_target_file = view_dict[d['sf__contacts']['source_table']]"
   ]
  },
  {
   "cell_type": "code",
   "execution_count": 17,
   "metadata": {},
   "outputs": [
    {
     "data": {
      "text/plain": [
       "'view-sf__contacts-sfbase__contacts.json'"
      ]
     },
     "execution_count": 17,
     "metadata": {},
     "output_type": "execute_result"
    }
   ],
   "source": [
    "new_target_file"
   ]
  },
  {
   "cell_type": "code",
   "execution_count": 21,
   "metadata": {},
   "outputs": [],
   "source": [
    "with open(f'../../maps/{new_target_file}', 'r') as f:\n",
    "    source_payload = json.load(f)"
   ]
  },
  {
   "cell_type": "code",
   "execution_count": 22,
   "metadata": {},
   "outputs": [
    {
     "data": {
      "text/plain": [
       "{'view_name': 'sfbase__contacts',\n",
       " 'source_table': 'salesforce.contacts',\n",
       " 'view_type': 'sql_table_name'}"
      ]
     },
     "execution_count": 22,
     "metadata": {},
     "output_type": "execute_result"
    }
   ],
   "source": [
    "source_payload"
   ]
  },
  {
   "cell_type": "code",
   "execution_count": null,
   "metadata": {},
   "outputs": [],
   "source": []
  },
  {
   "cell_type": "code",
   "execution_count": null,
   "metadata": {},
   "outputs": [],
   "source": []
  },
  {
   "cell_type": "code",
   "execution_count": null,
   "metadata": {},
   "outputs": [],
   "source": []
  },
  {
   "cell_type": "code",
   "execution_count": null,
   "metadata": {},
   "outputs": [],
   "source": [
    "# d['sf__users']\n",
    "# d['sf__cases']\n",
    "# d['sf__accounts']"
   ]
  },
  {
   "cell_type": "markdown",
   "metadata": {},
   "source": [
    "## type 4\n",
    "- derived table"
   ]
  },
  {
   "cell_type": "code",
   "execution_count": null,
   "metadata": {},
   "outputs": [],
   "source": [
    "d['total_active_node_count']"
   ]
  },
  {
   "cell_type": "markdown",
   "metadata": {},
   "source": [
    "## type 5\n",
    "- NDT"
   ]
  },
  {
   "cell_type": "markdown",
   "metadata": {},
   "source": [
    "## Bonus: chained extension"
   ]
  },
  {
   "cell_type": "code",
   "execution_count": 33,
   "metadata": {},
   "outputs": [],
   "source": [
    "view1 = {\"view_name\": \"top_contacts\",\n",
    "    \"source_table\": \"middle_contacts\",\n",
    "    \"view_type\": \"extension\"\n",
    "    }"
   ]
  },
  {
   "cell_type": "code",
   "execution_count": 37,
   "metadata": {},
   "outputs": [],
   "source": [
    "view2 = {\"view_name\": \"middle_contacts\",\n",
    "    \"source_table\": \"bottom_contacts\",\n",
    "    \"view_type\": \"extension\"\n",
    "    }"
   ]
  },
  {
   "cell_type": "code",
   "execution_count": 38,
   "metadata": {},
   "outputs": [],
   "source": [
    "view3 = {\"view_name\": \"bottom_contacts\",\n",
    "    \"source_table\": \"base_contacts\",\n",
    "    \"view_type\": \"extension\"\n",
    "    }"
   ]
  },
  {
   "cell_type": "code",
   "execution_count": 44,
   "metadata": {},
   "outputs": [],
   "source": [
    "view4 = {\"view_name\": \"snowflake_sf__accounts\",\n",
    "    \"source_table\": \"SEGMENT.SALESFORCE.ACCOUNTS\",\n",
    "    \"view_type\": \"sql_table_name\"}"
   ]
  },
  {
   "cell_type": "code",
   "execution_count": 35,
   "metadata": {},
   "outputs": [],
   "source": [
    "view_dict = {'top_contacts': 'testing_top.json',\n",
    "             'middle_contacts': 'testing_middle.json',\n",
    "             'bottom_contacts': 'testing_bottom.json',\n",
    "             'base_contacts': 'testing_base.json'\n",
    "            }"
   ]
  },
  {
   "cell_type": "code",
   "execution_count": 39,
   "metadata": {},
   "outputs": [],
   "source": [
    "def is_base_view(view_payload):\n",
    "    return bool(view_payload['view_type'] == 'sql_table_name')"
   ]
  },
  {
   "cell_type": "code",
   "execution_count": 45,
   "metadata": {},
   "outputs": [],
   "source": [
    "view_list = [view1, view2, view3, view4]"
   ]
  },
  {
   "cell_type": "code",
   "execution_count": 46,
   "metadata": {},
   "outputs": [],
   "source": [
    "i = 0"
   ]
  },
  {
   "cell_type": "code",
   "execution_count": 49,
   "metadata": {},
   "outputs": [],
   "source": [
    "while(is_base_view(view_list[i])):\n",
    "    print(view_list[i])\n",
    "    i += 1"
   ]
  },
  {
   "cell_type": "code",
   "execution_count": 50,
   "metadata": {},
   "outputs": [
    {
     "data": {
      "text/plain": [
       "True"
      ]
     },
     "execution_count": 50,
     "metadata": {},
     "output_type": "execute_result"
    }
   ],
   "source": [
    "is_base_view(view_list[3])"
   ]
  },
  {
   "cell_type": "code",
   "execution_count": null,
   "metadata": {},
   "outputs": [],
   "source": []
  }
 ],
 "metadata": {
  "kernelspec": {
   "display_name": "Python 3",
   "language": "python",
   "name": "python3"
  },
  "language_info": {
   "codemirror_mode": {
    "name": "ipython",
    "version": 3
   },
   "file_extension": ".py",
   "mimetype": "text/x-python",
   "name": "python",
   "nbconvert_exporter": "python",
   "pygments_lexer": "ipython3",
   "version": "3.7.4"
  }
 },
 "nbformat": 4,
 "nbformat_minor": 2
}

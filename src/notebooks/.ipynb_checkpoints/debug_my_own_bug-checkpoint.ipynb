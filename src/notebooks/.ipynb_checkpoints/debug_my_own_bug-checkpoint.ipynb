{
 "cells": [
  {
   "cell_type": "code",
   "execution_count": null,
   "metadata": {},
   "outputs": [],
   "source": [
    "import json\n",
    "import os\n",
    "import re\n",
    "import get_connections\n",
    "import logging\n",
    "import time\n"
   ]
  },
  {
   "cell_type": "code",
   "execution_count": null,
   "metadata": {},
   "outputs": [],
   "source": [
    "# connection_map = {'hub': {'database': 'accounts', 'type': 'PostgreSQL'}}\n",
    "\n",
    "# explore = {'explore_name': 'sf__accounts',\n",
    "#     'explore_joins': ['sf__accounts',\n",
    "#     'sf__users',\n",
    "#     'sf__contacts',\n",
    "#     'sf__cases',\n",
    "#     'sf__users'],\n",
    "#     'conn': 'data_warehouse'\n",
    "#     }\n",
    "\n",
    "# view_payload_1 = {'view_name': 'sf__contacts',\n",
    "#     'source_table': 'sfbase__contacts',\n",
    "#     'view_type': 'extension'\n",
    "#     }\n",
    "\n",
    "# view_map = {'sfbase__accounts': 'view-sf__accounts-sfbase__accounts.json',\n",
    "#     'sf__accounts': 'view-sf__accounts-sf__accounts.json',\n",
    "#     'snowflake_sf__accounts': 'view-sf__accounts-snowflake_sf__accounts.json',\n",
    "#     'total_active_node_count': 'view-sf__accounts-total_active_node_count.json',\n",
    "#     'sf__cases': 'view-sf__cases-sf__cases.json',\n",
    "#     'sfbase__users': 'view-sf__users-sfbase__users.json',\n",
    "#     'sf__contacts': 'view-sf__contacts-sf__contacts.json',\n",
    "#     'sfbase__cases': 'view-sf__cases-sfbase__cases.json',\n",
    "#     'sf__users': 'view-sf__users-sf__users.json',\n",
    "#     'sfbase__contacts': 'view-sf__contacts-sfbase__contacts.json'\n",
    "#     }\n"
   ]
  },
  {
   "cell_type": "code",
   "execution_count": null,
   "metadata": {},
   "outputs": [],
   "source": [
    "def look_up_target_view(source_view_name, view_map):\n",
    "    target_view_payload = view_map[source_view_name]\n",
    "    return target_view_payload\n",
    "\n",
    "\n",
    "def is_true_source(source):\n",
    "    return bool(len(source.split('.')) == 4)\n",
    "\n",
    "\n",
    "def get_conn_db(explore, connection_map):\n",
    "    conn = explore['conn']\n",
    "    database = connection_map[conn]['database']\n",
    "    provider = connection_map[conn]['type'].split(' ')[0]\n",
    "    return provider, database\n",
    "\n",
    "####### need to add NDT, and derived table ################\n",
    "def get_true_source(dir_path, view_payload, explore, connection_map, view_map):\n",
    "    \n",
    "    if isinstance(view_payload, dict):\n",
    "\n",
    "        if view_payload['view_type'] == 'extension': \n",
    "\n",
    "            new_view_name = look_up_target_view(view_payload['source_table'], view_map=view_map)\n",
    "            with open(f'{dir_path}/../maps/{new_view_name}', 'r') as f:\n",
    "                new_view_payload = json.load(f)\n",
    "            return get_true_source(dir_path, new_view_payload, explore, connection_map, view_map)\n",
    "            \n",
    "        elif view_payload['view_type'] == 'sql_table_name': \n",
    "\n",
    "            source = view_payload['source_table']\n",
    "\n",
    "            if is_true_source(source):\n",
    "                true_source = view_payload['source_table']\n",
    "\n",
    "            else: \n",
    "                if len(source.split('.')) == 3:\n",
    "                    true_source = source\n",
    "                \n",
    "                else:\n",
    "                    provider, database = get_conn_db(explore=explore, connection_map=connection_map)\n",
    "                    if len(source.split('.')) == 2:\n",
    "                        true_source = f'{provider}.{source}'\n",
    "                    elif len(source.split('.')) == 1:\n",
    "                        true_source = f'{provider}.{database}.{source}'\n",
    "\n",
    "        elif view_payload['view_type'] == 'derived_table':\n",
    "            true_source = 'derived table'\n",
    "\n",
    "    else:\n",
    "        true_source = view_payload\n",
    "\n",
    "    return view_payload['view_name'], true_source\n"
   ]
  },
  {
   "cell_type": "code",
   "execution_count": null,
   "metadata": {},
   "outputs": [],
   "source": [
    "connection_map = {  'hub': {'database': 'accounts', 'type': 'PostgreSQL'},\n",
    "                    'data_warehouse': {'database': 'salesforce', 'type': 'Redshift'},\n",
    "                    'snowflake_production': {'database': 'PRODUCTION', 'type': 'Snowflake'},\n",
    "                    'snowflake_medium': {'database': 'SEGMENT', 'type': 'Snowflake'}}\n"
   ]
  },
  {
   "cell_type": "code",
   "execution_count": null,
   "metadata": {},
   "outputs": [],
   "source": [
    "with open('../../maps/explore-salesforce-sf__accounts.json', 'r') as f:\n",
    "    explore = json.load(f)\n",
    "\n",
    "view_content = dict()\n",
    "view_map = dict()\n",
    "for view in os.listdir('../../maps'):\n",
    "    if view.startswith('view'):\n",
    "        view_map[view.split('-')[2].split('.')[0]] = view\n",
    "\n",
    "        with open(f'../../maps/{view}','r') as f:\n",
    "            payload = json.load(f)\n",
    "            view_content[payload['view_name']] = payload\n"
   ]
  },
  {
   "cell_type": "code",
   "execution_count": null,
   "metadata": {},
   "outputs": [],
   "source": [
    "explore"
   ]
  },
  {
   "cell_type": "code",
   "execution_count": null,
   "metadata": {},
   "outputs": [],
   "source": [
    "view_map"
   ]
  },
  {
   "cell_type": "code",
   "execution_count": null,
   "metadata": {},
   "outputs": [],
   "source": [
    "dir_path = '..'"
   ]
  },
  {
   "cell_type": "code",
   "execution_count": null,
   "metadata": {},
   "outputs": [],
   "source": [
    "view_content"
   ]
  },
  {
   "cell_type": "code",
   "execution_count": null,
   "metadata": {},
   "outputs": [],
   "source": [
    "source_payload = dict()\n",
    "for view_name,view_payload in view_content.items():\n",
    "    logging.info(f\"Processing View source {v['view_name']}...\")\n",
    "    if view_name in explore['explore_joins']:\n",
    "        base_view_name, source_table = get_true_source(dir_path, view_payload, explore=explore, connection_map=connection_map, view_map=view_map)\n",
    "        print(f\"view name: {view_name} , base view name: {view_payload['view_name']}, source: {source_table}\")\n",
    "        source_payload[view_name] = dict()\n",
    "        source_payload[view_name]['view_name'] = view_payload['view_name']\n",
    "        source_payload[view_name]['base_view_name'] = source_table  \n",
    "\n",
    "                 "
   ]
  },
  {
   "cell_type": "code",
   "execution_count": null,
   "metadata": {},
   "outputs": [],
   "source": [
    "source_payload"
   ]
  },
  {
   "cell_type": "code",
   "execution_count": null,
   "metadata": {},
   "outputs": [],
   "source": [
    "with open(f\"../../maps/explore_{explore['explore_name']}-source.json\", 'w') as f:\n",
    "    json.dump(source_payload, f)"
   ]
  },
  {
   "cell_type": "code",
   "execution_count": null,
   "metadata": {},
   "outputs": [],
   "source": [
    "explore"
   ]
  },
  {
   "cell_type": "code",
   "execution_count": null,
   "metadata": {},
   "outputs": [],
   "source": [
    "with open(f\"../../maps/explore_{explore['explore_name']}-source.json\", \"r\") as f:\n",
    "    j = json.load(f)"
   ]
  },
  {
   "cell_type": "code",
   "execution_count": null,
   "metadata": {},
   "outputs": [],
   "source": [
    "j"
   ]
  },
  {
   "cell_type": "code",
   "execution_count": null,
   "metadata": {},
   "outputs": [],
   "source": [
    "s = 'explore-salesforce-sf__accounts.json'"
   ]
  },
  {
   "cell_type": "code",
   "execution_count": null,
   "metadata": {},
   "outputs": [],
   "source": [
    "s.startswith('explore-')"
   ]
  },
  {
   "cell_type": "code",
   "execution_count": 1,
   "metadata": {},
   "outputs": [],
   "source": [
    "import json\n",
    "import os\n",
    "import re\n",
    "import get_connections\n",
    "import logging\n",
    "import time\n",
    "\n",
    "\n",
    "def look_up_target_view(source_view_name, view_map):\n",
    "    target_view_payload = view_map[source_view_name]\n",
    "    return target_view_payload\n",
    "\n",
    "\n",
    "def is_true_source(source):\n",
    "    return bool(len(source.split('.')) == 4)\n",
    "\n",
    "\n",
    "def get_conn_db(explore, connection_map):\n",
    "    conn = explore['conn']\n",
    "    database = connection_map[conn]['database']\n",
    "    provider = connection_map[conn]['type'].split(' ')[0]\n",
    "    return provider, database\n",
    "\n",
    "####### need to add NDT, and derived table ################\n",
    "def get_true_source(dir_path, view_payload, explore, connection_map, view_map):\n",
    "    \n",
    "    if isinstance(view_payload, dict):\n",
    "\n",
    "        if view_payload['view_type'] == 'extension': \n",
    "\n",
    "            new_view_name = look_up_target_view(view_payload['source_table'], view_map=view_map)\n",
    "            with open(f'{dir_path}/../maps/{new_view_name}', 'r') as f:\n",
    "                new_view_payload = json.load(f)\n",
    "            return get_true_source(dir_path, new_view_payload, explore, connection_map, view_map)\n",
    "            \n",
    "        elif view_payload['view_type'] == 'sql_table_name': \n",
    "\n",
    "            source = view_payload['source_table']\n",
    "\n",
    "            if is_true_source(source):\n",
    "                true_source = view_payload['source_table']\n",
    "\n",
    "            else: \n",
    "                if len(source.split('.')) == 3:\n",
    "                    true_source = source\n",
    "                \n",
    "                else:\n",
    "                    provider, database = get_conn_db(explore=explore, connection_map=connection_map)\n",
    "                    if len(source.split('.')) == 2:\n",
    "                        true_source = f'{provider}.{source}'\n",
    "                    elif len(source.split('.')) == 1:\n",
    "                        true_source = f'{provider}.{database}.{source}'\n",
    "\n",
    "        elif view_payload['view_type'] == 'derived_table':\n",
    "            true_source = 'derived table'\n",
    "\n",
    "    else:\n",
    "        true_source = view_payload\n",
    "\n",
    "    return view_payload['view_name'], true_source   \n"
   ]
  },
  {
   "cell_type": "code",
   "execution_count": 2,
   "metadata": {},
   "outputs": [
    {
     "data": {
      "text/plain": [
       "['maps',\n",
       " '.DS_Store',\n",
       " 'dependency.png',\n",
       " '.secrets',\n",
       " 'models',\n",
       " 'explores',\n",
       " 'README.md',\n",
       " '.gitignore',\n",
       " 'scripts',\n",
       " 'graphs',\n",
       " '.git',\n",
       " 'views',\n",
       " 'models_looker']"
      ]
     },
     "execution_count": 2,
     "metadata": {},
     "output_type": "execute_result"
    }
   ],
   "source": [
    "os.listdir('../../')"
   ]
  },
  {
   "cell_type": "code",
   "execution_count": 20,
   "metadata": {},
   "outputs": [],
   "source": [
    "dir_path = '.'\n"
   ]
  },
  {
   "cell_type": "code",
   "execution_count": 21,
   "metadata": {},
   "outputs": [],
   "source": [
    "explore_file = f'{dir_path}/../../maps/explore-salesforce-sf__accounts.json'\n"
   ]
  },
  {
   "cell_type": "code",
   "execution_count": 22,
   "metadata": {},
   "outputs": [],
   "source": [
    "if explore_file.startswith('explore-'):\n",
    "    get_explore_source(explore_file, dir_path=dir_path)"
   ]
  },
  {
   "cell_type": "code",
   "execution_count": 23,
   "metadata": {},
   "outputs": [],
   "source": [
    "explore_path = explore_file"
   ]
  },
  {
   "cell_type": "code",
   "execution_count": 24,
   "metadata": {},
   "outputs": [],
   "source": [
    "connection_map = get_connections.main(domain='https://docker.looker.com:19999', url='/api/3.1/connections')\n",
    "    # connection_map = {  'hub': {'database': 'accounts', 'type': 'PostgreSQL'},\n",
    "    #                     'data_warehouse': {'database': 'salesforce', 'type': 'Redshift'},\n",
    "    #                     'snowflake_production': {'database': 'PRODUCTION', 'type': 'Snowflake'},\n",
    "    #                     'snowflake_medium': {'database': 'SEGMENT', 'type': 'Snowflake'}}\n",
    "\n",
    "with open(explore_path, 'r') as f:\n",
    "    explore = json.load(f)\n"
   ]
  },
  {
   "cell_type": "code",
   "execution_count": 25,
   "metadata": {},
   "outputs": [
    {
     "data": {
      "text/plain": [
       "{'explore_name': 'sf__accounts',\n",
       " 'explore_joins': ['sf__contacts', 'sf__accounts', 'sf__users', 'sf__cases'],\n",
       " 'conn': 'data_warehouse'}"
      ]
     },
     "execution_count": 25,
     "metadata": {},
     "output_type": "execute_result"
    }
   ],
   "source": [
    "explore"
   ]
  },
  {
   "cell_type": "code",
   "execution_count": 29,
   "metadata": {},
   "outputs": [
    {
     "name": "stdout",
     "output_type": "stream",
     "text": [
      "view name: sf__accounts , base view name: sfbase__accounts, source: Amazon.salesforce.accounts\n",
      "view name: sf__cases , base view name: sfbase__cases, source: Amazon.salesforce.cases\n",
      "view name: sf__contacts , base view name: sfbase__contacts, source: Amazon.salesforce.contacts\n",
      "view name: sf__users , base view name: sfbase__users, source: Amazon.salesforce.users\n"
     ]
    }
   ],
   "source": [
    "model_name = explore_path.split('-')[1]\n",
    "view_content = dict()\n",
    "view_map = dict()\n",
    "for view in os.listdir(f'{dir_path}/../../maps'):\n",
    "    if view.startswith('view'):\n",
    "        view_map[view.split('-')[2].split('.')[0]] = view\n",
    "        with open(f'{dir_path}/../../maps/{view}','r') as f:\n",
    "            payload = json.load(f)\n",
    "            view_content[payload['view_name']] = payload\n",
    "\n",
    "source_payload = dict()\n",
    "for view_name,view_payload in view_content.items():\n",
    "    logging.info(f\"Processing View source {view_payload['view_name']}...\")\n",
    "    if view_name in explore['explore_joins']:\n",
    "        base_view_name, source_table = get_true_source(f'{dir_path}/../', view_payload, explore=explore, connection_map=connection_map, view_map=view_map)\n",
    "        print(f\"view name: {view_name} , base view name: {base_view_name}, source: {source_table}\")\n",
    "        source_payload[view_name] = dict()\n",
    "        source_payload[view_name]['view_name'] = base_view_name\n",
    "        source_payload[view_name]['base_view_name'] = source_table  \n",
    "\n",
    "with open(f\"{dir_path}/../../maps/graph-model_{model_name}-explore_{explore['explore_name']}-source.json\", 'w') as f:\n",
    "    json.dump(source_payload, f)\n",
    "          "
   ]
  },
  {
   "cell_type": "code",
   "execution_count": 34,
   "metadata": {},
   "outputs": [
    {
     "data": {
      "text/plain": [
       "['__pycache__', '.ipynb_checkpoints']"
      ]
     },
     "execution_count": 34,
     "metadata": {},
     "output_type": "execute_result"
    }
   ],
   "source": [
    "next(os.walk('.'))[1]"
   ]
  },
  {
   "cell_type": "code",
   "execution_count": 35,
   "metadata": {},
   "outputs": [],
   "source": [
    "s = 'explore-sf.json'"
   ]
  },
  {
   "cell_type": "code",
   "execution_count": 39,
   "metadata": {},
   "outputs": [
    {
     "ename": "TypeError",
     "evalue": "'str' object cannot be interpreted as an integer",
     "output_type": "error",
     "traceback": [
      "\u001b[0;31m---------------------------------------------------------------------------\u001b[0m",
      "\u001b[0;31mTypeError\u001b[0m                                 Traceback (most recent call last)",
      "\u001b[0;32m<ipython-input-39-89e5876a32ad>\u001b[0m in \u001b[0;36m<module>\u001b[0;34m\u001b[0m\n\u001b[0;32m----> 1\u001b[0;31m \u001b[0ms\u001b[0m\u001b[0;34m.\u001b[0m\u001b[0msplit\u001b[0m\u001b[0;34m(\u001b[0m\u001b[0;34m'-'\u001b[0m\u001b[0;34m,\u001b[0m \u001b[0;34m'.'\u001b[0m\u001b[0;34m)\u001b[0m\u001b[0;34m\u001b[0m\u001b[0;34m\u001b[0m\u001b[0m\n\u001b[0m",
      "\u001b[0;31mTypeError\u001b[0m: 'str' object cannot be interpreted as an integer"
     ]
    }
   ],
   "source": [
    "s.split('-')"
   ]
  },
  {
   "cell_type": "code",
   "execution_count": null,
   "metadata": {},
   "outputs": [],
   "source": []
  }
 ],
 "metadata": {
  "kernelspec": {
   "display_name": "Python 3",
   "language": "python",
   "name": "python3"
  },
  "language_info": {
   "codemirror_mode": {
    "name": "ipython",
    "version": 3
   },
   "file_extension": ".py",
   "mimetype": "text/x-python",
   "name": "python",
   "nbconvert_exporter": "python",
   "pygments_lexer": "ipython3",
   "version": "3.7.4"
  }
 },
 "nbformat": 4,
 "nbformat_minor": 2
}

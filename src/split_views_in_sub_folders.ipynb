{
 "cells": [
  {
   "cell_type": "code",
   "execution_count": 1,
   "metadata": {},
   "outputs": [],
   "source": [
    "import os"
   ]
  },
  {
   "cell_type": "code",
   "execution_count": 2,
   "metadata": {},
   "outputs": [],
   "source": [
    "def has_child_folder(path):\n",
    "    if next(os.walk(path))[1] == []:\n",
    "        return False\n",
    "    else:\n",
    "        return True\n",
    "    "
   ]
  },
  {
   "cell_type": "code",
   "execution_count": 3,
   "metadata": {},
   "outputs": [],
   "source": [
    "def clean_defolderize(path):\n",
    "    for thing in next(os.walk(path))[1]:\n",
    "        if not has_child_folder(f'{path}/{thing}'):\n",
    "            for file in os.listdir(f'{path}/{thing}'):\n",
    "                os.system(f'cp {path}/{thing}/{file} {path}/{thing}-{file}')\n",
    "        else:\n",
    "            new_path = f'{path}/{thing}'\n",
    "            clean_defolderize(new_path)\n",
    "    "
   ]
  },
  {
   "cell_type": "code",
   "execution_count": 4,
   "metadata": {},
   "outputs": [],
   "source": [
    "clean_defolderize('../views/salesforce')"
   ]
  },
  {
   "cell_type": "code",
   "execution_count": null,
   "metadata": {},
   "outputs": [],
   "source": []
  },
  {
   "cell_type": "code",
   "execution_count": 5,
   "metadata": {},
   "outputs": [
    {
     "name": "stdout",
     "output_type": "stream",
     "text": [
      "view_folder is salesforce, view is _db_redshift_specific-sf__opportunity_total_revenue.view.lkml\n",
      "view_folder is salesforce, view is _db_snowflake_specific-sf__opportunity_total_revenue.view.lkml\n",
      "view_folder is salesforce, view is bizible_attribution_touchpoint.view.lkml\n",
      "view_folder is salesforce, view is account_tam_healthcheck_20181210.view.lkml\n",
      "view_folder is salesforce, view is _db_snowflake_specific-snowflake_sf__opportunities_history.view.lkml\n",
      "view_folder is salesforce, view is _db_snowflake_specific-sf__opportunity_dockercon_renewals.view.lkml\n",
      "view_folder is salesforce, view is _db_snowflake_specific-snowflake_sf__accounts_history.view.lkml\n",
      "view_folder is salesforce, view is _db_redshift_specific-sf__pipeline_ndt.view.lkml\n",
      "view_folder is salesforce, view is _db_snowflake_specific-sf__leads_and_contacts_pdt.view.lkml\n",
      "view_folder is salesforce, view is bizible_histories.view.lkml\n",
      "view_folder is salesforce, view is _db_snowflake_specific-sf__opportunities_base_pdt.view.lkml\n",
      "view_folder is salesforce, view is _db_redshift_specific-sf__opportunity_products_pdt.view.lkml\n",
      "view_folder is salesforce, view is _db_snowflake_specific-sf__opportunity_products_pdt.view.lkml\n",
      "view_folder is salesforce, view is bizible_persons.view.lkml\n",
      "view_folder is salesforce, view is _db_snowflake_specific-snowflake_sf__contacts_to_reghub_to_license.view.lkml\n",
      "view_folder is salesforce, view is _db_snowflake_specific-sf__opportunity_revenue_movements.view.lkml\n",
      "view_folder is salesforce, view is bizible_touchpoints.view.lkml\n",
      "view_folder is salesforce, view is _db_redshift_specific-sf__opportunities_base_pdt.view.lkml\n",
      "view_folder is salesforce, view is _db_snowflake_specific-sf__pipeline_ndt.view.lkml\n",
      "view_folder is salesforce, view is _db_redshift_specific-sf__opportunity_revenue_movements.view.lkml\n",
      "view_folder is salesforce, view is _db_redshift_specific-sf__leads_and_contacts_pdt.view.lkml\n"
     ]
    }
   ],
   "source": [
    "for view_folder in next(os.walk(f'../views'))[1]:\n",
    "    if not view_folder.startswith('.'):\n",
    "        for view in next(os.walk(f'../views/{view_folder}'))[2]:\n",
    "            if not view.startswith('.'):\n",
    "                print(f'view_folder is {view_folder}, view is {view}')\n",
    "#                 split_up_file(f'../views/{view_folder}/{view}', f\"\", file_type='view')\n",
    "                "
   ]
  },
  {
   "cell_type": "code",
   "execution_count": null,
   "metadata": {},
   "outputs": [],
   "source": []
  }
 ],
 "metadata": {
  "kernelspec": {
   "display_name": "Python 3",
   "language": "python",
   "name": "python3"
  },
  "language_info": {
   "codemirror_mode": {
    "name": "ipython",
    "version": 3
   },
   "file_extension": ".py",
   "mimetype": "text/x-python",
   "name": "python",
   "nbconvert_exporter": "python",
   "pygments_lexer": "ipython3",
   "version": "3.7.4"
  }
 },
 "nbformat": 4,
 "nbformat_minor": 2
}

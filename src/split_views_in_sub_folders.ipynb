{
 "cells": [
  {
   "cell_type": "code",
   "execution_count": 1,
   "metadata": {},
   "outputs": [],
   "source": [
    "import os"
   ]
  },
  {
   "cell_type": "code",
   "execution_count": 10,
   "metadata": {},
   "outputs": [
    {
     "data": {
      "text/plain": [
       "('../views/salesforce/_db_redshift_specific',\n",
       " [],\n",
       " ['sf__pipeline_ndt.view.lkml',\n",
       "  '.gitkeep',\n",
       "  'sf__opportunity_products_pdt.view.lkml',\n",
       "  'sf__opportunity_revenue_movements.view.lkml',\n",
       "  'sf__leads_and_contacts_pdt.view.lkml',\n",
       "  'sf__opportunity_total_revenue.view.lkml',\n",
       "  'sf__opportunities_base_pdt.view.lkml'])"
      ]
     },
     "execution_count": 10,
     "metadata": {},
     "output_type": "execute_result"
    }
   ],
   "source": [
    "next(os.walk('../views/salesforce/_db_redshift_specific'))[0], \\\n",
    "next(os.walk('../views/salesforce/_db_redshift_specific'))[1], \\\n",
    "next(os.walk('../views/salesforce/_db_redshift_specific'))[2]"
   ]
  },
  {
   "cell_type": "code",
   "execution_count": 4,
   "metadata": {},
   "outputs": [
    {
     "data": {
      "text/plain": [
       "['sf__leads.view.lkml',\n",
       " 'sf__opportunity_snap_20190429.view.lkml',\n",
       " 'bizible_attribution_touchpoint.view.lkml',\n",
       " 'sf__leads_and_contacts.view.lkml',\n",
       " '.DS_Store',\n",
       " 'account_tam_healthcheck_20181210.view.lkml',\n",
       " 'sf__accounts.view.lkml',\n",
       " 'sf__opportunity_field_history.view.lkml',\n",
       " 'sf__opportunities_extended.view.lkml',\n",
       " 'sf__events.view.lkml',\n",
       " 'bizible_histories.view.lkml',\n",
       " 'sf__leads_converted.view.lkml',\n",
       " 'sf__marketing_leadership.dashboard.lookml',\n",
       " '.gitkeep',\n",
       " 'sf__opportunity_products_extended.view.lkml',\n",
       " 'sf__tasks.view.lkml',\n",
       " 'sf__opportunity_customers.view.lkml',\n",
       " 'sf__cases.view.lkml',\n",
       " 'sf__certification_account.view.lkml',\n",
       " 'sf__certifications.view.lkml',\n",
       " 'sf__acv_updates.view.lkml',\n",
       " 'sf__products.view.lkml',\n",
       " 'sf__campaign_member_statuses.view.lkml',\n",
       " 'sf__opportunity_product_active_ids.view.lkml',\n",
       " 'bizible_persons.view.lkml',\n",
       " '_db_redshift_specific',\n",
       " '_db_snowflake_specific',\n",
       " 'sf__certification_oppty.view.lkml',\n",
       " 'sf__deal_registrations.view.lkml',\n",
       " 'sf__users_opportunities.view.lkml',\n",
       " 'sf__lead_history.view.lkml',\n",
       " 'sf__opportunity_contact_role_counts.view.lkml',\n",
       " 'sf__campaign_members.view.lkml',\n",
       " 'sf__users.view.lkml',\n",
       " 'bizible_touchpoints.view.lkml',\n",
       " 'sf__opportunity_history.view.lkml',\n",
       " 'sf__opportunities.view.lkml',\n",
       " 'sf__opportunity_ltm_acv.view.lkml',\n",
       " 'sf__contacts.view.lkml',\n",
       " 'sf__campaigns.view.lkml',\n",
       " 'sf__opportunity_contact_role.view.lkml',\n",
       " 'sf__lead_became_suspect_date.view.lkml',\n",
       " 'sf__opportunity_products.view.lkml',\n",
       " 'sf__opportunities_sales.view.lkml',\n",
       " 'sf__recordtypes.view.lkml',\n",
       " 'sf__case_comments.view.lkml',\n",
       " 'sf__contacts_to_reghub_to_license.view.lkml']"
      ]
     },
     "execution_count": 4,
     "metadata": {},
     "output_type": "execute_result"
    }
   ],
   "source": [
    "os.listdir('../views/salesforce')"
   ]
  },
  {
   "cell_type": "code",
   "execution_count": 23,
   "metadata": {},
   "outputs": [],
   "source": [
    "def is_folder(path):\n",
    "    if next(os.walk(path))[1] == []:\n",
    "        return False\n",
    "    else:\n",
    "        return True"
   ]
  },
  {
   "cell_type": "code",
   "execution_count": 24,
   "metadata": {},
   "outputs": [],
   "source": [
    "dir_path = '../views'"
   ]
  },
  {
   "cell_type": "code",
   "execution_count": 25,
   "metadata": {},
   "outputs": [
    {
     "data": {
      "text/plain": [
       "True"
      ]
     },
     "execution_count": 25,
     "metadata": {},
     "output_type": "execute_result"
    }
   ],
   "source": [
    "is_folder(dir_path)"
   ]
  },
  {
   "cell_type": "code",
   "execution_count": 26,
   "metadata": {
    "collapsed": true
   },
   "outputs": [
    {
     "data": {
      "text/plain": [
       "['sf__leads.view.lkml',\n",
       " 'sf__opportunity_snap_20190429.view.lkml',\n",
       " 'bizible_attribution_touchpoint.view.lkml',\n",
       " 'sf__leads_and_contacts.view.lkml',\n",
       " '.DS_Store',\n",
       " 'account_tam_healthcheck_20181210.view.lkml',\n",
       " 'sf__accounts.view.lkml',\n",
       " 'sf__opportunity_field_history.view.lkml',\n",
       " 'sf__opportunities_extended.view.lkml',\n",
       " 'sf__events.view.lkml',\n",
       " 'bizible_histories.view.lkml',\n",
       " 'sf__leads_converted.view.lkml',\n",
       " 'sf__marketing_leadership.dashboard.lookml',\n",
       " '.gitkeep',\n",
       " 'sf__opportunity_products_extended.view.lkml',\n",
       " 'sf__tasks.view.lkml',\n",
       " 'sf__opportunity_customers.view.lkml',\n",
       " 'sf__cases.view.lkml',\n",
       " 'sf__certification_account.view.lkml',\n",
       " 'sf__certifications.view.lkml',\n",
       " 'sf__acv_updates.view.lkml',\n",
       " 'sf__products.view.lkml',\n",
       " 'sf__campaign_member_statuses.view.lkml',\n",
       " 'sf__opportunity_product_active_ids.view.lkml',\n",
       " 'bizible_persons.view.lkml',\n",
       " '_db_redshift_specific',\n",
       " '_db_snowflake_specific',\n",
       " 'sf__certification_oppty.view.lkml',\n",
       " 'sf__deal_registrations.view.lkml',\n",
       " 'sf__users_opportunities.view.lkml',\n",
       " 'sf__lead_history.view.lkml',\n",
       " 'sf__opportunity_contact_role_counts.view.lkml',\n",
       " 'sf__campaign_members.view.lkml',\n",
       " 'sf__users.view.lkml',\n",
       " 'bizible_touchpoints.view.lkml',\n",
       " 'sf__opportunity_history.view.lkml',\n",
       " 'sf__opportunities.view.lkml',\n",
       " 'sf__opportunity_ltm_acv.view.lkml',\n",
       " 'sf__contacts.view.lkml',\n",
       " 'sf__campaigns.view.lkml',\n",
       " 'sf__opportunity_contact_role.view.lkml',\n",
       " 'sf__lead_became_suspect_date.view.lkml',\n",
       " 'sf__opportunity_products.view.lkml',\n",
       " 'sf__opportunities_sales.view.lkml',\n",
       " 'sf__recordtypes.view.lkml',\n",
       " 'sf__case_comments.view.lkml',\n",
       " 'sf__contacts_to_reghub_to_license.view.lkml']"
      ]
     },
     "execution_count": 26,
     "metadata": {},
     "output_type": "execute_result"
    }
   ],
   "source": [
    "os.listdir(f'{dir_path}/salesforce')"
   ]
  },
  {
   "cell_type": "code",
   "execution_count": 27,
   "metadata": {},
   "outputs": [
    {
     "data": {
      "text/plain": [
       "True"
      ]
     },
     "execution_count": 27,
     "metadata": {},
     "output_type": "execute_result"
    }
   ],
   "source": [
    "is_folder(f'{dir_path}/salesforce')"
   ]
  },
  {
   "cell_type": "code",
   "execution_count": null,
   "metadata": {},
   "outputs": [],
   "source": [
    "def clean_defolderize(path):\n",
    "    for thing in os.listdir(path):\n",
    "        if is_folder(f'{path}/{thing}'):\n",
    "#             os.system(f'rm {path}/{thing}/.DS_Store {path}/{thing}/.gitkeep')\n",
    "            clean_defolderize(f'{path}/{thing}')\n",
    "    "
   ]
  },
  {
   "cell_type": "code",
   "execution_count": null,
   "metadata": {},
   "outputs": [],
   "source": [
    "# def split_views(dir_path):\n",
    "#     # dir_path = os.path.dirname(os.path.realpath(__file__))\n",
    "#     os.system('rm ../models/.DS_Store ../explores/.DS_Store ../views/.DS_Store')\n",
    "\n",
    "#     logging.basicConfig()\n",
    "#     logging.getLogger().setLevel(logging.INFO)\n",
    "\n",
    "    # breaks down view file into separate view files based on `view` structures\n",
    "for view_folder in next(os.walk(f'{dir_path}/../views'))[1]:\n",
    "#     os.system(f'rm {dir_path}/../views/{view_folder}/.DS_Store')\n",
    "    print(view_folder)\n",
    "    for view in next(os.walk(f'{dir_path}/../views/{view_folder}'))[2]:\n",
    "#         os.system('rm .gitkeep')\n",
    "        if not view.startswith('.'):\n",
    "            split_up_file(dir_path, f'{dir_path}/../views/{view_folder}/{view}', f\"\", file_type='view')"
   ]
  }
 ],
 "metadata": {
  "kernelspec": {
   "display_name": "Python 3",
   "language": "python",
   "name": "python3"
  },
  "language_info": {
   "codemirror_mode": {
    "name": "ipython",
    "version": 3
   },
   "file_extension": ".py",
   "mimetype": "text/x-python",
   "name": "python",
   "nbconvert_exporter": "python",
   "pygments_lexer": "ipython3",
   "version": "3.7.4"
  }
 },
 "nbformat": 4,
 "nbformat_minor": 2
}

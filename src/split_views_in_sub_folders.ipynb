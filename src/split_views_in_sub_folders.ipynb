{
 "cells": [
  {
   "cell_type": "code",
   "execution_count": 1,
   "metadata": {},
   "outputs": [],
   "source": [
    "import os"
   ]
  },
  {
   "cell_type": "code",
   "execution_count": 49,
   "metadata": {},
   "outputs": [],
   "source": [
    "def has_child_folder(path):\n",
    "    if next(os.walk(path))[1] == []:\n",
    "        return False\n",
    "    else:\n",
    "        return True\n",
    "    "
   ]
  },
  {
   "cell_type": "code",
   "execution_count": 61,
   "metadata": {},
   "outputs": [],
   "source": [
    "def clean_defolderize(path):\n",
    "    for thing in next(os.walk(path))[1]:\n",
    "        if not has_child_folder(f'{path}/{thing}'):\n",
    "            for file in os.listdir(f'{path}/{thing}'):\n",
    "                os.system(f'cp {path}/{thing}/{file} {path}/{thing}-{file}')\n",
    "        else:\n",
    "            new_path = f'{path}/{thing}'\n",
    "            clean_defolderize(new_path)\n",
    "    "
   ]
  },
  {
   "cell_type": "code",
   "execution_count": 62,
   "metadata": {},
   "outputs": [],
   "source": [
    "clean_defolderize('../views/salesforce')"
   ]
  },
  {
   "cell_type": "code",
   "execution_count": null,
   "metadata": {},
   "outputs": [],
   "source": []
  },
  {
   "cell_type": "code",
   "execution_count": null,
   "metadata": {},
   "outputs": [],
   "source": [
    "# def split_views(dir_path):\n",
    "#     # dir_path = os.path.dirname(os.path.realpath(__file__))\n",
    "\n",
    "#     logging.basicConfig()\n",
    "#     logging.getLogger().setLevel(logging.INFO)\n",
    "\n",
    "    # breaks down view file into separate view files based on `view` structures\n",
    "# for view_folder in next(os.walk(f'{dir_path}/../views'))[1]:\n",
    "#     if not view_folder.startswith('.'):\n",
    "\n",
    "for view in next(os.walk(f'../views/salesforce'))[2]:\n",
    "    if not view.startswith('.'):\n",
    "        split_up_file(dir_path, f'../views/salesforce/{view}', f\"\", file_type='view')"
   ]
  }
 ],
 "metadata": {
  "kernelspec": {
   "display_name": "Python 3",
   "language": "python",
   "name": "python3"
  },
  "language_info": {
   "codemirror_mode": {
    "name": "ipython",
    "version": 3
   },
   "file_extension": ".py",
   "mimetype": "text/x-python",
   "name": "python",
   "nbconvert_exporter": "python",
   "pygments_lexer": "ipython3",
   "version": "3.7.4"
  }
 },
 "nbformat": 4,
 "nbformat_minor": 2
}

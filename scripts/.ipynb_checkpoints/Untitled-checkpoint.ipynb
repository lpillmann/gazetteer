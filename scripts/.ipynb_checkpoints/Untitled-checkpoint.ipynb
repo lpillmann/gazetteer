{
 "cells": [
  {
   "cell_type": "code",
   "execution_count": 1,
   "metadata": {},
   "outputs": [],
   "source": [
    "from sourcing_explore import get_true_source, get_connections, json, os"
   ]
  },
  {
   "cell_type": "code",
   "execution_count": 2,
   "metadata": {},
   "outputs": [],
   "source": [
    "connection_map = get_connections(domain='https://docker.looker.com:19999', url='/api/3.1/connections')\n"
   ]
  },
  {
   "cell_type": "code",
   "execution_count": 34,
   "metadata": {},
   "outputs": [],
   "source": [
    "view_map = dict()\n",
    "for view in next(os.walk('../test_folder/maps'))[2]:\n",
    "    view_map[view.split('-')[1].split('.')[0]] = view\n"
   ]
  },
  {
   "cell_type": "code",
   "execution_count": 4,
   "metadata": {},
   "outputs": [],
   "source": [
    "get_looker_conn = connection_map"
   ]
  },
  {
   "cell_type": "code",
   "execution_count": 5,
   "metadata": {},
   "outputs": [],
   "source": [
    "get_view_payload = view_content"
   ]
  },
  {
   "cell_type": "code",
   "execution_count": 6,
   "metadata": {},
   "outputs": [],
   "source": [
    "view_map = dict()\n",
    "for view in next(os.walk('../test_folder/maps'))[2]:\n",
    "    if view.startswith('view'):\n",
    "\n",
    "        view_map[view.split('-')[1].split('.')[0]] = view\n",
    "        with open(f'../test_folder/maps/{view}','r') as f:\n",
    "            payload = json.load(f)\n",
    "            view_content[payload['view_name']] = payload"
   ]
  },
  {
   "cell_type": "code",
   "execution_count": 7,
   "metadata": {},
   "outputs": [
    {
     "data": {
      "text/plain": [
       "('sfbase__accounts', 'Amazon.salesforce.accounts')"
      ]
     },
     "execution_count": 7,
     "metadata": {},
     "output_type": "execute_result"
    }
   ],
   "source": [
    "dir_path = '../test_folder'\n",
    "view_content = get_view_payload\n",
    "view_payload = view_content['sf__accounts']\n",
    "explore = {\"conn\": \"data_warehouse\", \\\n",
    "            \"explore\": [\"explore: sf__accounts {\", \"  persist_for: \\\"24 hours\\\"\", \"  label: \\\"Accounts\\\"\", \"  view_label: \\\"Accounts\\\"\", \"  sql_always_where: NOT ${sf__accounts.is_deleted} ;;\", \"\", \"  join: owner {\", \"    from: sf__users\", \"    sql_on: ${sf__accounts.owner_id} = ${owner.id} ;;\", \"    relationship: many_to_one\", \"  }\", \"\", \"  join: sf__contacts {\", \"    view_label: \\\"Contacts\\\"\", \"    sql_on: ${sf__accounts.id} = ${sf__contacts.account_id} ;;\", \"    relationship: one_to_many\", \"  }\", \"\", \"  join: sf__cases {\", \"    view_label: \\\"Cases\\\"\", \"    sql_on: ${sf__accounts.id} = ${sf__cases.account_id} ;;\", \"    relationship: one_to_many\", \"  }\", \"\", \"  join: tam {\", \"    view_label: \\\"TAM\\\"\", \"    from: sf__users\", \"    sql_on: ${sf__accounts.tam} = ${tam.id} ;;\", \"    relationship: many_to_one\", \"  }\", \"}\", \"\", \"#\", \"# Explore joins SFDC account and lead objects on an engagio determined custom field\", \"#\"], \\\n",
    "            \"explore_name\": \"sf__accounts\"}\n",
    "connection_map = get_looker_conn\n",
    "\n",
    "get_true_source(dir_path, view_payload, explore, connection_map, view_map)\n"
   ]
  },
  {
   "cell_type": "code",
   "execution_count": 8,
   "metadata": {},
   "outputs": [
    {
     "data": {
      "text/plain": [
       "{'hub': {'database': 'accounts', 'type': 'PostgreSQL'},\n",
       " 'registry-hub': {'database': 'repos', 'type': 'PostgreSQL'},\n",
       " 'data_warehouse': {'database': 'production', 'type': 'Amazon Redshift'},\n",
       " 'docker_cloud': {'database': 'tutum', 'type': 'MySQL'},\n",
       " 'nautilus_db': {'database': 'nautilus', 'type': 'PostgreSQL'},\n",
       " 'restricted': {'database': 'restricted', 'type': 'Amazon Redshift'},\n",
       " 'data_warehouse_staging': {'database': 'staging', 'type': 'Amazon Redshift'},\n",
       " 'snowflake_segment': {'database': 'SEGMENT', 'type': 'Snowflake'},\n",
       " 'snowflake_production': {'database': 'PRODUCTION', 'type': 'Snowflake'},\n",
       " 'bigquery': {'database': 'clari_pulse_breakdown',\n",
       "  'type': 'Google BigQuery Standard SQL'},\n",
       " 'bigquery_production': {'database': 'finance',\n",
       "  'type': 'Google BigQuery Standard SQL'},\n",
       " 'snowflake_medium': {'database': 'PRODUCTION', 'type': 'Snowflake'},\n",
       " 'initiatives-db': {'database': 'initiatives', 'type': 'PostgreSQL'},\n",
       " 'bigquery_production_marketing': {'database': 'marketing',\n",
       "  'type': 'Google BigQuery Standard SQL'}}"
      ]
     },
     "execution_count": 8,
     "metadata": {},
     "output_type": "execute_result"
    }
   ],
   "source": [
    "connection_map"
   ]
  },
  {
   "cell_type": "code",
   "execution_count": 15,
   "metadata": {},
   "outputs": [],
   "source": [
    "from sourcing_explore import look_up_target_view"
   ]
  },
  {
   "cell_type": "code",
   "execution_count": 16,
   "metadata": {
    "scrolled": true
   },
   "outputs": [
    {
     "data": {
      "text/plain": [
       "'view-sfbase__accounts.json'"
      ]
     },
     "execution_count": 16,
     "metadata": {},
     "output_type": "execute_result"
    }
   ],
   "source": [
    "look_up_target_view(source_view_name=view_payload['source_table'], view_map=view_map)"
   ]
  },
  {
   "cell_type": "code",
   "execution_count": 18,
   "metadata": {},
   "outputs": [],
   "source": [
    "view_content = dict()\n",
    "view_map = dict()\n",
    "view = '../test_folder/maps/view-sf__accounts.json'\n",
    "view_map[view.split('-')[1].split('.')[0]] = view\n",
    "\n",
    "with open(view,'r') as f:\n",
    "    payload = json.load(f)\n",
    "    view_content[payload['view_name']] = payload"
   ]
  },
  {
   "cell_type": "code",
   "execution_count": 24,
   "metadata": {},
   "outputs": [],
   "source": [
    "for k, v in view_content.items():\n",
    "    payload = v"
   ]
  },
  {
   "cell_type": "code",
   "execution_count": 29,
   "metadata": {},
   "outputs": [
    {
     "data": {
      "text/plain": [
       "dict_items([('sf__accounts', {'view_name': 'sf__accounts', 'source_table': 'sfbase__accounts', 'view_type': 'extension'})])"
      ]
     },
     "execution_count": 29,
     "metadata": {},
     "output_type": "execute_result"
    }
   ],
   "source": [
    "view_content.items()"
   ]
  },
  {
   "cell_type": "code",
   "execution_count": 11,
   "metadata": {},
   "outputs": [],
   "source": [
    "source_view_name = view_payload['source_table']"
   ]
  },
  {
   "cell_type": "code",
   "execution_count": 35,
   "metadata": {},
   "outputs": [
    {
     "data": {
      "text/plain": [
       "{'sf__leads': 'view-sf__leads.json',\n",
       " 'total_active_node_count': 'view-total_active_node_count.json',\n",
       " 'sf__accounts': 'view-sf__accounts.json',\n",
       " 'snowflake_sf__accounts': 'view-snowflake_sf__accounts.json',\n",
       " 'sfbase__leads': 'view-sfbase__leads.json',\n",
       " 'sfbase__accounts': 'view-sfbase__accounts.json'}"
      ]
     },
     "execution_count": 35,
     "metadata": {},
     "output_type": "execute_result"
    }
   ],
   "source": [
    "view_map"
   ]
  },
  {
   "cell_type": "code",
   "execution_count": 36,
   "metadata": {},
   "outputs": [],
   "source": [
    "target_view_payload = view_map[source_view_name]\n"
   ]
  },
  {
   "cell_type": "code",
   "execution_count": 37,
   "metadata": {},
   "outputs": [
    {
     "data": {
      "text/plain": [
       "'view-sfbase__accounts.json'"
      ]
     },
     "execution_count": 37,
     "metadata": {},
     "output_type": "execute_result"
    }
   ],
   "source": [
    "target_view_payload"
   ]
  },
  {
   "cell_type": "code",
   "execution_count": 42,
   "metadata": {},
   "outputs": [
    {
     "data": {
      "text/plain": [
       "{'view_name': 'sf__accounts',\n",
       " 'source_table': 'sfbase__accounts',\n",
       " 'view_type': 'extension'}"
      ]
     },
     "execution_count": 42,
     "metadata": {},
     "output_type": "execute_result"
    }
   ],
   "source": [
    "view_payload"
   ]
  },
  {
   "cell_type": "code",
   "execution_count": 38,
   "metadata": {},
   "outputs": [],
   "source": [
    "source = view_payload['source_table']\n"
   ]
  },
  {
   "cell_type": "code",
   "execution_count": 39,
   "metadata": {},
   "outputs": [
    {
     "data": {
      "text/plain": [
       "'sfbase__accounts'"
      ]
     },
     "execution_count": 39,
     "metadata": {},
     "output_type": "execute_result"
    }
   ],
   "source": [
    "source"
   ]
  },
  {
   "cell_type": "code",
   "execution_count": 40,
   "metadata": {},
   "outputs": [],
   "source": [
    "from sourcing_explore import is_true_source"
   ]
  },
  {
   "cell_type": "code",
   "execution_count": 45,
   "metadata": {},
   "outputs": [],
   "source": [
    "view_content = dict()\n",
    "with open('../test_folder/maps/view-sfbase__accounts.json','r') as f:\n",
    "    payload = json.load(f)\n",
    "    view_content[payload['view_name']] = payload"
   ]
  },
  {
   "cell_type": "code",
   "execution_count": 46,
   "metadata": {},
   "outputs": [
    {
     "data": {
      "text/plain": [
       "{'sfbase__accounts': {'view_name': 'sfbase__accounts',\n",
       "  'source_table': 'salesforce.accounts',\n",
       "  'view_type': 'sql_table_name'}}"
      ]
     },
     "execution_count": 46,
     "metadata": {},
     "output_type": "execute_result"
    }
   ],
   "source": [
    "view_content"
   ]
  },
  {
   "cell_type": "code",
   "execution_count": 47,
   "metadata": {},
   "outputs": [
    {
     "data": {
      "text/plain": [
       "False"
      ]
     },
     "execution_count": 47,
     "metadata": {},
     "output_type": "execute_result"
    }
   ],
   "source": [
    "is_true_source(source)"
   ]
  },
  {
   "cell_type": "code",
   "execution_count": null,
   "metadata": {},
   "outputs": [],
   "source": []
  }
 ],
 "metadata": {
  "kernelspec": {
   "display_name": "Python 3",
   "language": "python",
   "name": "python3"
  },
  "language_info": {
   "codemirror_mode": {
    "name": "ipython",
    "version": 3
   },
   "file_extension": ".py",
   "mimetype": "text/x-python",
   "name": "python",
   "nbconvert_exporter": "python",
   "pygments_lexer": "ipython3",
   "version": "3.7.4"
  }
 },
 "nbformat": 4,
 "nbformat_minor": 2
}

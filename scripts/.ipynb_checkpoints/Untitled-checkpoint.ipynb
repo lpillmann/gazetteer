{
 "cells": [
  {
   "cell_type": "code",
   "execution_count": 4,
   "metadata": {},
   "outputs": [],
   "source": [
    "from sourcing_explore import get_true_source, get_connections, json, os"
   ]
  },
  {
   "cell_type": "code",
   "execution_count": 5,
   "metadata": {},
   "outputs": [],
   "source": [
    "connection_map = get_connections(domain='https://docker.looker.com:19999', url='/api/3.1/connections')\n"
   ]
  },
  {
   "cell_type": "code",
   "execution_count": 6,
   "metadata": {},
   "outputs": [],
   "source": [
    "view_map = dict()\n",
    "for view in next(os.walk('../test_folder/maps'))[2]:\n",
    "    view_map[view.split('-')[1].split('.')[0]] = view\n"
   ]
  },
  {
   "cell_type": "code",
   "execution_count": 17,
   "metadata": {},
   "outputs": [],
   "source": [
    "get_looker_conn = connection_map"
   ]
  },
  {
   "cell_type": "code",
   "execution_count": 18,
   "metadata": {},
   "outputs": [],
   "source": [
    "get_view_payload = view_content"
   ]
  },
  {
   "cell_type": "code",
   "execution_count": 19,
   "metadata": {},
   "outputs": [],
   "source": [
    "view_map = dict()\n",
    "for view in next(os.walk('../test_folder/maps'))[2]:\n",
    "    if view.startswith('view'):\n",
    "\n",
    "        view_map[view.split('-')[1].split('.')[0]] = view\n",
    "        with open(f'../test_folder/maps/{view}','r') as f:\n",
    "            payload = json.load(f)\n",
    "            view_content[payload['view_name']] = payload"
   ]
  },
  {
   "cell_type": "code",
   "execution_count": 20,
   "metadata": {},
   "outputs": [
    {
     "data": {
      "text/plain": [
       "('sfbase__accounts', 'Redshift.salesforce.accounts')"
      ]
     },
     "execution_count": 20,
     "metadata": {},
     "output_type": "execute_result"
    }
   ],
   "source": [
    "dir_path = '../test_folder'\n",
    "view_content = get_view_payload\n",
    "view_payload = view_content['sf__accounts']\n",
    "explore = {\"conn\": \"data_warehouse\", \\\n",
    "            \"explore\": [\"explore: sf__accounts {\", \"  persist_for: \\\"24 hours\\\"\", \"  label: \\\"Accounts\\\"\", \"  view_label: \\\"Accounts\\\"\", \"  sql_always_where: NOT ${sf__accounts.is_deleted} ;;\", \"\", \"  join: owner {\", \"    from: sf__users\", \"    sql_on: ${sf__accounts.owner_id} = ${owner.id} ;;\", \"    relationship: many_to_one\", \"  }\", \"\", \"  join: sf__contacts {\", \"    view_label: \\\"Contacts\\\"\", \"    sql_on: ${sf__accounts.id} = ${sf__contacts.account_id} ;;\", \"    relationship: one_to_many\", \"  }\", \"\", \"  join: sf__cases {\", \"    view_label: \\\"Cases\\\"\", \"    sql_on: ${sf__accounts.id} = ${sf__cases.account_id} ;;\", \"    relationship: one_to_many\", \"  }\", \"\", \"  join: tam {\", \"    view_label: \\\"TAM\\\"\", \"    from: sf__users\", \"    sql_on: ${sf__accounts.tam} = ${tam.id} ;;\", \"    relationship: many_to_one\", \"  }\", \"}\", \"\", \"#\", \"# Explore joins SFDC account and lead objects on an engagio determined custom field\", \"#\"], \\\n",
    "            \"explore_name\": \"sf__accounts\"}\n",
    "connection_map = get_looker_conn\n",
    "\n",
    "get_true_source(dir_path, view_payload, explore, connection_map, view_map)\n"
   ]
  },
  {
   "cell_type": "code",
   "execution_count": 21,
   "metadata": {},
   "outputs": [
    {
     "data": {
      "text/plain": [
       "{'hub': {'database': 'accounts', 'type': 'PostgreSQL'},\n",
       " 'registry-hub': {'database': 'repos', 'type': 'PostgreSQL'},\n",
       " 'data_warehouse': {'database': 'production', 'type': 'Amazon Redshift'},\n",
       " 'docker_cloud': {'database': 'tutum', 'type': 'MySQL'},\n",
       " 'nautilus_db': {'database': 'nautilus', 'type': 'PostgreSQL'},\n",
       " 'restricted': {'database': 'restricted', 'type': 'Amazon Redshift'},\n",
       " 'data_warehouse_staging': {'database': 'staging', 'type': 'Amazon Redshift'},\n",
       " 'snowflake_segment': {'database': 'SEGMENT', 'type': 'Snowflake'},\n",
       " 'snowflake_production': {'database': 'PRODUCTION', 'type': 'Snowflake'},\n",
       " 'bigquery': {'database': 'clari_pulse_breakdown',\n",
       "  'type': 'Google BigQuery Standard SQL'},\n",
       " 'bigquery_production': {'database': 'finance',\n",
       "  'type': 'Google BigQuery Standard SQL'},\n",
       " 'snowflake_medium': {'database': 'PRODUCTION', 'type': 'Snowflake'},\n",
       " 'initiatives-db': {'database': 'initiatives', 'type': 'PostgreSQL'},\n",
       " 'bigquery_production_marketing': {'database': 'marketing',\n",
       "  'type': 'Google BigQuery Standard SQL'}}"
      ]
     },
     "execution_count": 21,
     "metadata": {},
     "output_type": "execute_result"
    }
   ],
   "source": [
    "connection_map"
   ]
  },
  {
   "cell_type": "code",
   "execution_count": 22,
   "metadata": {},
   "outputs": [],
   "source": [
    "from sourcing_explore import look_up_target_view"
   ]
  },
  {
   "cell_type": "code",
   "execution_count": 23,
   "metadata": {
    "scrolled": true
   },
   "outputs": [
    {
     "data": {
      "text/plain": [
       "'view-sfbase__accounts.json'"
      ]
     },
     "execution_count": 23,
     "metadata": {},
     "output_type": "execute_result"
    }
   ],
   "source": [
    "look_up_target_view(source_view_name=view_payload['source_table'], view_map=view_map)"
   ]
  },
  {
   "cell_type": "code",
   "execution_count": 24,
   "metadata": {},
   "outputs": [],
   "source": [
    "view_content = dict()\n",
    "view_map = dict()\n",
    "view = '../test_folder/maps/view-sf__accounts.json'\n",
    "view_map[view.split('-')[1].split('.')[0]] = view\n",
    "\n",
    "with open(view,'r') as f:\n",
    "    payload = json.load(f)\n",
    "    view_content[payload['view_name']] = payload"
   ]
  },
  {
   "cell_type": "code",
   "execution_count": 25,
   "metadata": {},
   "outputs": [],
   "source": [
    "for k, v in view_content.items():\n",
    "    payload = v"
   ]
  },
  {
   "cell_type": "code",
   "execution_count": 26,
   "metadata": {},
   "outputs": [
    {
     "data": {
      "text/plain": [
       "dict_items([('sf__accounts', {'view_name': 'sf__accounts', 'source_table': 'sfbase__accounts', 'view_type': 'extension'})])"
      ]
     },
     "execution_count": 26,
     "metadata": {},
     "output_type": "execute_result"
    }
   ],
   "source": [
    "view_content.items()"
   ]
  },
  {
   "cell_type": "code",
   "execution_count": 27,
   "metadata": {},
   "outputs": [],
   "source": [
    "source_view_name = view_payload['source_table']"
   ]
  },
  {
   "cell_type": "code",
   "execution_count": 28,
   "metadata": {},
   "outputs": [
    {
     "data": {
      "text/plain": [
       "{'sf__accounts': '../test_folder/maps/view-sf__accounts.json'}"
      ]
     },
     "execution_count": 28,
     "metadata": {},
     "output_type": "execute_result"
    }
   ],
   "source": [
    "view_map"
   ]
  },
  {
   "cell_type": "code",
   "execution_count": 29,
   "metadata": {},
   "outputs": [
    {
     "ename": "KeyError",
     "evalue": "'sfbase__accounts'",
     "output_type": "error",
     "traceback": [
      "\u001b[0;31m---------------------------------------------------------------------------\u001b[0m",
      "\u001b[0;31mKeyError\u001b[0m                                  Traceback (most recent call last)",
      "\u001b[0;32m<ipython-input-29-d2812e67b3be>\u001b[0m in \u001b[0;36m<module>\u001b[0;34m\u001b[0m\n\u001b[0;32m----> 1\u001b[0;31m \u001b[0mtarget_view_payload\u001b[0m \u001b[0;34m=\u001b[0m \u001b[0mview_map\u001b[0m\u001b[0;34m[\u001b[0m\u001b[0msource_view_name\u001b[0m\u001b[0;34m]\u001b[0m\u001b[0;34m\u001b[0m\u001b[0;34m\u001b[0m\u001b[0m\n\u001b[0m",
      "\u001b[0;31mKeyError\u001b[0m: 'sfbase__accounts'"
     ]
    }
   ],
   "source": [
    "target_view_payload = view_map[source_view_name]\n"
   ]
  },
  {
   "cell_type": "code",
   "execution_count": 30,
   "metadata": {},
   "outputs": [
    {
     "ename": "NameError",
     "evalue": "name 'target_view_payload' is not defined",
     "output_type": "error",
     "traceback": [
      "\u001b[0;31m---------------------------------------------------------------------------\u001b[0m",
      "\u001b[0;31mNameError\u001b[0m                                 Traceback (most recent call last)",
      "\u001b[0;32m<ipython-input-30-a5a82c4a2603>\u001b[0m in \u001b[0;36m<module>\u001b[0;34m\u001b[0m\n\u001b[0;32m----> 1\u001b[0;31m \u001b[0mtarget_view_payload\u001b[0m\u001b[0;34m\u001b[0m\u001b[0;34m\u001b[0m\u001b[0m\n\u001b[0m",
      "\u001b[0;31mNameError\u001b[0m: name 'target_view_payload' is not defined"
     ]
    }
   ],
   "source": [
    "target_view_payload"
   ]
  },
  {
   "cell_type": "code",
   "execution_count": 31,
   "metadata": {},
   "outputs": [
    {
     "data": {
      "text/plain": [
       "{'view_name': 'sf__accounts',\n",
       " 'source_table': 'sfbase__accounts',\n",
       " 'view_type': 'extension'}"
      ]
     },
     "execution_count": 31,
     "metadata": {},
     "output_type": "execute_result"
    }
   ],
   "source": [
    "view_payload"
   ]
  },
  {
   "cell_type": "code",
   "execution_count": 32,
   "metadata": {},
   "outputs": [],
   "source": [
    "from sourcing_explore import is_true_source"
   ]
  },
  {
   "cell_type": "code",
   "execution_count": 33,
   "metadata": {},
   "outputs": [],
   "source": [
    "view_content = dict()\n",
    "with open('../test_folder/maps/view-snowflake_sf__accounts.json','r') as f:\n",
    "    payload = json.load(f)\n",
    "    view_content[payload['view_name']] = payload"
   ]
  },
  {
   "cell_type": "code",
   "execution_count": 34,
   "metadata": {},
   "outputs": [
    {
     "data": {
      "text/plain": [
       "{'snowflake_sf__accounts': {'view_name': 'snowflake_sf__accounts',\n",
       "  'source_table': 'SEGMENT.SALESFORCE.ACCOUNTS',\n",
       "  'view_type': 'sql_table_name'}}"
      ]
     },
     "execution_count": 34,
     "metadata": {},
     "output_type": "execute_result"
    }
   ],
   "source": [
    "view_content"
   ]
  },
  {
   "cell_type": "code",
   "execution_count": 35,
   "metadata": {},
   "outputs": [],
   "source": [
    "view_payload = view_content['snowflake_sf__accounts']"
   ]
  },
  {
   "cell_type": "code",
   "execution_count": 36,
   "metadata": {},
   "outputs": [],
   "source": [
    "source = view_payload['source_table']"
   ]
  },
  {
   "cell_type": "code",
   "execution_count": 37,
   "metadata": {
    "scrolled": true
   },
   "outputs": [
    {
     "data": {
      "text/plain": [
       "True"
      ]
     },
     "execution_count": 37,
     "metadata": {},
     "output_type": "execute_result"
    }
   ],
   "source": [
    "is_true_source(source)"
   ]
  },
  {
   "cell_type": "code",
   "execution_count": 38,
   "metadata": {},
   "outputs": [],
   "source": [
    "from sourcing_explore import get_conn_db"
   ]
  },
  {
   "cell_type": "code",
   "execution_count": 39,
   "metadata": {},
   "outputs": [
    {
     "data": {
      "text/plain": [
       "{'conn': 'data_warehouse',\n",
       " 'explore': ['explore: sf__accounts {',\n",
       "  '  persist_for: \"24 hours\"',\n",
       "  '  label: \"Accounts\"',\n",
       "  '  view_label: \"Accounts\"',\n",
       "  '  sql_always_where: NOT ${sf__accounts.is_deleted} ;;',\n",
       "  '',\n",
       "  '  join: owner {',\n",
       "  '    from: sf__users',\n",
       "  '    sql_on: ${sf__accounts.owner_id} = ${owner.id} ;;',\n",
       "  '    relationship: many_to_one',\n",
       "  '  }',\n",
       "  '',\n",
       "  '  join: sf__contacts {',\n",
       "  '    view_label: \"Contacts\"',\n",
       "  '    sql_on: ${sf__accounts.id} = ${sf__contacts.account_id} ;;',\n",
       "  '    relationship: one_to_many',\n",
       "  '  }',\n",
       "  '',\n",
       "  '  join: sf__cases {',\n",
       "  '    view_label: \"Cases\"',\n",
       "  '    sql_on: ${sf__accounts.id} = ${sf__cases.account_id} ;;',\n",
       "  '    relationship: one_to_many',\n",
       "  '  }',\n",
       "  '',\n",
       "  '  join: tam {',\n",
       "  '    view_label: \"TAM\"',\n",
       "  '    from: sf__users',\n",
       "  '    sql_on: ${sf__accounts.tam} = ${tam.id} ;;',\n",
       "  '    relationship: many_to_one',\n",
       "  '  }',\n",
       "  '}',\n",
       "  '',\n",
       "  '#',\n",
       "  '# Explore joins SFDC account and lead objects on an engagio determined custom field',\n",
       "  '#'],\n",
       " 'explore_name': 'sf__accounts'}"
      ]
     },
     "execution_count": 39,
     "metadata": {},
     "output_type": "execute_result"
    }
   ],
   "source": [
    "explore"
   ]
  },
  {
   "cell_type": "code",
   "execution_count": 40,
   "metadata": {},
   "outputs": [
    {
     "data": {
      "text/plain": [
       "{'hub': {'database': 'accounts', 'type': 'PostgreSQL'},\n",
       " 'registry-hub': {'database': 'repos', 'type': 'PostgreSQL'},\n",
       " 'data_warehouse': {'database': 'production', 'type': 'Amazon Redshift'},\n",
       " 'docker_cloud': {'database': 'tutum', 'type': 'MySQL'},\n",
       " 'nautilus_db': {'database': 'nautilus', 'type': 'PostgreSQL'},\n",
       " 'restricted': {'database': 'restricted', 'type': 'Amazon Redshift'},\n",
       " 'data_warehouse_staging': {'database': 'staging', 'type': 'Amazon Redshift'},\n",
       " 'snowflake_segment': {'database': 'SEGMENT', 'type': 'Snowflake'},\n",
       " 'snowflake_production': {'database': 'PRODUCTION', 'type': 'Snowflake'},\n",
       " 'bigquery': {'database': 'clari_pulse_breakdown',\n",
       "  'type': 'Google BigQuery Standard SQL'},\n",
       " 'bigquery_production': {'database': 'finance',\n",
       "  'type': 'Google BigQuery Standard SQL'},\n",
       " 'snowflake_medium': {'database': 'PRODUCTION', 'type': 'Snowflake'},\n",
       " 'initiatives-db': {'database': 'initiatives', 'type': 'PostgreSQL'},\n",
       " 'bigquery_production_marketing': {'database': 'marketing',\n",
       "  'type': 'Google BigQuery Standard SQL'}}"
      ]
     },
     "execution_count": 40,
     "metadata": {},
     "output_type": "execute_result"
    }
   ],
   "source": [
    "connection_map"
   ]
  },
  {
   "cell_type": "code",
   "execution_count": 41,
   "metadata": {},
   "outputs": [
    {
     "data": {
      "text/plain": [
       "('Redshift', 'production')"
      ]
     },
     "execution_count": 41,
     "metadata": {},
     "output_type": "execute_result"
    }
   ],
   "source": [
    "get_conn_db(explore=explore, connection_map=connection_map)"
   ]
  },
  {
   "cell_type": "code",
   "execution_count": 42,
   "metadata": {},
   "outputs": [],
   "source": [
    "from sourcing_explore import get_explore_source"
   ]
  },
  {
   "cell_type": "code",
   "execution_count": 43,
   "metadata": {},
   "outputs": [],
   "source": [
    "model_name = 'salesforce'\n",
    "explore_path = '../maps/salesforce/explore-sf__accounts.json'\n",
    "dir_path = '..'"
   ]
  },
  {
   "cell_type": "code",
   "execution_count": 44,
   "metadata": {},
   "outputs": [
    {
     "ename": "StopIteration",
     "evalue": "",
     "output_type": "error",
     "traceback": [
      "\u001b[0;31m---------------------------------------------------------------------------\u001b[0m",
      "\u001b[0;31mStopIteration\u001b[0m                             Traceback (most recent call last)",
      "\u001b[0;32m<ipython-input-44-18dc13198690>\u001b[0m in \u001b[0;36m<module>\u001b[0;34m\u001b[0m\n\u001b[0;32m----> 1\u001b[0;31m \u001b[0mget_explore_source\u001b[0m\u001b[0;34m(\u001b[0m\u001b[0mmodel_name\u001b[0m\u001b[0;34m,\u001b[0m \u001b[0mexplore_path\u001b[0m\u001b[0;34m,\u001b[0m \u001b[0mdir_path\u001b[0m\u001b[0;34m)\u001b[0m\u001b[0;34m\u001b[0m\u001b[0;34m\u001b[0m\u001b[0m\n\u001b[0m",
      "\u001b[0;32m~/Dev/gazetteer/scripts/sourcing_explore.py\u001b[0m in \u001b[0;36mget_explore_source\u001b[0;34m(model_name, explore_path, dir_path)\u001b[0m\n\u001b[1;32m    109\u001b[0m     \u001b[0mview_content\u001b[0m \u001b[0;34m=\u001b[0m \u001b[0mdict\u001b[0m\u001b[0;34m(\u001b[0m\u001b[0;34m)\u001b[0m\u001b[0;34m\u001b[0m\u001b[0;34m\u001b[0m\u001b[0m\n\u001b[1;32m    110\u001b[0m     \u001b[0mview_map\u001b[0m \u001b[0;34m=\u001b[0m \u001b[0mdict\u001b[0m\u001b[0;34m(\u001b[0m\u001b[0;34m)\u001b[0m\u001b[0;34m\u001b[0m\u001b[0;34m\u001b[0m\u001b[0m\n\u001b[0;32m--> 111\u001b[0;31m     \u001b[0;32mfor\u001b[0m \u001b[0mview\u001b[0m \u001b[0;32min\u001b[0m \u001b[0mnext\u001b[0m\u001b[0;34m(\u001b[0m\u001b[0mos\u001b[0m\u001b[0;34m.\u001b[0m\u001b[0mwalk\u001b[0m\u001b[0;34m(\u001b[0m\u001b[0;34mf'{dir_path}/../maps'\u001b[0m\u001b[0;34m)\u001b[0m\u001b[0;34m)\u001b[0m\u001b[0;34m[\u001b[0m\u001b[0;36m2\u001b[0m\u001b[0;34m]\u001b[0m\u001b[0;34m:\u001b[0m\u001b[0;34m\u001b[0m\u001b[0;34m\u001b[0m\u001b[0m\n\u001b[0m\u001b[1;32m    112\u001b[0m         \u001b[0;32mif\u001b[0m \u001b[0mview\u001b[0m\u001b[0;34m.\u001b[0m\u001b[0mstartswith\u001b[0m\u001b[0;34m(\u001b[0m\u001b[0;34m'view'\u001b[0m\u001b[0;34m)\u001b[0m\u001b[0;34m:\u001b[0m\u001b[0;34m\u001b[0m\u001b[0;34m\u001b[0m\u001b[0m\n\u001b[1;32m    113\u001b[0m             \u001b[0mlogging\u001b[0m\u001b[0;34m.\u001b[0m\u001b[0minfo\u001b[0m\u001b[0;34m(\u001b[0m\u001b[0;34mf'Getting source tables for view {view}...'\u001b[0m\u001b[0;34m)\u001b[0m\u001b[0;34m\u001b[0m\u001b[0;34m\u001b[0m\u001b[0m\n",
      "\u001b[0;31mStopIteration\u001b[0m: "
     ]
    }
   ],
   "source": [
    "get_explore_source(model_name, explore_path, dir_path)"
   ]
  },
  {
   "cell_type": "code",
   "execution_count": null,
   "metadata": {},
   "outputs": [],
   "source": [
    "with open(explore_path, 'r') as f:\n",
    "    explore = json.load(f)\n"
   ]
  },
  {
   "cell_type": "code",
   "execution_count": null,
   "metadata": {},
   "outputs": [],
   "source": [
    "explore"
   ]
  },
  {
   "cell_type": "code",
   "execution_count": null,
   "metadata": {},
   "outputs": [],
   "source": [
    "view_content = dict()\n",
    "view_map = dict()\n",
    "for view in next(os.walk('../maps'))[2]:\n",
    "    if view.startswith('view'):\n",
    "    \n",
    "        view_map[view.split('-')[1].split('.')[0]] = view\n",
    "        with open(f'../maps/{view}','r') as f:\n",
    "            payload = json.load(f)\n",
    "            view_content[payload['view_name']] = payload\n",
    "\n",
    "source_payload = dict()\n",
    "for view_name,view_payload in view_content.items():\n",
    "   \n",
    "    if view_name in explore['explore_joins']:\n",
    "        base_view_name, source_table = get_true_source('../scripts', view_payload, explore=explore, connection_map=connection_map, view_map=view_map)\n",
    "        print(f\"view name: {view_name} , base view name: {base_view_name}, source: {source_table}\")\n",
    "        source_payload[view_name] = dict()\n",
    "        source_payload[view_name]['view_name'] = base_view_name\n",
    "        source_payload[view_name]['base_view_name'] = source_table  \n",
    "        "
   ]
  },
  {
   "cell_type": "code",
   "execution_count": null,
   "metadata": {},
   "outputs": [],
   "source": [
    "source_payload"
   ]
  },
  {
   "cell_type": "code",
   "execution_count": 45,
   "metadata": {},
   "outputs": [],
   "source": [
    "from graphing_explore import explore_view_dependency"
   ]
  },
  {
   "cell_type": "code",
   "execution_count": 46,
   "metadata": {},
   "outputs": [],
   "source": [
    "with open(f'../test_folder/maps/sample_model/explore-sf__accounts.json', 'r') as f:\n",
    "    map_explore = json.load(f)"
   ]
  },
  {
   "cell_type": "code",
   "execution_count": 47,
   "metadata": {},
   "outputs": [],
   "source": [
    "dir_path = '..'"
   ]
  },
  {
   "cell_type": "code",
   "execution_count": 48,
   "metadata": {},
   "outputs": [
    {
     "data": {
      "text/plain": [
       "{'explore_name': 'sf__accounts',\n",
       " 'explore_joins': ['sf__accounts', 'sf__cases', 'sf__contacts', 'sf__users'],\n",
       " 'conn': 'data_warehouse'}"
      ]
     },
     "execution_count": 48,
     "metadata": {},
     "output_type": "execute_result"
    }
   ],
   "source": [
    "map_explore"
   ]
  },
  {
   "cell_type": "code",
   "execution_count": 49,
   "metadata": {},
   "outputs": [],
   "source": [
    "join_list = map_explore['explore_joins']"
   ]
  },
  {
   "cell_type": "code",
   "execution_count": 50,
   "metadata": {},
   "outputs": [],
   "source": [
    "explore = dict()\n",
    "for join in join_list:\n",
    "    explore_view_list = []\n",
    "    for file in os.listdir('../test_folder/maps'):\n",
    "        if file.startswith('view') and file.split('-')[1].split('.')[0] == join:\n",
    "            with open(f'../test_folder/maps/{file}') as f:\n",
    "                view_dict = json.load(f)\n",
    "\n",
    "            explore_view_list.append(view_dict['source_table'])\n",
    "\n",
    "    explore[join] = explore_view_list\n",
    "    "
   ]
  },
  {
   "cell_type": "code",
   "execution_count": 51,
   "metadata": {},
   "outputs": [
    {
     "data": {
      "text/plain": [
       "{'view_name': 'sf__users',\n",
       " 'source_table': 'sfbase__users',\n",
       " 'view_type': 'extension'}"
      ]
     },
     "execution_count": 51,
     "metadata": {},
     "output_type": "execute_result"
    }
   ],
   "source": [
    "view_dict"
   ]
  },
  {
   "cell_type": "code",
   "execution_count": 52,
   "metadata": {},
   "outputs": [
    {
     "data": {
      "text/plain": [
       "{'sf__accounts': ['sfbase__accounts'],\n",
       " 'sf__cases': ['sfbase__cases'],\n",
       " 'sf__contacts': ['sfbase__contacts'],\n",
       " 'sf__users': ['sfbase__users']}"
      ]
     },
     "execution_count": 52,
     "metadata": {},
     "output_type": "execute_result"
    }
   ],
   "source": [
    "explore"
   ]
  },
  {
   "cell_type": "code",
   "execution_count": 53,
   "metadata": {},
   "outputs": [],
   "source": [
    "with open(f'../test_folder/maps/sample_model/map-model-sample_model-explore-sf__accounts-source.json', 'r') as f:\n",
    "    view_source = json.load(f)"
   ]
  },
  {
   "cell_type": "code",
   "execution_count": 54,
   "metadata": {},
   "outputs": [
    {
     "data": {
      "text/plain": [
       "{'sf__accounts': {'view_name': 'sfbase__accounts',\n",
       "  'base_view_name': 'Redshift.salesforce.accounts'}}"
      ]
     },
     "execution_count": 54,
     "metadata": {},
     "output_type": "execute_result"
    }
   ],
   "source": [
    "view_source"
   ]
  },
  {
   "cell_type": "code",
   "execution_count": 55,
   "metadata": {},
   "outputs": [],
   "source": [
    "from graphing_explore import gen_graph"
   ]
  },
  {
   "cell_type": "code",
   "execution_count": 57,
   "metadata": {},
   "outputs": [
    {
     "data": {
      "text/plain": [
       "{'explore_name': 'sf__accounts',\n",
       " 'explore_joins': ['sf__accounts', 'sf__cases', 'sf__contacts', 'sf__users'],\n",
       " 'conn': 'data_warehouse'}"
      ]
     },
     "execution_count": 57,
     "metadata": {},
     "output_type": "execute_result"
    }
   ],
   "source": [
    "map_explore"
   ]
  },
  {
   "cell_type": "code",
   "execution_count": 58,
   "metadata": {},
   "outputs": [
    {
     "data": {
      "text/plain": [
       "{'sf__accounts': {'view_name': 'sfbase__accounts',\n",
       "  'base_view_name': 'Redshift.salesforce.accounts'}}"
      ]
     },
     "execution_count": 58,
     "metadata": {},
     "output_type": "execute_result"
    }
   ],
   "source": [
    "view_source"
   ]
  },
  {
   "cell_type": "code",
   "execution_count": 59,
   "metadata": {},
   "outputs": [
    {
     "data": {
      "text/plain": [
       "'..'"
      ]
     },
     "execution_count": 59,
     "metadata": {},
     "output_type": "execute_result"
    }
   ],
   "source": [
    "dir_path"
   ]
  },
  {
   "cell_type": "code",
   "execution_count": 64,
   "metadata": {},
   "outputs": [],
   "source": [
    "from graphing_explore import view_source_dependency"
   ]
  },
  {
   "cell_type": "code",
   "execution_count": 65,
   "metadata": {},
   "outputs": [],
   "source": [
    "model_folder = 'sample_model'"
   ]
  },
  {
   "cell_type": "code",
   "execution_count": 71,
   "metadata": {},
   "outputs": [
    {
     "ename": "FileNotFoundError",
     "evalue": "[Errno 2] No such file or directory: '../test_folder/maps/sample_model/explore-sf__accounts-source.json'",
     "output_type": "error",
     "traceback": [
      "\u001b[0;31m---------------------------------------------------------------------------\u001b[0m",
      "\u001b[0;31mFileNotFoundError\u001b[0m                         Traceback (most recent call last)",
      "\u001b[0;32m<ipython-input-71-2ed214d5f54c>\u001b[0m in \u001b[0;36m<module>\u001b[0;34m\u001b[0m\n\u001b[1;32m      1\u001b[0m \u001b[0mmap_path\u001b[0m \u001b[0;34m=\u001b[0m \u001b[0;34m'explore-sf__accounts-source.json'\u001b[0m\u001b[0;34m\u001b[0m\u001b[0;34m\u001b[0m\u001b[0m\n\u001b[0;32m----> 2\u001b[0;31m \u001b[0;32mwith\u001b[0m \u001b[0mopen\u001b[0m\u001b[0;34m(\u001b[0m\u001b[0;34mf'../test_folder/maps/{model_folder}/{map_path}'\u001b[0m\u001b[0;34m,\u001b[0m \u001b[0;34m'r'\u001b[0m\u001b[0;34m)\u001b[0m \u001b[0;32mas\u001b[0m \u001b[0mf\u001b[0m\u001b[0;34m:\u001b[0m\u001b[0;34m\u001b[0m\u001b[0;34m\u001b[0m\u001b[0m\n\u001b[0m\u001b[1;32m      3\u001b[0m     \u001b[0mmap_explore\u001b[0m \u001b[0;34m=\u001b[0m \u001b[0mjson\u001b[0m\u001b[0;34m.\u001b[0m\u001b[0mload\u001b[0m\u001b[0;34m(\u001b[0m\u001b[0mf\u001b[0m\u001b[0;34m)\u001b[0m\u001b[0;34m\u001b[0m\u001b[0;34m\u001b[0m\u001b[0m\n\u001b[1;32m      4\u001b[0m \u001b[0;34m\u001b[0m\u001b[0m\n\u001b[1;32m      5\u001b[0m \u001b[0;32mwith\u001b[0m \u001b[0mopen\u001b[0m\u001b[0;34m(\u001b[0m\u001b[0;34mf'../test_folder/maps/{model_folder}/map-model-{model_folder}-{map_path}'\u001b[0m\u001b[0;34m,\u001b[0m \u001b[0;34m'r'\u001b[0m\u001b[0;34m)\u001b[0m \u001b[0;32mas\u001b[0m \u001b[0mf\u001b[0m\u001b[0;34m:\u001b[0m\u001b[0;34m\u001b[0m\u001b[0;34m\u001b[0m\u001b[0m\n",
      "\u001b[0;31mFileNotFoundError\u001b[0m: [Errno 2] No such file or directory: '../test_folder/maps/sample_model/explore-sf__accounts-source.json'"
     ]
    }
   ],
   "source": [
    "map_path = 'explore-sf__accounts.json'\n",
    "with open(f'../test_folder/maps/{model_folder}/{map_path}', 'r') as f:\n",
    "    map_explore = json.load(f)\n",
    "\n",
    "with open(f'../test_folder/maps/{model_folder}/map-model-{model_folder}-{map_path}', 'r') as f:\n",
    "    view_source = json.load(f)\n"
   ]
  },
  {
   "cell_type": "code",
   "execution_count": null,
   "metadata": {},
   "outputs": [],
   "source": []
  }
 ],
 "metadata": {
  "kernelspec": {
   "display_name": "Python 3",
   "language": "python",
   "name": "python3"
  },
  "language_info": {
   "codemirror_mode": {
    "name": "ipython",
    "version": 3
   },
   "file_extension": ".py",
   "mimetype": "text/x-python",
   "name": "python",
   "nbconvert_exporter": "python",
   "pygments_lexer": "ipython3",
   "version": "3.7.4"
  }
 },
 "nbformat": 4,
 "nbformat_minor": 2
}

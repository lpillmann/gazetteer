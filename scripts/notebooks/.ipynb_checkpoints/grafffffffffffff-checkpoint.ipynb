{
 "cells": [
  {
   "cell_type": "markdown",
   "metadata": {},
   "source": [
    "# the graphviz part"
   ]
  },
  {
   "cell_type": "code",
   "execution_count": 5,
   "metadata": {},
   "outputs": [],
   "source": [
    "from graphviz import Digraph\n",
    "import json"
   ]
  },
  {
   "cell_type": "code",
   "execution_count": 6,
   "metadata": {},
   "outputs": [],
   "source": [
    "def gen_graph(explore_name, join):\n",
    "    dot = Digraph(f'{explore_name}')\n",
    "    dot.node(explore_name, explore_name)\n",
    "    for join in join:\n",
    "        dot.node(join, join)\n",
    "        dot.edge(explore_name, join)\n",
    "    dot.render(f'{explore_name}.gv', view=True)\n",
    "    "
   ]
  },
  {
   "cell_type": "code",
   "execution_count": 7,
   "metadata": {},
   "outputs": [],
   "source": [
    "# for lineage_map in os.listdir('maps'):\n",
    "with open(f'maps/map_salesforce_sf__cases.json') as f:\n",
    "    lineage_jsons = json.load(f)\n",
    "\n",
    "    gen_graph(explore_name=lineage_jsons['explore_name'], join=lineage_jsons['explore_joins'])\n",
    "#         break\n",
    "        "
   ]
  },
  {
   "cell_type": "code",
   "execution_count": 8,
   "metadata": {},
   "outputs": [
    {
     "data": {
      "text/plain": [
       "{'explore_name': 'sf__cases',\n",
       " 'explore_joins': ['sf__cases',\n",
       "  'sf__case_comments',\n",
       "  'sf__accounts',\n",
       "  'sf__opportunities',\n",
       "  'sf__opportunity_products',\n",
       "  'sf__opportunity_revenue_movements',\n",
       "  'sf__opportunity_total_revenue',\n",
       "  'sf__contacts',\n",
       "  'sf__users',\n",
       "  'sf__users',\n",
       "  'sf__leads']}"
      ]
     },
     "execution_count": 8,
     "metadata": {},
     "output_type": "execute_result"
    }
   ],
   "source": [
    "lineage_jsons"
   ]
  },
  {
   "cell_type": "markdown",
   "metadata": {},
   "source": [
    "# final"
   ]
  },
  {
   "cell_type": "markdown",
   "metadata": {},
   "source": [
    "## main"
   ]
  },
  {
   "cell_type": "code",
   "execution_count": 33,
   "metadata": {},
   "outputs": [],
   "source": [
    "dir_path = '..'"
   ]
  },
  {
   "cell_type": "code",
   "execution_count": 39,
   "metadata": {},
   "outputs": [],
   "source": [
    "from graphviz import Digraph\n",
    "import json\n",
    "import os\n",
    "import get_connections\n",
    "import logging\n",
    "\n",
    "def gen_graph(explore, explore_name, join_list, view_source_payload, dir_path):\n",
    "    dot = Digraph(f'{explore_name}')\n",
    "    dot.node(explore_name, explore_name)\n",
    "\n",
    "    for join in join_list:\n",
    "\n",
    "        join_node = f'view_{join}'\n",
    "        dot.node(join_node, join_node)\n",
    "        dot.edge(explore_name, join_node)\n",
    "\n",
    "        view_list = explore[join]\n",
    "\n",
    "        for view in view_list:\n",
    "\n",
    "            view_node = f\"base_view_{view['view_name']}\"\n",
    "            dot.node(view_node, view_node)\n",
    "            dot.edge(join_node, view_node)\n",
    "\n",
    "            source_node = f\"{view_source_payload[view['view_name']]}\"\n",
    "            dot.node(source_node, source_node)\n",
    "            dot.edge(view_node, source_node)\n",
    "\n",
    "    dot.render(f'{dir_path}/../../graphs/testing.gv', view=True)\n",
    "    return logging.info(f'Successfully generated dependency graph for Explore {explore_name}.')\n",
    "\n",
    "\n",
    "def explore_view_dependency(join_list, dir_path):\n",
    "    \n",
    "    explore = dict()\n",
    "    for join in join_list:\n",
    "        explore_view_list = []\n",
    "        for file in os.listdir(f'{dir_path}/../maps'):\n",
    "                if file.startswith('view') and file.split('-')[2] == join:\n",
    "                    with open(f'{dir_path}/../maps/{file}') as f:\n",
    "                        view_dict = json.load(f)\n",
    "\n",
    "                    explore_view_list.append(view_dict)\n",
    "\n",
    "        explore[join] = explore_view_list\n",
    "\n",
    "    return explore\n",
    "\n",
    "\n",
    "def view_source_dependency(source_file, dir_path):\n",
    "    with open(f'{dir_path}/../maps/{source_file}', 'r') as f:\n",
    "        view_source = json.load(f)\n",
    "    \n",
    "    return view_source\n"
   ]
  },
  {
   "cell_type": "code",
   "execution_count": 41,
   "metadata": {},
   "outputs": [],
   "source": [
    "with open('../../maps/explore-salesforce-sf__accounts.json', 'r') as f:\n",
    "        map_accounts_explore = json.load(f)\n",
    "\n",
    "explore = explore_view_dependency(join_list = map_accounts_explore['explore_joins'], dir_path=dir_path)\n",
    "\n",
    "view_source = view_source_dependency('sf__accounts-source.json', dir_path=dir_path)\n"
   ]
  },
  {
   "cell_type": "code",
   "execution_count": 51,
   "metadata": {},
   "outputs": [
    {
     "data": {
      "text/plain": [
       "['sf__accounts', 'sf__users', 'sf__contacts', 'sf__cases', 'sf__users']"
      ]
     },
     "execution_count": 51,
     "metadata": {},
     "output_type": "execute_result"
    }
   ],
   "source": [
    "map_accounts_explore['explore_joins']"
   ]
  },
  {
   "cell_type": "code",
   "execution_count": 52,
   "metadata": {},
   "outputs": [],
   "source": [
    "explore = dict()\n",
    "for join in join_list:\n",
    "    explore_view_list = []\n",
    "    for file in os.listdir(f'{dir_path}/../maps'):\n",
    "            if file.startswith('view') and file.split('-')[1] == join:\n",
    "                with open(f'{dir_path}/../maps/{file}') as f:\n",
    "                    view_dict = json.load(f)\n",
    "\n",
    "                explore_view_list.append(view_dict)\n",
    "\n",
    "    explore[join] = explore_view_list"
   ]
  },
  {
   "cell_type": "code",
   "execution_count": 53,
   "metadata": {},
   "outputs": [],
   "source": [
    "gen_graph(explore=explore, explore_name='sf__accounts', join_list=map_accounts_explore['explore_joins'], \\\n",
    "          view_source_payload=view_source, dir_path=dir_path)\n"
   ]
  },
  {
   "cell_type": "code",
   "execution_count": 43,
   "metadata": {},
   "outputs": [
    {
     "data": {
      "text/plain": [
       "{'explore_name': 'sf__accounts',\n",
       " 'explore_joins': ['sf__accounts',\n",
       "  'sf__users',\n",
       "  'sf__contacts',\n",
       "  'sf__cases',\n",
       "  'sf__users'],\n",
       " 'conn': 'data_warehouse'}"
      ]
     },
     "execution_count": 43,
     "metadata": {},
     "output_type": "execute_result"
    }
   ],
   "source": [
    "map_accounts_explore"
   ]
  },
  {
   "cell_type": "code",
   "execution_count": 44,
   "metadata": {
    "scrolled": true
   },
   "outputs": [
    {
     "data": {
      "text/plain": [
       "{'sf__accounts': [], 'sf__users': [], 'sf__contacts': [], 'sf__cases': []}"
      ]
     },
     "execution_count": 44,
     "metadata": {},
     "output_type": "execute_result"
    }
   ],
   "source": [
    "explore"
   ]
  },
  {
   "cell_type": "code",
   "execution_count": 45,
   "metadata": {},
   "outputs": [
    {
     "data": {
      "text/plain": [
       "{'sfbase__accounts': 'Amazon.production.salesforce.accounts',\n",
       " 'sf__accounts': 'Amazon.production.salesforce.accounts',\n",
       " 'snowflake_sf__accounts': 'SEGMENT.SALESFORCE.ACCOUNTS',\n",
       " 'total_active_node_count': 'derived table',\n",
       " 'sf__cases': 'Amazon.production.salesforce.cases',\n",
       " 'sfbase__users': 'Amazon.production.salesforce.users',\n",
       " 'sf__contacts': 'Amazon.production.salesforce.contacts',\n",
       " 'sfbase__cases': 'Amazon.production.salesforce.cases',\n",
       " 'sf__users': 'Amazon.production.salesforce.users',\n",
       " 'sfbase__contacts': 'Amazon.production.salesforce.contacts'}"
      ]
     },
     "execution_count": 45,
     "metadata": {},
     "output_type": "execute_result"
    }
   ],
   "source": [
    "view_source"
   ]
  },
  {
   "cell_type": "code",
   "execution_count": 46,
   "metadata": {},
   "outputs": [],
   "source": [
    "explore=explore\n",
    "explore_name='sf__accounts'\n",
    "join_list=map_accounts_explore['explore_joins']\n",
    "view_source_payload=view_source\n"
   ]
  },
  {
   "cell_type": "code",
   "execution_count": 47,
   "metadata": {},
   "outputs": [],
   "source": [
    "dot = Digraph(f'{explore_name}')\n",
    "dot.node(explore_name, explore_name)\n"
   ]
  },
  {
   "cell_type": "code",
   "execution_count": 48,
   "metadata": {},
   "outputs": [
    {
     "data": {
      "text/plain": [
       "{'sfbase__accounts': 'Amazon.production.salesforce.accounts',\n",
       " 'sf__accounts': 'Amazon.production.salesforce.accounts',\n",
       " 'snowflake_sf__accounts': 'SEGMENT.SALESFORCE.ACCOUNTS',\n",
       " 'total_active_node_count': 'derived table',\n",
       " 'sf__cases': 'Amazon.production.salesforce.cases',\n",
       " 'sfbase__users': 'Amazon.production.salesforce.users',\n",
       " 'sf__contacts': 'Amazon.production.salesforce.contacts',\n",
       " 'sfbase__cases': 'Amazon.production.salesforce.cases',\n",
       " 'sf__users': 'Amazon.production.salesforce.users',\n",
       " 'sfbase__contacts': 'Amazon.production.salesforce.contacts'}"
      ]
     },
     "execution_count": 48,
     "metadata": {},
     "output_type": "execute_result"
    }
   ],
   "source": [
    "view_source_payload"
   ]
  },
  {
   "cell_type": "code",
   "execution_count": 49,
   "metadata": {},
   "outputs": [],
   "source": [
    "for join in join_list:\n",
    "\n",
    "    join_node = f'view_{join}'\n",
    "    dot.node(join_node, join_node)\n",
    "    dot.edge(explore_name, join_node)\n",
    "\n",
    "    view_list = explore[join]\n",
    "\n",
    "    for view in view_list:\n",
    "\n",
    "        view_node = f\"base_view_{view['view_name']}\"\n",
    "        dot.node(view_node, view_node)\n",
    "        dot.edge(join_node, view_node)\n",
    "\n",
    "        source_node = f\"{view_source_payload[view['view_name']]}\"\n",
    "        dot.node(source_node, source_node)\n",
    "        dot.edge(view_node, source_node)\n"
   ]
  },
  {
   "cell_type": "code",
   "execution_count": 50,
   "metadata": {},
   "outputs": [
    {
     "data": {
      "text/plain": [
       "'../../graphs/testing.gv.pdf'"
      ]
     },
     "execution_count": 50,
     "metadata": {},
     "output_type": "execute_result"
    }
   ],
   "source": [
    "dot.render(f'../../graphs/testing.gv', view=True)"
   ]
  },
  {
   "cell_type": "code",
   "execution_count": null,
   "metadata": {},
   "outputs": [],
   "source": []
  }
 ],
 "metadata": {
  "kernelspec": {
   "display_name": "Python 3",
   "language": "python",
   "name": "python3"
  },
  "language_info": {
   "codemirror_mode": {
    "name": "ipython",
    "version": 3
   },
   "file_extension": ".py",
   "mimetype": "text/x-python",
   "name": "python",
   "nbconvert_exporter": "python",
   "pygments_lexer": "ipython3",
   "version": "3.7.4"
  }
 },
 "nbformat": 4,
 "nbformat_minor": 2
}

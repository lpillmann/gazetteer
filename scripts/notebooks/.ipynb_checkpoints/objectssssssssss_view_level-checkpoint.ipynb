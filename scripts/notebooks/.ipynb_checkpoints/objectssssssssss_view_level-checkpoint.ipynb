{
 "cells": [
  {
   "cell_type": "code",
   "execution_count": 1,
   "metadata": {},
   "outputs": [],
   "source": [
    "import json"
   ]
  },
  {
   "cell_type": "code",
   "execution_count": 2,
   "metadata": {},
   "outputs": [],
   "source": [
    "with open('../../maps/view-sf__accounts-sf__accounts.json', 'r') as f:\n",
    "    map_accounts = json.load(f)"
   ]
  },
  {
   "cell_type": "code",
   "execution_count": 3,
   "metadata": {},
   "outputs": [
    {
     "data": {
      "text/plain": [
       "{'view_name': 'sf__accounts',\n",
       " 'source_table': 'sfbase__accounts',\n",
       " 'view_type': 'extension'}"
      ]
     },
     "execution_count": 3,
     "metadata": {},
     "output_type": "execute_result"
    }
   ],
   "source": [
    "map_accounts"
   ]
  },
  {
   "cell_type": "code",
   "execution_count": 4,
   "metadata": {},
   "outputs": [],
   "source": [
    "with open('../../maps/view-sf__accounts-sfbase__accounts.json', 'r') as f:\n",
    "    map_accounts_base = json.load(f)"
   ]
  },
  {
   "cell_type": "code",
   "execution_count": 5,
   "metadata": {},
   "outputs": [
    {
     "data": {
      "text/plain": [
       "{'view_name': 'sfbase__accounts',\n",
       " 'source_table': 'salesforce.accounts',\n",
       " 'view_type': 'sql_table_name'}"
      ]
     },
     "execution_count": 5,
     "metadata": {},
     "output_type": "execute_result"
    }
   ],
   "source": [
    "map_accounts_base"
   ]
  },
  {
   "cell_type": "code",
   "execution_count": 6,
   "metadata": {},
   "outputs": [],
   "source": [
    "with open('../../maps/view-sf__accounts-snowflake_sf__accounts.json', 'r') as f:\n",
    "    map_accounts_snowflake = json.load(f)"
   ]
  },
  {
   "cell_type": "code",
   "execution_count": 7,
   "metadata": {},
   "outputs": [
    {
     "data": {
      "text/plain": [
       "{'view_name': 'snowflake_sf__accounts',\n",
       " 'source_table': 'SEGMENT.SALESFORCE.ACCOUNTS',\n",
       " 'view_type': 'sql_table_name'}"
      ]
     },
     "execution_count": 7,
     "metadata": {},
     "output_type": "execute_result"
    }
   ],
   "source": [
    "map_accounts_snowflake"
   ]
  },
  {
   "cell_type": "code",
   "execution_count": 8,
   "metadata": {},
   "outputs": [],
   "source": [
    "with open('../../maps/view-sf__accounts-total_active_node_count.json', 'r') as f:\n",
    "    map_accounts_node = json.load(f)"
   ]
  },
  {
   "cell_type": "code",
   "execution_count": null,
   "metadata": {},
   "outputs": [],
   "source": [
    "if map_accounts_node['view_type'] == 'derived_table':\n",
    "    "
   ]
  },
  {
   "cell_type": "code",
   "execution_count": 26,
   "metadata": {
    "scrolled": true
   },
   "outputs": [
    {
     "data": {
      "text/plain": [
       "'derived_table'"
      ]
     },
     "execution_count": 26,
     "metadata": {},
     "output_type": "execute_result"
    }
   ],
   "source": []
  },
  {
   "cell_type": "code",
   "execution_count": 25,
   "metadata": {},
   "outputs": [
    {
     "data": {
      "text/plain": [
       "[['derived_table:', '{'],\n",
       " ['explore_source:', 'sf__opportunities', '{'],\n",
       " ['column:', 'id', '{', 'field:', 'sf__accounts.id', '}'],\n",
       " ['column:', 'name', '{', 'field:', 'sf__accounts.name', '}'],\n",
       " ['column:',\n",
       "  'total_quantity',\n",
       "  '{',\n",
       "  'field:',\n",
       "  'opportunity_products.total_quantity',\n",
       "  '}'],\n",
       " ['column:',\n",
       "  'node_type',\n",
       "  '{',\n",
       "  'field:',\n",
       "  'opportunity_products.node_type',\n",
       "  '}'],\n",
       " ['filters:', '{'],\n",
       " ['field:', 'opportunity_products.end_date'],\n",
       " ['value:', '\"after', '1', 'days', 'from', 'now\"'],\n",
       " ['}'],\n",
       " ['filters:', '{'],\n",
       " ['field:', 'opportunity_products.node_type'],\n",
       " ['value:', '\"-None\"'],\n",
       " ['}'],\n",
       " ['filters:', '{'],\n",
       " ['field:', 'opportunity_products.product_family'],\n",
       " ['value:', '\"Subscription\"'],\n",
       " ['}'],\n",
       " ['filters:', '{'],\n",
       " ['field:', 'sf__opportunities.is_won'],\n",
       " ['value:', '\"Yes\"'],\n",
       " ['}'],\n",
       " ['}'],\n",
       " ['}']]"
      ]
     },
     "execution_count": 25,
     "metadata": {},
     "output_type": "execute_result"
    }
   ],
   "source": [
    "map_accounts_node['derived_table']"
   ]
  },
  {
   "cell_type": "code",
   "execution_count": 10,
   "metadata": {},
   "outputs": [],
   "source": [
    "with open('../../maps/view-sf__cases-sf__cases.json', 'r') as f:\n",
    "    map_cases = json.load(f)"
   ]
  },
  {
   "cell_type": "code",
   "execution_count": 11,
   "metadata": {},
   "outputs": [
    {
     "data": {
      "text/plain": [
       "{'view_name': 'sf__cases',\n",
       " 'source_table': 'sfbase__cases',\n",
       " 'view_type': 'extension'}"
      ]
     },
     "execution_count": 11,
     "metadata": {},
     "output_type": "execute_result"
    }
   ],
   "source": [
    "map_cases"
   ]
  },
  {
   "cell_type": "code",
   "execution_count": 12,
   "metadata": {},
   "outputs": [],
   "source": [
    "with open('../../maps/view-sf__cases-sfbase__cases.json', 'r') as f:\n",
    "    map_cases_base = json.load(f)"
   ]
  },
  {
   "cell_type": "code",
   "execution_count": 13,
   "metadata": {},
   "outputs": [
    {
     "data": {
      "text/plain": [
       "{'view_name': 'sfbase__cases',\n",
       " 'source_table': 'salesforce.cases',\n",
       " 'view_type': 'sql_table_name'}"
      ]
     },
     "execution_count": 13,
     "metadata": {},
     "output_type": "execute_result"
    }
   ],
   "source": [
    "map_cases_base"
   ]
  },
  {
   "cell_type": "code",
   "execution_count": 14,
   "metadata": {},
   "outputs": [],
   "source": [
    "with open('../../maps/view-sf__contacts-sf__contacts.json', 'r') as f:\n",
    "    map_contacts = json.load(f)"
   ]
  },
  {
   "cell_type": "code",
   "execution_count": 15,
   "metadata": {},
   "outputs": [
    {
     "data": {
      "text/plain": [
       "{'view_name': 'sf__contacts',\n",
       " 'source_table': 'sfbase__contacts',\n",
       " 'view_type': 'extension'}"
      ]
     },
     "execution_count": 15,
     "metadata": {},
     "output_type": "execute_result"
    }
   ],
   "source": [
    "map_contacts"
   ]
  },
  {
   "cell_type": "code",
   "execution_count": 16,
   "metadata": {},
   "outputs": [],
   "source": [
    "with open('../../maps/view-sf__contacts-sfbase__contacts.json', 'r') as f:\n",
    "    map_contacts_base = json.load(f)"
   ]
  },
  {
   "cell_type": "code",
   "execution_count": 17,
   "metadata": {},
   "outputs": [
    {
     "data": {
      "text/plain": [
       "{'view_name': 'sfbase__contacts',\n",
       " 'source_table': 'salesforce.contacts',\n",
       " 'view_type': 'sql_table_name'}"
      ]
     },
     "execution_count": 17,
     "metadata": {},
     "output_type": "execute_result"
    }
   ],
   "source": [
    "map_contacts_base"
   ]
  },
  {
   "cell_type": "code",
   "execution_count": 18,
   "metadata": {},
   "outputs": [],
   "source": [
    "with open('../../maps/view-sf__users-sf__users.json', 'r') as f:\n",
    "    map_users = json.load(f)"
   ]
  },
  {
   "cell_type": "code",
   "execution_count": 19,
   "metadata": {},
   "outputs": [
    {
     "data": {
      "text/plain": [
       "{'view_name': 'sf__users',\n",
       " 'source_table': 'sfbase__users',\n",
       " 'view_type': 'extension'}"
      ]
     },
     "execution_count": 19,
     "metadata": {},
     "output_type": "execute_result"
    }
   ],
   "source": [
    "map_users"
   ]
  },
  {
   "cell_type": "code",
   "execution_count": 20,
   "metadata": {},
   "outputs": [],
   "source": [
    "with open('../../maps/view-sf__users-sfbase__users.json', 'r') as f:\n",
    "    map_users_base = json.load(f)"
   ]
  },
  {
   "cell_type": "code",
   "execution_count": 21,
   "metadata": {},
   "outputs": [
    {
     "data": {
      "text/plain": [
       "{'view_name': 'sfbase__users',\n",
       " 'source_table': 'salesforce.users',\n",
       " 'view_type': 'sql_table_name'}"
      ]
     },
     "execution_count": 21,
     "metadata": {},
     "output_type": "execute_result"
    }
   ],
   "source": [
    "map_users_base"
   ]
  },
  {
   "cell_type": "markdown",
   "metadata": {},
   "source": [
    "map_accounts, \n",
    "\n",
    "map_accounts_base, \n",
    "\n",
    "map_accounts_snowflake, \n",
    "\n",
    "map_accounts_node, \n",
    "\n",
    "map_cases, \n",
    "\n",
    "map_cases_base, \n",
    "\n",
    "map_contacts, \n",
    "\n",
    "map_contacts_base, \n",
    "\n",
    "map_users, \n",
    "\n",
    "map_users_base"
   ]
  },
  {
   "cell_type": "markdown",
   "metadata": {},
   "source": [
    "# connection"
   ]
  },
  {
   "cell_type": "code",
   "execution_count": 22,
   "metadata": {},
   "outputs": [],
   "source": [
    "import get_connections"
   ]
  },
  {
   "cell_type": "code",
   "execution_count": 23,
   "metadata": {},
   "outputs": [
    {
     "ename": "FileNotFoundError",
     "evalue": "[Errno 2] No such file or directory: '/Users/vickykwan/Dev/gazetteer/scripts/notebooks/../../.secrets/secrets.json'",
     "output_type": "error",
     "traceback": [
      "\u001b[0;31m---------------------------------------------------------------------------\u001b[0m",
      "\u001b[0;31mFileNotFoundError\u001b[0m                         Traceback (most recent call last)",
      "\u001b[0;32m<ipython-input-23-eb1db9d8c814>\u001b[0m in \u001b[0;36m<module>\u001b[0;34m\u001b[0m\n\u001b[0;32m----> 1\u001b[0;31m \u001b[0mconnections\u001b[0m \u001b[0;34m=\u001b[0m \u001b[0mget_connections\u001b[0m\u001b[0;34m.\u001b[0m\u001b[0mmain\u001b[0m\u001b[0;34m(\u001b[0m\u001b[0mdomain\u001b[0m\u001b[0;34m=\u001b[0m\u001b[0;34m'https://docker.looker.com:19999'\u001b[0m\u001b[0;34m,\u001b[0m \u001b[0murl\u001b[0m\u001b[0;34m=\u001b[0m\u001b[0;34m'/api/3.1/connections'\u001b[0m\u001b[0;34m)\u001b[0m\u001b[0;34m\u001b[0m\u001b[0;34m\u001b[0m\u001b[0m\n\u001b[0m",
      "\u001b[0;32m~/Dev/gazetteer/scripts/notebooks/get_connections.py\u001b[0m in \u001b[0;36mmain\u001b[0;34m(domain, url)\u001b[0m\n\u001b[1;32m     10\u001b[0m     \u001b[0mdir_path\u001b[0m \u001b[0;34m=\u001b[0m \u001b[0mos\u001b[0m\u001b[0;34m.\u001b[0m\u001b[0mpath\u001b[0m\u001b[0;34m.\u001b[0m\u001b[0mdirname\u001b[0m\u001b[0;34m(\u001b[0m\u001b[0mos\u001b[0m\u001b[0;34m.\u001b[0m\u001b[0mpath\u001b[0m\u001b[0;34m.\u001b[0m\u001b[0mabspath\u001b[0m\u001b[0;34m(\u001b[0m\u001b[0m__file__\u001b[0m\u001b[0;34m)\u001b[0m\u001b[0;34m)\u001b[0m\u001b[0;34m\u001b[0m\u001b[0;34m\u001b[0m\u001b[0m\n\u001b[1;32m     11\u001b[0m \u001b[0;34m\u001b[0m\u001b[0m\n\u001b[0;32m---> 12\u001b[0;31m     \u001b[0;32mwith\u001b[0m \u001b[0mopen\u001b[0m\u001b[0;34m(\u001b[0m\u001b[0;34mf'{dir_path}/../../.secrets/secrets.json'\u001b[0m\u001b[0;34m)\u001b[0m \u001b[0;32mas\u001b[0m \u001b[0mf\u001b[0m\u001b[0;34m:\u001b[0m\u001b[0;34m\u001b[0m\u001b[0;34m\u001b[0m\u001b[0m\n\u001b[0m\u001b[1;32m     13\u001b[0m         \u001b[0mj\u001b[0m \u001b[0;34m=\u001b[0m \u001b[0mjson\u001b[0m\u001b[0;34m.\u001b[0m\u001b[0mload\u001b[0m\u001b[0;34m(\u001b[0m\u001b[0mf\u001b[0m\u001b[0;34m)\u001b[0m\u001b[0;34m\u001b[0m\u001b[0;34m\u001b[0m\u001b[0m\n\u001b[1;32m     14\u001b[0m \u001b[0;34m\u001b[0m\u001b[0m\n",
      "\u001b[0;31mFileNotFoundError\u001b[0m: [Errno 2] No such file or directory: '/Users/vickykwan/Dev/gazetteer/scripts/notebooks/../../.secrets/secrets.json'"
     ]
    }
   ],
   "source": [
    "connections = get_connections.main(domain='https://docker.looker.com:19999', url='/api/3.1/connections')"
   ]
  },
  {
   "cell_type": "code",
   "execution_count": 24,
   "metadata": {},
   "outputs": [
    {
     "ename": "NameError",
     "evalue": "name 'connections' is not defined",
     "output_type": "error",
     "traceback": [
      "\u001b[0;31m---------------------------------------------------------------------------\u001b[0m",
      "\u001b[0;31mNameError\u001b[0m                                 Traceback (most recent call last)",
      "\u001b[0;32m<ipython-input-24-bf9608d109cf>\u001b[0m in \u001b[0;36m<module>\u001b[0;34m\u001b[0m\n\u001b[0;32m----> 1\u001b[0;31m \u001b[0mconnections\u001b[0m\u001b[0;34m\u001b[0m\u001b[0;34m\u001b[0m\u001b[0m\n\u001b[0m",
      "\u001b[0;31mNameError\u001b[0m: name 'connections' is not defined"
     ]
    }
   ],
   "source": [
    "connections"
   ]
  },
  {
   "cell_type": "markdown",
   "metadata": {},
   "source": [
    "# main script"
   ]
  },
  {
   "cell_type": "code",
   "execution_count": 4,
   "metadata": {},
   "outputs": [],
   "source": [
    "from graphviz import Digraph\n",
    "import json\n",
    "import os\n",
    "import get_connections\n",
    "\n",
    "def gen_graph(dir_path, explore, explore_name, join_list):\n",
    "    dot = Digraph(f'{explore_name}')\n",
    "    dot.node(explore_name, explore_name)\n",
    "\n",
    "    for join in join_list:\n",
    "        join_node = f'view_{join}'\n",
    "        dot.node(join_node, join_node)\n",
    "        dot.edge(explore_name, join_node)\n",
    "\n",
    "        view_list = explore[join]\n",
    "        for view in view_list:\n",
    "            view_node = f\"base_view_{view['view_name']}\"\n",
    "            dot.node(view_node, view_node)\n",
    "            dot.edge(join_node, view_node)\n",
    "    \n",
    "    dot.render(f'{dir_path}/../graphs/testing.gv', view=True)\n",
    "\n",
    "\n",
    "def explore_view_dependency(dir_path, join_list):\n",
    "    \n",
    "    explore = dict()\n",
    "    for join in join_list:\n",
    "        explore_view_list = []\n",
    "        for file in os.listdir(f'{dir_path}/../maps'):\n",
    "                if file.startswith('view') and file.split('-')[1] == join:\n",
    "                    with open(f'{dir_path}/../maps/{file}') as f:\n",
    "                        view_dict = json.load(f)\n",
    "\n",
    "                    explore_view_list.append(view_dict)\n",
    "\n",
    "        explore[join] = explore_view_list\n",
    "\n",
    "    return explore\n"
   ]
  },
  {
   "cell_type": "code",
   "execution_count": 5,
   "metadata": {},
   "outputs": [],
   "source": [
    "connection_map = get_connections.main(domain='https://docker.looker.com:19999', url='/api/3.1/connections')\n",
    "\n",
    "with open('../../maps/explore-sample_model-sf__accounts.json', 'r') as f:\n",
    "    map_accounts_explore = json.load(f)\n",
    "\n",
    "explore = explore_view_dependency(dir_path='../', join_list = map_accounts_explore['explore_joins'])\n",
    "\n",
    "gen_graph(dir_path='../', explore=explore, explore_name='sf__accounts', join_list=map_accounts_explore['explore_joins'])\n",
    "            \n",
    "   "
   ]
  },
  {
   "cell_type": "code",
   "execution_count": 6,
   "metadata": {
    "collapsed": true
   },
   "outputs": [
    {
     "data": {
      "text/plain": [
       "{'sf__accounts': [{'view_name': 'sfbase__accounts',\n",
       "   'source_table': 'salesforce.accounts',\n",
       "   'view_type': 'sql_table_name'},\n",
       "  {'view_name': 'sf__accounts',\n",
       "   'source_table': '[sfbase__accounts]',\n",
       "   'view_type': 'extension'},\n",
       "  {'view_name': 'snowflake_sf__accounts',\n",
       "   'source_table': 'SEGMENT.SALESFORCE.ACCOUNTS',\n",
       "   'view_type': 'sql_table_name'},\n",
       "  {'view_name': 'total_active_node_count',\n",
       "   'view_type': 'derived_table',\n",
       "   'derived_table': [['derived_table:', '{'],\n",
       "    ['explore_source:', 'sf__opportunities', '{'],\n",
       "    ['column:', 'id', '{', 'field:', 'sf__accounts.id', '}'],\n",
       "    ['column:', 'name', '{', 'field:', 'sf__accounts.name', '}'],\n",
       "    ['column:',\n",
       "     'total_quantity',\n",
       "     '{',\n",
       "     'field:',\n",
       "     'opportunity_products.total_quantity',\n",
       "     '}'],\n",
       "    ['column:',\n",
       "     'node_type',\n",
       "     '{',\n",
       "     'field:',\n",
       "     'opportunity_products.node_type',\n",
       "     '}'],\n",
       "    ['filters:', '{'],\n",
       "    ['field:', 'opportunity_products.end_date'],\n",
       "    ['value:', '\"after', '1', 'days', 'from', 'now\"'],\n",
       "    ['}'],\n",
       "    ['filters:', '{'],\n",
       "    ['field:', 'opportunity_products.node_type'],\n",
       "    ['value:', '\"-None\"'],\n",
       "    ['}'],\n",
       "    ['filters:', '{'],\n",
       "    ['field:', 'opportunity_products.product_family'],\n",
       "    ['value:', '\"Subscription\"'],\n",
       "    ['}'],\n",
       "    ['filters:', '{'],\n",
       "    ['field:', 'sf__opportunities.is_won'],\n",
       "    ['value:', '\"Yes\"'],\n",
       "    ['}'],\n",
       "    ['}'],\n",
       "    ['}']]}],\n",
       " 'sf__users': [{'view_name': 'sfbase__users',\n",
       "   'source_table': 'salesforce.users',\n",
       "   'view_type': 'sql_table_name'},\n",
       "  {'view_name': 'sf__users',\n",
       "   'source_table': '[sfbase__users]',\n",
       "   'view_type': 'extension'}],\n",
       " 'sf__contacts': [{'view_name': 'sf__contacts',\n",
       "   'source_table': '[sfbase__contacts]',\n",
       "   'view_type': 'extension'},\n",
       "  {'view_name': 'sfbase__contacts',\n",
       "   'source_table': 'salesforce.contacts',\n",
       "   'view_type': 'sql_table_name'}],\n",
       " 'sf__cases': [{'view_name': 'sf__cases',\n",
       "   'source_table': '[sfbase__cases]',\n",
       "   'view_type': 'extension'},\n",
       "  {'view_name': 'sfbase__cases',\n",
       "   'source_table': 'salesforce.cases',\n",
       "   'view_type': 'sql_table_name'}]}"
      ]
     },
     "execution_count": 6,
     "metadata": {},
     "output_type": "execute_result"
    }
   ],
   "source": [
    "explore"
   ]
  },
  {
   "cell_type": "code",
   "execution_count": 7,
   "metadata": {},
   "outputs": [],
   "source": [
    "join_list = map_accounts_explore['explore_joins']"
   ]
  },
  {
   "cell_type": "code",
   "execution_count": 13,
   "metadata": {},
   "outputs": [
    {
     "name": "stdout",
     "output_type": "stream",
     "text": [
      "view_sf__accounts\n",
      "{'view_name': 'sfbase__accounts', 'source_table': 'salesforce.accounts', 'view_type': 'sql_table_name'}\n",
      "base_view_sfbase__accounts\n",
      "{'view_name': 'sf__accounts', 'source_table': '[sfbase__accounts]', 'view_type': 'extension'}\n",
      "base_view_sf__accounts\n",
      "{'view_name': 'snowflake_sf__accounts', 'source_table': 'SEGMENT.SALESFORCE.ACCOUNTS', 'view_type': 'sql_table_name'}\n",
      "base_view_snowflake_sf__accounts\n",
      "{'view_name': 'total_active_node_count', 'view_type': 'derived_table', 'derived_table': [['derived_table:', '{'], ['explore_source:', 'sf__opportunities', '{'], ['column:', 'id', '{', 'field:', 'sf__accounts.id', '}'], ['column:', 'name', '{', 'field:', 'sf__accounts.name', '}'], ['column:', 'total_quantity', '{', 'field:', 'opportunity_products.total_quantity', '}'], ['column:', 'node_type', '{', 'field:', 'opportunity_products.node_type', '}'], ['filters:', '{'], ['field:', 'opportunity_products.end_date'], ['value:', '\"after', '1', 'days', 'from', 'now\"'], ['}'], ['filters:', '{'], ['field:', 'opportunity_products.node_type'], ['value:', '\"-None\"'], ['}'], ['filters:', '{'], ['field:', 'opportunity_products.product_family'], ['value:', '\"Subscription\"'], ['}'], ['filters:', '{'], ['field:', 'sf__opportunities.is_won'], ['value:', '\"Yes\"'], ['}'], ['}'], ['}']]}\n",
      "base_view_total_active_node_count\n"
     ]
    }
   ],
   "source": [
    "for join in join_list:\n",
    "\n",
    "    join_node = f'view_{join}'\n",
    "    print(join_node)\n",
    "\n",
    "    view_list = explore[join]\n",
    "\n",
    "    for view in view_list:\n",
    "        print(view)\n",
    "        view_node = f\"base_view_{view['view_name']}\"\n",
    "        print(view_node)\n",
    "    break"
   ]
  },
  {
   "cell_type": "code",
   "execution_count": null,
   "metadata": {},
   "outputs": [],
   "source": []
  }
 ],
 "metadata": {
  "kernelspec": {
   "display_name": "Python 3",
   "language": "python",
   "name": "python3"
  },
  "language_info": {
   "codemirror_mode": {
    "name": "ipython",
    "version": 3
   },
   "file_extension": ".py",
   "mimetype": "text/x-python",
   "name": "python",
   "nbconvert_exporter": "python",
   "pygments_lexer": "ipython3",
   "version": "3.7.4"
  }
 },
 "nbformat": 4,
 "nbformat_minor": 2
}

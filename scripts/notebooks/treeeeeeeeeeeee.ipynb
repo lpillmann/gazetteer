{
 "cells": [
  {
   "cell_type": "markdown",
   "metadata": {},
   "source": [
    "# Graphviz\n",
    "\n",
    "library with tutorial: https://pypi.org/project/graphviz/\n",
    "\n",
    "python doc: https://www.graphviz.org/pdf/gv.3python.pdf\n",
    "\n",
    "another doc: https://github.com/xflr6/graphviz\n",
    "\n",
    "paper: https://www.graphviz.org/pdf/dotguide.pdf\n"
   ]
  },
  {
   "cell_type": "code",
   "execution_count": 12,
   "metadata": {},
   "outputs": [],
   "source": [
    "from graphviz import Digraph\n",
    "import re\n",
    "import os\n",
    "import json"
   ]
  },
  {
   "cell_type": "markdown",
   "metadata": {},
   "source": [
    "## an example"
   ]
  },
  {
   "cell_type": "code",
   "execution_count": 3,
   "metadata": {},
   "outputs": [],
   "source": [
    "dot = Digraph('testing')"
   ]
  },
  {
   "cell_type": "code",
   "execution_count": 4,
   "metadata": {},
   "outputs": [
    {
     "name": "stdout",
     "output_type": "stream",
     "text": [
      "digraph testing {\n",
      "\tsf__opportunity_products [label=sf__opportunity_products]\n",
      "\tsf__opportunities -> sf__opportunities_extended\n",
      "\tsf__opportunities_extended -> sf__accounts [label=\"${sf__opportunities_extended.account_id} = ${sf__accounts.id}\"]\n",
      "\tsf__accounts -> sf__users [label=\"${sf__accounts.owner_id} = ${sf__users.id}\"]\n",
      "}\n"
     ]
    }
   ],
   "source": [
    "dot.node('sf__opportunity_products', 'sf__opportunity_products')\n",
    "dot.edge('sf__opportunities', 'sf__opportunities_extended')\n",
    "dot.edge('sf__opportunities_extended', 'sf__accounts', label='${sf__opportunities_extended.account_id} = ${sf__accounts.id}')\n",
    "dot.edge('sf__accounts', 'sf__users', label='${sf__accounts.owner_id} = ${sf__users.id}')\n",
    "print(dot.source)\n"
   ]
  },
  {
   "cell_type": "code",
   "execution_count": 5,
   "metadata": {},
   "outputs": [
    {
     "data": {
      "text/plain": [
       "'sf_model.gv.pdf'"
      ]
     },
     "execution_count": 5,
     "metadata": {},
     "output_type": "execute_result"
    }
   ],
   "source": [
    "dot.render('sf_model.gv', view=True)"
   ]
  },
  {
   "cell_type": "markdown",
   "metadata": {},
   "source": [
    "## getting real"
   ]
  },
  {
   "cell_type": "code",
   "execution_count": 332,
   "metadata": {},
   "outputs": [],
   "source": [
    "with open('explores/etl_jobs/status.json', 'r') as f:\n",
    "    model = json.load(f)"
   ]
  },
  {
   "cell_type": "code",
   "execution_count": 333,
   "metadata": {},
   "outputs": [],
   "source": [
    "s = model['explore']"
   ]
  },
  {
   "cell_type": "code",
   "execution_count": 98,
   "metadata": {},
   "outputs": [
    {
     "name": "stdout",
     "output_type": "stream",
     "text": [
      "0 explore: sf__campaign_members {\n",
      "1   label: \"Campaign Members\"\n",
      "2   join: sf__campaigns {\n",
      "3 \n",
      "4     sql_on: ${sf__campaign_members.campaign_id} = ${sf__campaigns.id} ;;\n",
      "5     relationship: many_to_one\n",
      "6   }\n",
      "7 \n",
      "8   join: sf__leads {\n",
      "9     sql_on: ${sf__campaign_members.lead_id} = ${sf__leads.id} ;;\n",
      "10     relationship: many_to_one\n",
      "11   }\n",
      "12 \n",
      "13   join: sf__contacts {\n",
      "14     sql_on: ${sf__campaign_members.lead_or_contact_id} = ${sf__contacts.id} ;;\n",
      "15     relationship: many_to_one\n",
      "16   }\n",
      "17 \n",
      "18   join: docker_users {\n",
      "19     from: reghub_dockeruser\n",
      "20     sql_on: docker_users.email = sf__campaign_members.email ;;\n",
      "21     relationship: many_to_one\n",
      "22   }\n",
      "23 \n",
      "24   join: ucp_licenses {\n",
      "25     from: ucp_licensing\n",
      "26     sql_on: ucp_licenses.hub_uuid = replace(${docker_users.uuid}, '-','') ;;\n",
      "27     required_joins: [docker_users]\n",
      "28     relationship: many_to_one\n",
      "29   }\n",
      "30 \n",
      "31   join: ucp_usage {\n",
      "32     sql_on: ucp_usage.license_id = ucp_licenses.license_key ;;\n",
      "33     required_joins: [ucp_licenses]\n",
      "34     relationship: many_to_one\n",
      "35   }\n",
      "36 }\n",
      "37 \n"
     ]
    }
   ],
   "source": [
    "for n, l in enumerate(s): print(n,l)"
   ]
  },
  {
   "cell_type": "code",
   "execution_count": 179,
   "metadata": {},
   "outputs": [],
   "source": [
    "num0 = 0\n",
    "counter = num0+1\n",
    "counter_list = []\n",
    "while counter < len(s): \n",
    "    num0 = counter\n",
    "    counter = num0 + 1\n",
    "    num1 = next((num for num, line in enumerate(s[counter:]) if 'join:' in line), len(s))\n",
    "\n",
    "    if num1 != len(s):\n",
    "        counter += num1\n",
    "        counter_list.append(counter)\n",
    "    else:\n",
    "        counter = len(s)\n",
    "    \n",
    "    \n",
    "    "
   ]
  },
  {
   "cell_type": "code",
   "execution_count": 180,
   "metadata": {},
   "outputs": [
    {
     "data": {
      "text/plain": [
       "[2, 8, 13, 18, 24, 31]"
      ]
     },
     "execution_count": 180,
     "metadata": {},
     "output_type": "execute_result"
    }
   ],
   "source": [
    "counter_list"
   ]
  },
  {
   "cell_type": "code",
   "execution_count": 229,
   "metadata": {},
   "outputs": [],
   "source": [
    "grouped_explore = []\n",
    "grouped_explore.append(s[:counter_list[0]])\n",
    "for r in range(len(counter_list)-1):\n",
    "    grouped_explore.append(s[counter_list[r]: counter_list[r+1]])\n",
    "grouped_explore.append(s[counter_list[-1]:])"
   ]
  },
  {
   "cell_type": "code",
   "execution_count": 230,
   "metadata": {},
   "outputs": [
    {
     "data": {
      "text/plain": [
       "[['explore: sf__campaign_members {', '  label: \"Campaign Members\"'],\n",
       " ['  join: sf__campaigns {',\n",
       "  '',\n",
       "  '    sql_on: ${sf__campaign_members.campaign_id} = ${sf__campaigns.id} ;;',\n",
       "  '    relationship: many_to_one',\n",
       "  '  }',\n",
       "  ''],\n",
       " ['  join: sf__leads {',\n",
       "  '    sql_on: ${sf__campaign_members.lead_id} = ${sf__leads.id} ;;',\n",
       "  '    relationship: many_to_one',\n",
       "  '  }',\n",
       "  ''],\n",
       " ['  join: sf__contacts {',\n",
       "  '    sql_on: ${sf__campaign_members.lead_or_contact_id} = ${sf__contacts.id} ;;',\n",
       "  '    relationship: many_to_one',\n",
       "  '  }',\n",
       "  ''],\n",
       " ['  join: docker_users {',\n",
       "  '    from: reghub_dockeruser',\n",
       "  '    sql_on: docker_users.email = sf__campaign_members.email ;;',\n",
       "  '    relationship: many_to_one',\n",
       "  '  }',\n",
       "  ''],\n",
       " ['  join: ucp_licenses {',\n",
       "  '    from: ucp_licensing',\n",
       "  \"    sql_on: ucp_licenses.hub_uuid = replace(${docker_users.uuid}, '-','') ;;\",\n",
       "  '    required_joins: [docker_users]',\n",
       "  '    relationship: many_to_one',\n",
       "  '  }',\n",
       "  ''],\n",
       " ['  join: ucp_usage {',\n",
       "  '    sql_on: ucp_usage.license_id = ucp_licenses.license_key ;;',\n",
       "  '    required_joins: [ucp_licenses]',\n",
       "  '    relationship: many_to_one',\n",
       "  '  }',\n",
       "  '}',\n",
       "  '']]"
      ]
     },
     "execution_count": 230,
     "metadata": {},
     "output_type": "execute_result"
    }
   ],
   "source": [
    "grouped_explore"
   ]
  },
  {
   "cell_type": "code",
   "execution_count": 270,
   "metadata": {},
   "outputs": [],
   "source": []
  },
  {
   "cell_type": "code",
   "execution_count": 308,
   "metadata": {},
   "outputs": [
    {
     "data": {
      "text/plain": [
       "['explore: sf__campaign_members {',\n",
       " '  label: \"Campaign Members\"',\n",
       " 'from: base_explore']"
      ]
     },
     "execution_count": 308,
     "metadata": {},
     "output_type": "execute_result"
    }
   ],
   "source": [
    "grouped_explore[0]"
   ]
  },
  {
   "cell_type": "code",
   "execution_count": 302,
   "metadata": {},
   "outputs": [],
   "source": [
    "explore_tree = dict()\n",
    "\n",
    "explore_base = list(filter(None, grouped_explore[0][0].split(' ')))[1]\n",
    "for line in grouped_explore[0][1:]:\n",
    "    if 'from:' in line:\n",
    "        explore_base = list(filter(None, line.split(' ')))[1]\n",
    "explore_tree['explore_base'] = explore_base\n",
    "\n",
    "joins = []\n",
    "for clause in grouped_explore[1:]:\n",
    "    join_name = list(filter(None, clause[0].split(' ')))[1]\n",
    "    \n",
    "    for line in clause[1:]:\n",
    "        if 'from:' in line:\n",
    "            join_name = list(filter(None, line.split(' ')))[1]\n",
    "    joins.append(join_name)\n",
    "explore_tree['joins'] = joins"
   ]
  },
  {
   "cell_type": "code",
   "execution_count": 303,
   "metadata": {},
   "outputs": [
    {
     "data": {
      "text/plain": [
       "{'explore_base': 'base_explore',\n",
       " 'joins': ['sf__campaigns',\n",
       "  'sf__leads',\n",
       "  'sf__contacts',\n",
       "  'reghub_dockeruser',\n",
       "  'ucp_licensing',\n",
       "  'ucp_usage']}"
      ]
     },
     "execution_count": 303,
     "metadata": {},
     "output_type": "execute_result"
    }
   ],
   "source": [
    "explore_tree"
   ]
  },
  {
   "cell_type": "code",
   "execution_count": 320,
   "metadata": {},
   "outputs": [],
   "source": [
    "def trace_tree(grouped_explore):\n",
    "    explore_tree = dict()\n",
    "\n",
    "    explore_tree['explore_base'] = trace_base(grouped_explore[0])\n",
    "\n",
    "    joins = []\n",
    "    for clause in grouped_explore[1:]:\n",
    "        joins.append(trace_base(clause))\n",
    "\n",
    "    explore_tree['joins'] = joins\n",
    "    return explore_tree"
   ]
  },
  {
   "cell_type": "code",
   "execution_count": 321,
   "metadata": {},
   "outputs": [],
   "source": [
    "explore_tree = trace_tree(grouped_explore)"
   ]
  },
  {
   "cell_type": "code",
   "execution_count": 316,
   "metadata": {},
   "outputs": [],
   "source": [
    "def trace_base(clause):\n",
    "    for line in clause[1:]:\n",
    "        base = list(filter(None, clause[0].split(' ')))[1]\n",
    "        if 'from:' in line:\n",
    "            base = list(filter(None, line.split(' ')))[1]\n",
    "    return base    "
   ]
  },
  {
   "cell_type": "code",
   "execution_count": 322,
   "metadata": {},
   "outputs": [
    {
     "data": {
      "text/plain": [
       "{'explore_base': 'base_explore',\n",
       " 'joins': ['sf__campaigns',\n",
       "  'sf__leads',\n",
       "  'sf__contacts',\n",
       "  'docker_users',\n",
       "  'ucp_licenses',\n",
       "  'ucp_usage']}"
      ]
     },
     "execution_count": 322,
     "metadata": {},
     "output_type": "execute_result"
    }
   ],
   "source": [
    "explore_tree"
   ]
  },
  {
   "cell_type": "markdown",
   "metadata": {},
   "source": [
    "# testing main"
   ]
  },
  {
   "cell_type": "code",
   "execution_count": 362,
   "metadata": {},
   "outputs": [],
   "source": [
    "import re\n",
    "import os\n",
    "import json\n",
    "import logging\n",
    "\n",
    "\n",
    "def divider(explore_list):\n",
    "    \"\"\"\n",
    "    This function returns a list of location number that points to the joins in the explore list.\n",
    "\n",
    "    :param explore_list: the list of explore, each element is a line from the explore, with possible joins.\n",
    "\n",
    "    :type explore_list: list\n",
    "\n",
    "    :return: a list of integers\n",
    "    \"\"\"\n",
    "    num0 = 0\n",
    "    counter = num0+1\n",
    "    counter_list = []\n",
    "    while counter < len(explore_list): \n",
    "        num0 = counter\n",
    "        counter = num0 + 1\n",
    "        num1 = next((num for num, line in enumerate(explore_list[counter:]) if 'join:' in line), len(explore_list))\n",
    "\n",
    "        if num1 != len(explore_list):\n",
    "            counter += num1\n",
    "            counter_list.append(counter)\n",
    "        else:\n",
    "            counter = len(explore_list)\n",
    "\n",
    "    return counter_list\n",
    "\n",
    "\n",
    "def parser(explore_list, loc_list):\n",
    "    \"\"\"\n",
    "    This function parses a list of explore lines into a grouped structure of explore lines.\n",
    "\n",
    "    :param explore_list: the list representing raw explore file.\n",
    "\n",
    "    :type explore_list: list\n",
    "\n",
    "    :param loc_list: the list of dividers, each divider is the number of join in the explore list\n",
    "\n",
    "    :type loc_list: list\n",
    "\n",
    "    :return: a grouped and nested list representing the explore structure with joins.\n",
    "    \"\"\"\n",
    "    grouped_explore = []\n",
    "    grouped_explore.append(explore_list[:loc_list[0]])\n",
    "    for r in range(len(loc_list)-1):\n",
    "        grouped_explore.append(explore_list[loc_list[r]: loc_list[r+1]])\n",
    "    grouped_explore.append(explore_list[loc_list[-1]:])\n",
    "    return grouped_explore\n",
    "\n",
    "\n",
    "def trace_base(clause):\n",
    "    \"\"\"\n",
    "    This function traces down a join or explore clause back to the base view name.\n",
    "\n",
    "    :param clause: a list of one Lookml clause, that is either an explore level or join level.\n",
    "\n",
    "    :type clause: list\n",
    "\n",
    "    :return: the base view name. string type\n",
    "    \"\"\"\n",
    "    if len(clause) > 1:\n",
    "        for line in clause[1:]:\n",
    "            base = list(filter(None, clause[0].split(' ')))[1]\n",
    "            if 'from:' in line:\n",
    "                base = list(filter(None, line.split(' ')))[1]\n",
    "    else:\n",
    "        base = list(filter(None, clause[0].split(' ')))[1]\n",
    "    return base   \n",
    "\n",
    "\n",
    "def trace_joins(grouped_explore):\n",
    "    \"\"\"\n",
    "    This function generates a dictionary of the explore tree.\n",
    "\n",
    "    :param grouped_explore: a list representing one explore, with each element being either the explore base view details, or the joined view details.\n",
    "\n",
    "    :type grouped_explore: list\n",
    "\n",
    "    :return: a list representing all the joined base view names.\n",
    "    \"\"\"\n",
    "    joins = []\n",
    "    for clause in grouped_explore:\n",
    "        joins.append(trace_base(clause))\n",
    "\n",
    "    return joins"
   ]
  },
  {
   "cell_type": "code",
   "execution_count": null,
   "metadata": {},
   "outputs": [],
   "source": []
  },
  {
   "cell_type": "code",
   "execution_count": 363,
   "metadata": {},
   "outputs": [],
   "source": [
    "with open(f'explores/salesforce/sf__cases.json', 'r') as f:\n",
    "    model = json.load(f)\n",
    "\n",
    "explore_name = list(filter(None, model['explore'][0].split(' ')))[1]\n",
    "explore_list = model['explore']\n",
    "# logging.info(model_name, explore_name)\n",
    "\n",
    "# find the divider of explore level and join level clauses\n",
    "loc_list = divider(explore_list)\n",
    "\n",
    "if len(loc_list) > 1:\n",
    "    # parse the raw list, generate a nested and well grouped list representing the explore and join structure\n",
    "    grouped_explore = parser(explore_list, loc_list)\n",
    "    # generate a list of all joined base view names\n",
    "    explore_joins = trace_joins(grouped_explore)\n",
    "else: \n",
    "    explore_joins = trace_joins([explore_list])\n",
    "\n",
    "explore_dict = dict()\n",
    "explore_dict['explore_name'] = explore_name\n",
    "explore_dict['explore_joins'] = explore_joins"
   ]
  },
  {
   "cell_type": "code",
   "execution_count": 364,
   "metadata": {},
   "outputs": [
    {
     "data": {
      "text/plain": [
       "['sf__cases',\n",
       " 'sf__case_comments',\n",
       " 'sf__accounts',\n",
       " 'sf__opportunities',\n",
       " 'opportunity_products',\n",
       " 'sf__opportunity_revenue_movements',\n",
       " 'sf__opportunity_total_revenue',\n",
       " 'sf__contacts',\n",
       " 'owners',\n",
       " 'creators',\n",
       " 'sf__leads']"
      ]
     },
     "execution_count": 364,
     "metadata": {},
     "output_type": "execute_result"
    }
   ],
   "source": [
    "trace_joins(grouped_explore)"
   ]
  },
  {
   "cell_type": "code",
   "execution_count": 367,
   "metadata": {},
   "outputs": [
    {
     "data": {
      "text/plain": [
       "[['explore: sf__cases {',\n",
       "  '  persist_for: \"24 hours\"',\n",
       "  '  label: \"Cases\"',\n",
       "  '  # Label the view in the Explore UI as Cases (instead of the long explore name)',\n",
       "  '  view_label: \"Cases\"',\n",
       "  '  # Add a convenient description to Explore',\n",
       "  '  description: \"Cases and associated comments\"',\n",
       "  ''],\n",
       " ['  join: sf__case_comments {',\n",
       "  '    view_label: \"Case Comments\"',\n",
       "  '    sql_on: ${sf__cases.id} = ${sf__case_comments.parent_id} ;;',\n",
       "  '    relationship: one_to_many',\n",
       "  '  }',\n",
       "  ''],\n",
       " ['  join: sf__accounts {',\n",
       "  '    view_label: \"Case Accounts\"',\n",
       "  '    sql_on: ${sf__cases.account_id} = ${sf__accounts.id} ;;',\n",
       "  '    relationship: many_to_one',\n",
       "  '  }',\n",
       "  ''],\n",
       " ['  join: sf__opportunities {',\n",
       "  '    view_label: \"Opportunities\"',\n",
       "  '    sql_on: ${sf__opportunities.account_id} = ${sf__accounts.id} ;;',\n",
       "  '    relationship: one_to_many',\n",
       "  '  }',\n",
       "  ''],\n",
       " ['  join: opportunity_products {',\n",
       "  '    from: sf__opportunity_products',\n",
       "  '    view_label: \"Opportunitiy Products\"',\n",
       "  '    sql_on: ${sf__opportunities.id} = ${opportunity_products.opportunity_id} ;;',\n",
       "  '    relationship: one_to_many',\n",
       "  '  }',\n",
       "  ''],\n",
       " ['  join: sf__opportunity_revenue_movements {',\n",
       "  '    view_label: \"Total Booking Movements\"',\n",
       "  '    sql_on: ${sf__opportunity_revenue_movements.account_id} = ${sf__cases.account_id} ;;',\n",
       "  '    relationship: many_to_many',\n",
       "  '  }'],\n",
       " ['  join: sf__opportunity_total_revenue {',\n",
       "  '    view_label: \"Total Opportunity Bookings\"',\n",
       "  '    sql_on: ${sf__opportunity_total_revenue.report_date} = ${sf__opportunity_revenue_movements.report_date} ;;',\n",
       "  '    relationship: many_to_many',\n",
       "  '  }',\n",
       "  ''],\n",
       " ['  join: sf__contacts {',\n",
       "  '    view_label: \"Case Contacts\"',\n",
       "  '    sql_on: ${sf__cases.contact_id} = ${sf__contacts.id} ;;',\n",
       "  '    relationship: many_to_one',\n",
       "  '  }',\n",
       "  ''],\n",
       " ['  join: owners {',\n",
       "  '    from: sf__users',\n",
       "  '    view_label: \"Case Owners\"',\n",
       "  '    sql_on: ${sf__cases.owner_id} = ${owners.id} ;;',\n",
       "  '    relationship: many_to_one',\n",
       "  '  }',\n",
       "  ''],\n",
       " ['  join: creators {',\n",
       "  '    from: sf__users',\n",
       "  '    view_label: \"Case Creators\"',\n",
       "  '    sql_on: ${sf__cases.created_by_id} = ${creators.id} ;;',\n",
       "  '    relationship: many_to_one',\n",
       "  '  }',\n",
       "  ''],\n",
       " ['  join: sf__leads {',\n",
       "  '    view_label: \"Leads\"',\n",
       "  '    sql_on: ${sf__leads.converted_opportunity_id} = ${sf__opportunities.id} ;;',\n",
       "  '    relationship: one_to_one',\n",
       "  '  }',\n",
       "  '',\n",
       "  '}',\n",
       "  '']]"
      ]
     },
     "execution_count": 367,
     "metadata": {},
     "output_type": "execute_result"
    }
   ],
   "source": [
    "grouped_explore"
   ]
  },
  {
   "cell_type": "code",
   "execution_count": 365,
   "metadata": {},
   "outputs": [],
   "source": [
    "joins = []\n",
    "for clause in grouped_explore:\n",
    "    joins.append(trace_base(clause))"
   ]
  },
  {
   "cell_type": "code",
   "execution_count": 378,
   "metadata": {},
   "outputs": [
    {
     "data": {
      "text/plain": [
       "['  join: opportunity_products {',\n",
       " '    from: sf__opportunity_products',\n",
       " '    view_label: \"Opportunitiy Products\"',\n",
       " '    sql_on: ${sf__opportunities.id} = ${opportunity_products.opportunity_id} ;;',\n",
       " '    relationship: one_to_many',\n",
       " '  }',\n",
       " '']"
      ]
     },
     "execution_count": 378,
     "metadata": {},
     "output_type": "execute_result"
    }
   ],
   "source": [
    "grouped_explore[4]"
   ]
  },
  {
   "cell_type": "code",
   "execution_count": 389,
   "metadata": {},
   "outputs": [
    {
     "name": "stdout",
     "output_type": "stream",
     "text": [
      "yes\n"
     ]
    }
   ],
   "source": [
    "for line in grouped_explore[4][1:]:\n",
    "\n",
    "    base = list(filter(None, grouped_explore[4][0].split(' ')))[1]\n",
    "    \n",
    "    if 'from:' in line:\n",
    "        print('yes')\n",
    "        base = list(filter(None, line.split(' ')))[1]\n",
    "        break\n",
    "        "
   ]
  },
  {
   "cell_type": "code",
   "execution_count": 386,
   "metadata": {},
   "outputs": [],
   "source": [
    "line = grouped_explore[4][1]"
   ]
  },
  {
   "cell_type": "code",
   "execution_count": 381,
   "metadata": {},
   "outputs": [
    {
     "data": {
      "text/plain": [
       "'sf__opportunity_products'"
      ]
     },
     "execution_count": 381,
     "metadata": {},
     "output_type": "execute_result"
    }
   ],
   "source": [
    "list(filter(None, line.split(' ')))[1]"
   ]
  },
  {
   "cell_type": "code",
   "execution_count": 388,
   "metadata": {},
   "outputs": [
    {
     "data": {
      "text/plain": [
       "True"
      ]
     },
     "execution_count": 388,
     "metadata": {},
     "output_type": "execute_result"
    }
   ],
   "source": [
    "'from:' in line"
   ]
  },
  {
   "cell_type": "code",
   "execution_count": 387,
   "metadata": {},
   "outputs": [
    {
     "data": {
      "text/plain": [
       "'    from: sf__opportunity_products'"
      ]
     },
     "execution_count": 387,
     "metadata": {},
     "output_type": "execute_result"
    }
   ],
   "source": [
    "line"
   ]
  },
  {
   "cell_type": "code",
   "execution_count": null,
   "metadata": {},
   "outputs": [],
   "source": []
  }
 ],
 "metadata": {
  "kernelspec": {
   "display_name": "Python 3",
   "language": "python",
   "name": "python3"
  },
  "language_info": {
   "codemirror_mode": {
    "name": "ipython",
    "version": 3
   },
   "file_extension": ".py",
   "mimetype": "text/x-python",
   "name": "python",
   "nbconvert_exporter": "python",
   "pygments_lexer": "ipython3",
   "version": "3.7.4"
  }
 },
 "nbformat": 4,
 "nbformat_minor": 2
}

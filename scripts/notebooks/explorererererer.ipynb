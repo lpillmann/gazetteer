{
 "cells": [
  {
   "cell_type": "markdown",
   "metadata": {},
   "source": [
    "# explore models"
   ]
  },
  {
   "cell_type": "code",
   "execution_count": null,
   "metadata": {},
   "outputs": [],
   "source": [
    "model = '''\n",
    "    connection: \"data_warehouse\"\n",
    "\n",
    "    datagroup: sfdc_oppty_data {\n",
    "      max_cache_age: \"24 hours\"\n",
    "      sql_trigger:\n",
    "        select DATE_PART('day',max(received_at)) || '-' || DATE_PART('hour',max(received_at)) as day_hour from salesforce.opportunities ;;\n",
    "    }\n",
    "    datagroup: sfdc_lead_and_contact_data {\n",
    "      max_cache_age: \"24 hours\"\n",
    "      sql_trigger:\n",
    "        WITH leads_and_contacts as (select received_at from salesforce.leads UNION select received_at from salesforce.contacts )\n",
    "        select DATE_PART('day',max(received_at)) || '-' || DATE_PART('hour',max(received_at)) as day_hour from leads_and_contacts ;;\n",
    "    }\n",
    "\n",
    "    # model-level access grants\n",
    "    access_grant: can_view_revenue_data {\n",
    "      user_attribute: access_grant_revenue\n",
    "      allowed_values: [ \"yes\" ]\n",
    "    }\n",
    "\n",
    "    # include extended views\n",
    "    include: \"sf__*[!.][!z].view.lkml\"\n",
    "    include: \"stripe*[!.][!z].view.lkml\"\n",
    "    include: \"marketo*[!.][!z].view.lkml\"\n",
    "    include: \"reghub_dockeruser.view.lkml\"\n",
    "    include: \"ucp_*[!.][!z].view.lkml\"\n",
    "    include: \"dtr_*[!.][!z].view.lkml\"\n",
    "    include: \"finance_revenue_forecast.view.lkml\"\n",
    "\n",
    "    include: \"sf__opportunity_dockercon_renewals.z.view.lkml\"\n",
    "    include: \"salesforce/*.view\"\n",
    "\n",
    "\n",
    "    # include just SFDC-related LookML dashboards\n",
    "    include: \"sf__marketing_leadership.dashboard.lookml\"\n",
    "\n",
    "    # Define the Fiscal Year offset\n",
    "    fiscal_month_offset:  -11 # starts in February\n",
    "\n",
    "    explore: bizible_attribution_touchpoint {}\n",
    "    \n",
    "    #\n",
    "    # Explore joins SFDC account and lead objects on an engagio determined custom field\n",
    "    #\n",
    "    explore: sf__accounts_leads_engagio {\n",
    "      label: \"Accounts (Engagio)\"\n",
    "      # Base view of explore\n",
    "      from: sf__accounts\n",
    "      # Hide it from the main list -- still accessible via URL\n",
    "      hidden: yes\n",
    "      # Label the view in the Explore UI as Accounts (instead of the long explore name)\n",
    "      view_label: \"Accounts\"\n",
    "      # Add a convenient description to Explore\n",
    "      description: \"Accounts and associated leads as identified by engagio\"\n",
    "      # Ignore deleted accounts\n",
    "      sql_always_where: NOT ${sf__accounts_leads_engagio.is_deleted}\n",
    "        ;;\n",
    "\n",
    "      join: sf__leads {\n",
    "        view_label: \"Leads\"\n",
    "        sql_on: ${sf__accounts_leads_engagio.id} = ${sf__leads.engagio_matched_account} ;;\n",
    "        # One account will have many leads,\n",
    "        # and a lead (from engagio's perspective) belongs to a single account\n",
    "        relationship: one_to_many\n",
    "      }\n",
    "\n",
    "join: sf__opportunities {\n",
    "    from: sf__opportunities_extended\n",
    "    view_label: \"Opportunities\"\n",
    "    sql_on: ${sf__opportunity_ltm_acv.opportunity_id} = ${sf__opportunities.id} ;;\n",
    "    relationship: many_to_one\n",
    "    }\n",
    "  # join only opportunities with close dates matching the LTM ACV report dates (used by the Sales/Exec Dashboards)\n",
    "    join: sf__accounts {\n",
    "      sql_table_name: SEGMENT.SALESFORCE.ACCOUNTS ;;\n",
    "      sql_on: ${sf__opportunities.account_id} = ${sf__accounts.id} ;;\n",
    "      }\n",
    "  \n",
    "#  join: contacts {\n",
    "#    from: sf__contacts\n",
    "#    sql_table_name: SEGMENT.SALESFORCE.CONTACTS ;;\n",
    "#    sql_on: ${contacts.id} = ${opportunity_contacts.contact_id} ;;\n",
    "#  }\n",
    "}\n",
    "'''"
   ]
  },
  {
   "cell_type": "code",
   "execution_count": null,
   "metadata": {},
   "outputs": [],
   "source": [
    "model = model.lstrip('\\n').rstrip('\\n').split('\\n')"
   ]
  },
  {
   "cell_type": "code",
   "execution_count": null,
   "metadata": {},
   "outputs": [],
   "source": [
    "model"
   ]
  },
  {
   "cell_type": "code",
   "execution_count": null,
   "metadata": {},
   "outputs": [],
   "source": [
    "def joining_joins(join_list):\n",
    "    \"\"\"\n",
    "    This function takes in a list of rows in an lkml file, and groups each joins with its own parameters.\n",
    "    Returns a list of joined tables.\n",
    "    :param join_list: the preprocessed list version of lkml file.\n",
    "    :type: join_list list\n",
    "    :return: stitch_join \n",
    "    \"\"\"\n",
    "    stitch_join = []\n",
    "    for num, line in enumerate(join_list):\n",
    "        \n",
    "        if 'connection:' == line.lstrip().split(' ')[0] and '#' not in line:\n",
    "            stitch_join.append(line.lstrip())\n",
    "        \n",
    "        elif 'explore:' == line.lstrip().split(' ')[0] and '#' not in line:\n",
    "            begin = num\n",
    "            for num2 in range(begin, len(join_list)):\n",
    "\n",
    "                if any(join_list[num2+1].lstrip().split(':')[0] == x for x in ['join', 'explore']):\n",
    "                    end = num2\n",
    "                    stitch_join.append(list(filter(lambda x: '#' not in x, join_list[begin:end])))\n",
    "                    break\n",
    "        \n",
    "        elif 'join:' == line.lstrip().split(' ')[0] and '#' not in line:\n",
    "            begin = num\n",
    "\n",
    "            for num2 in range(begin, len(join_list)):\n",
    "                if '}' == join_list[num2].lstrip()[0]:\n",
    "                    end = num2 \n",
    "                    stitch_join.append(list(filter(lambda x: '#' not in x, join_list[begin:end])))\n",
    "                    break\n",
    "                    \n",
    "    return stitch_join\n"
   ]
  },
  {
   "cell_type": "code",
   "execution_count": null,
   "metadata": {},
   "outputs": [],
   "source": [
    "# any(x == join_list[num2].lstrip().split(':')[0] for x in ['join', 'explore'])"
   ]
  },
  {
   "cell_type": "code",
   "execution_count": null,
   "metadata": {
    "scrolled": true
   },
   "outputs": [],
   "source": [
    "clean_model = joining_joins(model)"
   ]
  },
  {
   "cell_type": "code",
   "execution_count": null,
   "metadata": {},
   "outputs": [],
   "source": [
    "clean_model"
   ]
  },
  {
   "cell_type": "code",
   "execution_count": null,
   "metadata": {},
   "outputs": [],
   "source": [
    "def extract_lineage(clean_model):\n",
    "    \"\"\"\n",
    "    This function extracts explore name and all dependent views with key params.\n",
    "    :param clean_model: a list of explore details\n",
    "    :type: clean_model list\n",
    "    :return model_dict: a dictionary of explore and dependent view detials in a list\n",
    "    \"\"\"\n",
    "    model_dict = {}\n",
    "    joins = []\n",
    "    explores = []\n",
    "    for table in clean_model:\n",
    "        \n",
    "        if 'connection: \"' in table:\n",
    "            connection = table.split(': ')[1].lstrip('\"').rstrip('\"')\n",
    "        \n",
    "        table_list = list(filter(lambda x: any(key_word in x for key_word in ['connection:', 'explore:', 'join:', 'from:', 'view_label:', 'sql_table_name:']), table))\n",
    "        table_joined = ' '.join(table_list)\n",
    "        table_list_new = list(filter(None, re.split(r'\\W', table_joined)))\n",
    "        print(table_list_new)\n",
    "        if 'explore' in table_list_new:\n",
    "            explore = table_list_new[1]\n",
    "            explores.extend(table_list_new)\n",
    "#             model_dict[f'{explore}'] = explore\n",
    "            \n",
    "        elif 'join' in table_list_new:\n",
    "            joins.extend(table_list_new)\n",
    "            model_dict[f'{explore}'] = joins\n",
    "\n",
    "        model_dict['connection'] = connection\n",
    "#         model_dict[f'{explore}'] = explores\n",
    "#         model_dict[f'{explore}']['joins'] = joins\n",
    "    \n",
    "    return model_dict\n"
   ]
  },
  {
   "cell_type": "code",
   "execution_count": null,
   "metadata": {},
   "outputs": [],
   "source": [
    "extract_lineage(clean_model)"
   ]
  },
  {
   "cell_type": "code",
   "execution_count": null,
   "metadata": {},
   "outputs": [],
   "source": [
    "with open('sfdc.model.lkml', 'r+') as f:\n",
    "    for num, line in enumerate(f):\n",
    "        print(num, line)"
   ]
  },
  {
   "cell_type": "code",
   "execution_count": null,
   "metadata": {},
   "outputs": [],
   "source": [
    "line_file = [line.rstrip('\\n') for line in open('sfdc.model.lkml')]\n",
    "loc_explore = []\n",
    "for num, line in enumerate(line_file):\n",
    "    if 'explore:' == line.split(' ')[0]:\n",
    "        loc_explore.append(num)\n",
    "    elif 'connection:' == line.split(' ')[0]:\n",
    "        conn = line.split(' ')[1]\n",
    "loc_explore.append(len(line_file)+1)\n",
    "print(loc_explore)\n"
   ]
  },
  {
   "cell_type": "code",
   "execution_count": null,
   "metadata": {},
   "outputs": [],
   "source": [
    "import json"
   ]
  },
  {
   "cell_type": "code",
   "execution_count": null,
   "metadata": {},
   "outputs": [],
   "source": [
    "for i in range(len(loc_explore)-1):\n",
    "    explore_dict = {}\n",
    "    explore_dict['conn'] = conn.lstrip('\"').rstrip('\"')\n",
    "    explore_dict['explore'] = line_file[loc_explore[i]:loc_explore[i+1]]\n",
    "    explore_dict['explore_name'] = explore_dict['explore'][0].split(' ')[1]\n",
    "    explore_json = json.dumps(explore_dict)\n",
    "    f = open(f\"{explore_dict['explore_name']}.json\",\"w\")\n",
    "    f.write(explore_json)\n",
    "    f.close()"
   ]
  },
  {
   "cell_type": "code",
   "execution_count": null,
   "metadata": {},
   "outputs": [],
   "source": [
    "with open('bizible_histories.json', 'r') as f:\n",
    "    explore = json.load(f)\n"
   ]
  },
  {
   "cell_type": "code",
   "execution_count": null,
   "metadata": {},
   "outputs": [],
   "source": [
    "explore"
   ]
  },
  {
   "cell_type": "markdown",
   "metadata": {},
   "source": [
    "# testing main"
   ]
  },
  {
   "cell_type": "code",
   "execution_count": 1,
   "metadata": {},
   "outputs": [],
   "source": [
    "import re\n",
    "import json\n",
    "import os\n",
    "import logging\n",
    "import time\n",
    "from model_separator import split_up_model\n"
   ]
  },
  {
   "cell_type": "code",
   "execution_count": 3,
   "metadata": {
    "scrolled": true
   },
   "outputs": [
    {
     "ename": "UnicodeDecodeError",
     "evalue": "'utf-8' codec can't decode byte 0x80 in position 3131: invalid start byte",
     "output_type": "error",
     "traceback": [
      "\u001b[0;31m---------------------------------------------------------------------------\u001b[0m",
      "\u001b[0;31mUnicodeDecodeError\u001b[0m                        Traceback (most recent call last)",
      "\u001b[0;32m<ipython-input-3-b610845efb22>\u001b[0m in \u001b[0;36m<module>\u001b[0;34m\u001b[0m\n\u001b[1;32m      1\u001b[0m \u001b[0;32mfor\u001b[0m \u001b[0mmodel\u001b[0m \u001b[0;32min\u001b[0m \u001b[0mos\u001b[0m\u001b[0;34m.\u001b[0m\u001b[0mlistdir\u001b[0m\u001b[0;34m(\u001b[0m\u001b[0;34m'models'\u001b[0m\u001b[0;34m)\u001b[0m\u001b[0;34m:\u001b[0m\u001b[0;34m\u001b[0m\u001b[0;34m\u001b[0m\u001b[0m\n\u001b[1;32m      2\u001b[0m     \u001b[0mmodel_folder\u001b[0m \u001b[0;34m=\u001b[0m \u001b[0mmodel\u001b[0m\u001b[0;34m.\u001b[0m\u001b[0msplit\u001b[0m\u001b[0;34m(\u001b[0m\u001b[0;34m'.'\u001b[0m\u001b[0;34m)\u001b[0m\u001b[0;34m[\u001b[0m\u001b[0;36m0\u001b[0m\u001b[0;34m]\u001b[0m\u001b[0;34m\u001b[0m\u001b[0;34m\u001b[0m\u001b[0m\n\u001b[0;32m----> 3\u001b[0;31m     \u001b[0msplit_up_model\u001b[0m\u001b[0;34m(\u001b[0m\u001b[0;34mf'models/{model}'\u001b[0m\u001b[0;34m,\u001b[0m \u001b[0;34mf\"explores/{model_folder}\"\u001b[0m\u001b[0;34m)\u001b[0m\u001b[0;34m\u001b[0m\u001b[0;34m\u001b[0m\u001b[0m\n\u001b[0m\u001b[1;32m      4\u001b[0m     \u001b[0mlogging\u001b[0m\u001b[0;34m.\u001b[0m\u001b[0minfo\u001b[0m\u001b[0;34m(\u001b[0m\u001b[0;34mf'Completed splitting model {model_folder} into explores.'\u001b[0m\u001b[0;34m)\u001b[0m\u001b[0;34m\u001b[0m\u001b[0;34m\u001b[0m\u001b[0m\n",
      "\u001b[0;32m~/Dev/playground/model_separator.py\u001b[0m in \u001b[0;36msplit_up_model\u001b[0;34m(model_path, model_folder)\u001b[0m\n\u001b[1;32m     21\u001b[0m     \"\"\"\n\u001b[1;32m     22\u001b[0m     \u001b[0;31m# read model file into a list\u001b[0m\u001b[0;34m\u001b[0m\u001b[0;34m\u001b[0m\u001b[0;34m\u001b[0m\u001b[0m\n\u001b[0;32m---> 23\u001b[0;31m     \u001b[0mline_file\u001b[0m \u001b[0;34m=\u001b[0m \u001b[0;34m[\u001b[0m\u001b[0mline\u001b[0m\u001b[0;34m.\u001b[0m\u001b[0mrstrip\u001b[0m\u001b[0;34m(\u001b[0m\u001b[0;34m'\\n'\u001b[0m\u001b[0;34m)\u001b[0m \u001b[0;32mfor\u001b[0m \u001b[0mline\u001b[0m \u001b[0;32min\u001b[0m \u001b[0mopen\u001b[0m\u001b[0;34m(\u001b[0m\u001b[0mmodel_path\u001b[0m\u001b[0;34m)\u001b[0m\u001b[0;34m]\u001b[0m\u001b[0;34m\u001b[0m\u001b[0;34m\u001b[0m\u001b[0m\n\u001b[0m\u001b[1;32m     24\u001b[0m \u001b[0;34m\u001b[0m\u001b[0m\n\u001b[1;32m     25\u001b[0m     \u001b[0;31m# get the line number of each explore\u001b[0m\u001b[0;34m\u001b[0m\u001b[0;34m\u001b[0m\u001b[0;34m\u001b[0m\u001b[0m\n",
      "\u001b[0;32m~/Dev/playground/model_separator.py\u001b[0m in \u001b[0;36m<listcomp>\u001b[0;34m(.0)\u001b[0m\n\u001b[1;32m     21\u001b[0m     \"\"\"\n\u001b[1;32m     22\u001b[0m     \u001b[0;31m# read model file into a list\u001b[0m\u001b[0;34m\u001b[0m\u001b[0;34m\u001b[0m\u001b[0;34m\u001b[0m\u001b[0m\n\u001b[0;32m---> 23\u001b[0;31m     \u001b[0mline_file\u001b[0m \u001b[0;34m=\u001b[0m \u001b[0;34m[\u001b[0m\u001b[0mline\u001b[0m\u001b[0;34m.\u001b[0m\u001b[0mrstrip\u001b[0m\u001b[0;34m(\u001b[0m\u001b[0;34m'\\n'\u001b[0m\u001b[0;34m)\u001b[0m \u001b[0;32mfor\u001b[0m \u001b[0mline\u001b[0m \u001b[0;32min\u001b[0m \u001b[0mopen\u001b[0m\u001b[0;34m(\u001b[0m\u001b[0mmodel_path\u001b[0m\u001b[0;34m)\u001b[0m\u001b[0;34m]\u001b[0m\u001b[0;34m\u001b[0m\u001b[0;34m\u001b[0m\u001b[0m\n\u001b[0m\u001b[1;32m     24\u001b[0m \u001b[0;34m\u001b[0m\u001b[0m\n\u001b[1;32m     25\u001b[0m     \u001b[0;31m# get the line number of each explore\u001b[0m\u001b[0;34m\u001b[0m\u001b[0;34m\u001b[0m\u001b[0;34m\u001b[0m\u001b[0m\n",
      "\u001b[0;32m/usr/local/Cellar/python/3.7.4_1/Frameworks/Python.framework/Versions/3.7/lib/python3.7/codecs.py\u001b[0m in \u001b[0;36mdecode\u001b[0;34m(self, input, final)\u001b[0m\n\u001b[1;32m    320\u001b[0m         \u001b[0;31m# decode input (taking the buffer into account)\u001b[0m\u001b[0;34m\u001b[0m\u001b[0;34m\u001b[0m\u001b[0;34m\u001b[0m\u001b[0m\n\u001b[1;32m    321\u001b[0m         \u001b[0mdata\u001b[0m \u001b[0;34m=\u001b[0m \u001b[0mself\u001b[0m\u001b[0;34m.\u001b[0m\u001b[0mbuffer\u001b[0m \u001b[0;34m+\u001b[0m \u001b[0minput\u001b[0m\u001b[0;34m\u001b[0m\u001b[0;34m\u001b[0m\u001b[0m\n\u001b[0;32m--> 322\u001b[0;31m         \u001b[0;34m(\u001b[0m\u001b[0mresult\u001b[0m\u001b[0;34m,\u001b[0m \u001b[0mconsumed\u001b[0m\u001b[0;34m)\u001b[0m \u001b[0;34m=\u001b[0m \u001b[0mself\u001b[0m\u001b[0;34m.\u001b[0m\u001b[0m_buffer_decode\u001b[0m\u001b[0;34m(\u001b[0m\u001b[0mdata\u001b[0m\u001b[0;34m,\u001b[0m \u001b[0mself\u001b[0m\u001b[0;34m.\u001b[0m\u001b[0merrors\u001b[0m\u001b[0;34m,\u001b[0m \u001b[0mfinal\u001b[0m\u001b[0;34m)\u001b[0m\u001b[0;34m\u001b[0m\u001b[0;34m\u001b[0m\u001b[0m\n\u001b[0m\u001b[1;32m    323\u001b[0m         \u001b[0;31m# keep undecoded input until the next call\u001b[0m\u001b[0;34m\u001b[0m\u001b[0;34m\u001b[0m\u001b[0;34m\u001b[0m\u001b[0m\n\u001b[1;32m    324\u001b[0m         \u001b[0mself\u001b[0m\u001b[0;34m.\u001b[0m\u001b[0mbuffer\u001b[0m \u001b[0;34m=\u001b[0m \u001b[0mdata\u001b[0m\u001b[0;34m[\u001b[0m\u001b[0mconsumed\u001b[0m\u001b[0;34m:\u001b[0m\u001b[0;34m]\u001b[0m\u001b[0;34m\u001b[0m\u001b[0;34m\u001b[0m\u001b[0m\n",
      "\u001b[0;31mUnicodeDecodeError\u001b[0m: 'utf-8' codec can't decode byte 0x80 in position 3131: invalid start byte"
     ]
    }
   ],
   "source": [
    "for model in os.listdir('models'):\n",
    "    model_folder = model.split('.')[0]\n",
    "    split_up_model(f'models/{model}', f\"explores/{model_folder}\")\n",
    "    logging.info(f'Completed splitting model {model_folder} into explores.')"
   ]
  },
  {
   "cell_type": "code",
   "execution_count": 4,
   "metadata": {},
   "outputs": [
    {
     "data": {
      "text/plain": [
       "['.DS_Store', 'sample_model.model.lkml']"
      ]
     },
     "execution_count": 4,
     "metadata": {},
     "output_type": "execute_result"
    }
   ],
   "source": [
    "os.listdir('models/')"
   ]
  },
  {
   "cell_type": "code",
   "execution_count": null,
   "metadata": {},
   "outputs": [],
   "source": [
    "split_up_model(f'models/sample_', f\"explores/{model_folder}\")"
   ]
  },
  {
   "cell_type": "code",
   "execution_count": null,
   "metadata": {},
   "outputs": [],
   "source": []
  },
  {
   "cell_type": "markdown",
   "metadata": {},
   "source": [
    "# view files"
   ]
  },
  {
   "cell_type": "code",
   "execution_count": null,
   "metadata": {},
   "outputs": [],
   "source": []
  },
  {
   "cell_type": "code",
   "execution_count": null,
   "metadata": {},
   "outputs": [],
   "source": []
  },
  {
   "cell_type": "code",
   "execution_count": null,
   "metadata": {},
   "outputs": [],
   "source": []
  },
  {
   "cell_type": "code",
   "execution_count": null,
   "metadata": {},
   "outputs": [],
   "source": []
  },
  {
   "cell_type": "markdown",
   "metadata": {},
   "source": [
    "## type A: NDT"
   ]
  },
  {
   "cell_type": "code",
   "execution_count": null,
   "metadata": {},
   "outputs": [],
   "source": []
  },
  {
   "cell_type": "markdown",
   "metadata": {},
   "source": [
    "## type B: sql_table_name"
   ]
  },
  {
   "cell_type": "code",
   "execution_count": null,
   "metadata": {},
   "outputs": [],
   "source": []
  },
  {
   "cell_type": "markdown",
   "metadata": {},
   "source": [
    "## type C: raw sql"
   ]
  },
  {
   "cell_type": "code",
   "execution_count": null,
   "metadata": {},
   "outputs": [],
   "source": []
  },
  {
   "cell_type": "markdown",
   "metadata": {},
   "source": [
    "## type D: (most complicated) view extends from another view within the same file"
   ]
  },
  {
   "cell_type": "code",
   "execution_count": null,
   "metadata": {},
   "outputs": [],
   "source": []
  },
  {
   "cell_type": "code",
   "execution_count": null,
   "metadata": {},
   "outputs": [],
   "source": []
  },
  {
   "cell_type": "code",
   "execution_count": null,
   "metadata": {},
   "outputs": [],
   "source": []
  },
  {
   "cell_type": "code",
   "execution_count": null,
   "metadata": {},
   "outputs": [],
   "source": []
  },
  {
   "cell_type": "code",
   "execution_count": null,
   "metadata": {},
   "outputs": [],
   "source": []
  },
  {
   "cell_type": "code",
   "execution_count": null,
   "metadata": {},
   "outputs": [],
   "source": []
  },
  {
   "cell_type": "code",
   "execution_count": null,
   "metadata": {},
   "outputs": [],
   "source": []
  },
  {
   "cell_type": "code",
   "execution_count": null,
   "metadata": {},
   "outputs": [],
   "source": []
  },
  {
   "cell_type": "code",
   "execution_count": null,
   "metadata": {},
   "outputs": [],
   "source": []
  }
 ],
 "metadata": {
  "kernelspec": {
   "display_name": "Python 3",
   "language": "python",
   "name": "python3"
  },
  "language_info": {
   "codemirror_mode": {
    "name": "ipython",
    "version": 3
   },
   "file_extension": ".py",
   "mimetype": "text/x-python",
   "name": "python",
   "nbconvert_exporter": "python",
   "pygments_lexer": "ipython3",
   "version": "3.7.4"
  }
 },
 "nbformat": 4,
 "nbformat_minor": 2
}

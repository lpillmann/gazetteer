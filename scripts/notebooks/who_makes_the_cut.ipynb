{
 "cells": [
  {
   "cell_type": "code",
   "execution_count": 1,
   "metadata": {},
   "outputs": [],
   "source": [
    "from graphviz import Digraph\n",
    "import json\n",
    "import os\n",
    "import get_connections\n",
    "import logging\n"
   ]
  },
  {
   "cell_type": "code",
   "execution_count": 31,
   "metadata": {},
   "outputs": [],
   "source": [
    "with open(f'{dir_path}/../maps/explore-salesforce-sf__accounts.json', 'r') as f:\n",
    "    map_accounts_explore = json.load(f)\n",
    "\n",
    "explore = explore_view_dependency(join_list = map_accounts_explore['explore_joins'], dir_path=dir_path)\n"
   ]
  },
  {
   "cell_type": "code",
   "execution_count": 33,
   "metadata": {},
   "outputs": [
    {
     "data": {
      "text/plain": [
       "{'explore_name': 'sf__accounts',\n",
       " 'explore_joins': ['sf__accounts', 'sf__users', 'sf__cases', 'sf__contacts'],\n",
       " 'conn': 'data_warehouse'}"
      ]
     },
     "execution_count": 33,
     "metadata": {},
     "output_type": "execute_result"
    }
   ],
   "source": [
    "map_accounts_explore"
   ]
  },
  {
   "cell_type": "code",
   "execution_count": 32,
   "metadata": {},
   "outputs": [
    {
     "data": {
      "text/plain": [
       "{'sf__accounts': ['sfbase__accounts',\n",
       "  'sf__accounts',\n",
       "  'snowflake_sf__accounts',\n",
       "  'total_active_node_count'],\n",
       " 'sf__users': ['sfbase__users', 'sf__users'],\n",
       " 'sf__cases': ['sf__cases', 'sfbase__cases'],\n",
       " 'sf__contacts': ['sf__contacts', 'sfbase__contacts']}"
      ]
     },
     "execution_count": 32,
     "metadata": {},
     "output_type": "execute_result"
    }
   ],
   "source": [
    "explore"
   ]
  },
  {
   "cell_type": "code",
   "execution_count": 13,
   "metadata": {},
   "outputs": [],
   "source": [
    "view_source = view_source_dependency('explore_sf__accounts-source.json', dir_path=dir_path)\n"
   ]
  },
  {
   "cell_type": "code",
   "execution_count": 28,
   "metadata": {},
   "outputs": [
    {
     "data": {
      "text/plain": [
       "{'sfbase__accounts': 'Redshift.salesforce.accounts',\n",
       " 'sf__accounts': 'Redshift.salesforce.accounts',\n",
       " 'snowflake_sf__accounts': 'SEGMENT.SALESFORCE.ACCOUNTS',\n",
       " 'total_active_node_count': 'derived table',\n",
       " 'sf__cases': 'Redshift.salesforce.cases',\n",
       " 'sfbase__users': 'Redshift.salesforce.users',\n",
       " 'sf__contacts': 'Redshift.salesforce.contacts',\n",
       " 'sfbase__cases': 'Redshift.salesforce.cases',\n",
       " 'sf__users': 'Redshift.salesforce.users',\n",
       " 'sfbase__contacts': 'Redshift.salesforce.contacts'}"
      ]
     },
     "execution_count": 28,
     "metadata": {},
     "output_type": "execute_result"
    }
   ],
   "source": [
    "view_source"
   ]
  },
  {
   "cell_type": "code",
   "execution_count": 14,
   "metadata": {},
   "outputs": [],
   "source": [
    "explore=explore\n",
    "explore_name='sf__accounts'\n",
    "join_list=map_accounts_explore['explore_joins']\n",
    "view_source_payload=view_source"
   ]
  },
  {
   "cell_type": "code",
   "execution_count": 15,
   "metadata": {},
   "outputs": [
    {
     "data": {
      "text/plain": [
       "['sf__accounts', 'sf__users', 'sf__cases', 'sf__contacts']"
      ]
     },
     "execution_count": 15,
     "metadata": {},
     "output_type": "execute_result"
    }
   ],
   "source": [
    "join_list"
   ]
  },
  {
   "cell_type": "code",
   "execution_count": 35,
   "metadata": {},
   "outputs": [],
   "source": [
    "with open(f'{dir_path}/../maps/explore_sf__accounts-source.json', 'r') as f:\n",
    "    view_source = json.load(f)"
   ]
  },
  {
   "cell_type": "code",
   "execution_count": 36,
   "metadata": {},
   "outputs": [
    {
     "data": {
      "text/plain": [
       "{'sf__accounts': {'view_name': 'sf__accounts',\n",
       "  'base_view_name': 'Redshift.salesforce.accounts'},\n",
       " 'sf__cases': {'view_name': 'sf__cases',\n",
       "  'base_view_name': 'Redshift.salesforce.cases'},\n",
       " 'sf__contacts': {'view_name': 'sf__contacts',\n",
       "  'base_view_name': 'Redshift.salesforce.contacts'},\n",
       " 'sf__users': {'view_name': 'sf__users',\n",
       "  'base_view_name': 'Redshift.salesforce.users'}}"
      ]
     },
     "execution_count": 36,
     "metadata": {},
     "output_type": "execute_result"
    }
   ],
   "source": [
    "view_source"
   ]
  },
  {
   "cell_type": "code",
   "execution_count": 49,
   "metadata": {},
   "outputs": [
    {
     "data": {
      "text/plain": [
       "['sf__accounts', 'sf__users', 'sf__cases', 'sf__contacts']"
      ]
     },
     "execution_count": 49,
     "metadata": {},
     "output_type": "execute_result"
    }
   ],
   "source": [
    "join_list"
   ]
  },
  {
   "cell_type": "code",
   "execution_count": 54,
   "metadata": {},
   "outputs": [
    {
     "name": "stdout",
     "output_type": "stream",
     "text": [
      "{'explore_name': 'sf__accounts', 'explore_joins': ['sf__accounts', 'sf__users', 'sf__cases', 'sf__contacts'], 'conn': 'data_warehouse'}\n",
      "Redshift.salesforce.accounts\n",
      "Redshift.salesforce.users\n",
      "Redshift.salesforce.cases\n",
      "Redshift.salesforce.contacts\n"
     ]
    },
    {
     "data": {
      "text/plain": [
       "'../../graphs/sf__accounts.gv.pdf'"
      ]
     },
     "execution_count": 54,
     "metadata": {},
     "output_type": "execute_result"
    }
   ],
   "source": [
    "dot = Digraph(f'{explore_name}')\n",
    "dot.node(explore_name, explore_name)\n",
    "\n",
    "view_list = map_accounts_explore['explore_joins']\n",
    "\n",
    "for view in view_list:\n",
    " \n",
    "    join_node = f'view_{view}'\n",
    "    dot.node(join_node, join_node)\n",
    "    dot.edge(explore_name, join_node)\n",
    "\n",
    "    with open(f'{dir_path}/../maps/view-{view}-{view}.json', 'r') as f:\n",
    "        payload = json.load(f)\n",
    "        if payload['view_type'] != 'extension':\n",
    "            print(payload['source_table'])\n",
    "            base_node = payload['source_table']\n",
    "        else:\n",
    "            base_node = view_source[payload['view_name']]['base_view_name']\n",
    "            print(view_source[payload['view_name']]['base_view_name'])\n",
    "        \n",
    "        dot.node(base_node, base_node)\n",
    "        dot.edge(join_node, base_node)\n",
    "        \n",
    "dot.render(f'{dir_path}/../graphs/{explore_name}.gv', view=True)\n",
    "    "
   ]
  },
  {
   "cell_type": "code",
   "execution_count": 2,
   "metadata": {},
   "outputs": [],
   "source": [
    "def gen_graph(explore, explore_name, join_list, view_source_payload, dir_path):\n",
    "    dot = Digraph(f'{explore_name}')\n",
    "    dot.node(explore_name, explore_name)\n",
    "\n",
    "    for join in join_list:\n",
    "\n",
    "        join_node = f'view_{join}'\n",
    "        dot.node(join_node, join_node)\n",
    "        dot.edge(explore_name, join_node)\n",
    "\n",
    "        view_list = explore[join]\n",
    "\n",
    "        for view in view_list:\n",
    "\n",
    "            view_node = f\"base_view_{view['view_name']}\"\n",
    "            dot.node(view_node, view_node)\n",
    "            dot.edge(join_node, view_node)\n",
    "\n",
    "            source_node = f\"{view_source_payload[view['view_name']]}\"\n",
    "            dot.node(source_node, source_node)\n",
    "            dot.edge(view_node, source_node)\n",
    "\n",
    "    dot.render(f'{dir_path}/../graphs/{explore_name}.gv', view=True)\n",
    "    return logging.info(f'Successfully generated dependency graph for Explore {explore_name}.')\n"
   ]
  },
  {
   "cell_type": "code",
   "execution_count": 30,
   "metadata": {},
   "outputs": [],
   "source": [
    "def explore_view_dependency(join_list, dir_path):\n",
    "    \n",
    "    explore = dict()\n",
    "    for join in join_list:\n",
    "        explore_view_list = []\n",
    "        for file in os.listdir(f'{dir_path}/../maps'):\n",
    "                if file.startswith('view') and file.split('-')[1] == join:\n",
    "                    with open(f'{dir_path}/../maps/{file}') as f:\n",
    "                        view_dict = json.load(f)\n",
    "\n",
    "                    explore_view_list.append(view_dict['view_name'])\n",
    "\n",
    "        explore[join] = explore_view_list\n",
    "\n",
    "    return explore\n"
   ]
  },
  {
   "cell_type": "code",
   "execution_count": 4,
   "metadata": {},
   "outputs": [],
   "source": [
    "def view_source_dependency(source_file, dir_path):\n",
    "    with open(f'{dir_path}/../maps/{source_file}', 'r') as f:\n",
    "        view_source = json.load(f)\n",
    "    \n",
    "    return view_source\n"
   ]
  },
  {
   "cell_type": "code",
   "execution_count": 5,
   "metadata": {},
   "outputs": [],
   "source": [
    "gen_graph(explore=explore, explore_name='sf__accounts', join_list=map_accounts_explore['explore_joins'], \\\n",
    "            view_source_payload=view_source, dir_path=dir_path)\n"
   ]
  },
  {
   "cell_type": "code",
   "execution_count": 8,
   "metadata": {},
   "outputs": [],
   "source": [
    "dir_path = '..'"
   ]
  },
  {
   "cell_type": "code",
   "execution_count": 9,
   "metadata": {},
   "outputs": [],
   "source": [
    "main(dir_path)\n"
   ]
  },
  {
   "cell_type": "code",
   "execution_count": null,
   "metadata": {},
   "outputs": [],
   "source": []
  },
  {
   "cell_type": "code",
   "execution_count": 27,
   "metadata": {},
   "outputs": [
    {
     "data": {
      "text/plain": [
       "{'explore_name': 'sf__accounts',\n",
       " 'explore_joins': ['sf__accounts', 'sf__users', 'sf__cases', 'sf__contacts'],\n",
       " 'conn': 'data_warehouse'}"
      ]
     },
     "execution_count": 27,
     "metadata": {},
     "output_type": "execute_result"
    }
   ],
   "source": [
    "map_accounts_explore"
   ]
  },
  {
   "cell_type": "code",
   "execution_count": null,
   "metadata": {},
   "outputs": [],
   "source": []
  }
 ],
 "metadata": {
  "kernelspec": {
   "display_name": "Python 3",
   "language": "python",
   "name": "python3"
  },
  "language_info": {
   "codemirror_mode": {
    "name": "ipython",
    "version": 3
   },
   "file_extension": ".py",
   "mimetype": "text/x-python",
   "name": "python",
   "nbconvert_exporter": "python",
   "pygments_lexer": "ipython3",
   "version": "3.7.4"
  }
 },
 "nbformat": 4,
 "nbformat_minor": 2
}

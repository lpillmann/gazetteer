{
 "cells": [
  {
   "cell_type": "code",
   "execution_count": 3,
   "metadata": {},
   "outputs": [],
   "source": [
    "from parser import divider\n",
    "import json"
   ]
  },
  {
   "cell_type": "code",
   "execution_count": 4,
   "metadata": {},
   "outputs": [],
   "source": [
    "with open('../test_folder/explores/sample_model/sf__accounts_leads_engagio.json', 'r') as f:\n",
    "    explore = json.load(f)\n"
   ]
  },
  {
   "cell_type": "code",
   "execution_count": 5,
   "metadata": {},
   "outputs": [
    {
     "data": {
      "text/plain": [
       "{'conn': 'data_warehouse',\n",
       " 'explore': ['explore: sf__accounts_leads_engagio {',\n",
       "  '  label: \"Accounts (Engagio)\"',\n",
       "  '  # Base view of explore',\n",
       "  '  from: sf__accounts',\n",
       "  '  # Hide it from the main list -- still accessible via URL',\n",
       "  '  hidden: yes',\n",
       "  '  # Label the view in the Explore UI as Accounts (instead of the long explore name)',\n",
       "  '  view_label: \"Accounts\"',\n",
       "  '  # Add a convenient description to Explore',\n",
       "  '  description: \"Accounts and associated leads as identified by engagio\"',\n",
       "  '  # Ignore deleted accounts',\n",
       "  '  sql_always_where: NOT ${sf__accounts_leads_engagio.is_deleted}',\n",
       "  '    ;;',\n",
       "  '',\n",
       "  '  join: sf__leads {',\n",
       "  '    view_label: \"Leads\"',\n",
       "  '    sql_on: ${sf__accounts_leads_engagio.id} = ${sf__leads.engagio_matched_account} ;;',\n",
       "  '    # One account will have many leads,',\n",
       "  \"    # and a lead (from engagio's perspective) belongs to a single account\",\n",
       "  '    relationship: one_to_many',\n",
       "  '  }',\n",
       "  '}'],\n",
       " 'explore_name': 'sf__accounts_leads_engagio'}"
      ]
     },
     "execution_count": 5,
     "metadata": {},
     "output_type": "execute_result"
    }
   ],
   "source": [
    "explore"
   ]
  },
  {
   "cell_type": "code",
   "execution_count": 6,
   "metadata": {},
   "outputs": [],
   "source": [
    "explore_list = explore['explore']\n"
   ]
  },
  {
   "cell_type": "code",
   "execution_count": 7,
   "metadata": {},
   "outputs": [
    {
     "data": {
      "text/plain": [
       "['explore: sf__accounts_leads_engagio {',\n",
       " '  label: \"Accounts (Engagio)\"',\n",
       " '  # Base view of explore',\n",
       " '  from: sf__accounts',\n",
       " '  # Hide it from the main list -- still accessible via URL',\n",
       " '  hidden: yes',\n",
       " '  # Label the view in the Explore UI as Accounts (instead of the long explore name)',\n",
       " '  view_label: \"Accounts\"',\n",
       " '  # Add a convenient description to Explore',\n",
       " '  description: \"Accounts and associated leads as identified by engagio\"',\n",
       " '  # Ignore deleted accounts',\n",
       " '  sql_always_where: NOT ${sf__accounts_leads_engagio.is_deleted}',\n",
       " '    ;;',\n",
       " '',\n",
       " '  join: sf__leads {',\n",
       " '    view_label: \"Leads\"',\n",
       " '    sql_on: ${sf__accounts_leads_engagio.id} = ${sf__leads.engagio_matched_account} ;;',\n",
       " '    # One account will have many leads,',\n",
       " \"    # and a lead (from engagio's perspective) belongs to a single account\",\n",
       " '    relationship: one_to_many',\n",
       " '  }',\n",
       " '}']"
      ]
     },
     "execution_count": 7,
     "metadata": {},
     "output_type": "execute_result"
    }
   ],
   "source": [
    "explore_list"
   ]
  },
  {
   "cell_type": "code",
   "execution_count": 12,
   "metadata": {},
   "outputs": [],
   "source": [
    "loc_list = divider(explore_list)"
   ]
  },
  {
   "cell_type": "code",
   "execution_count": 9,
   "metadata": {},
   "outputs": [],
   "source": [
    "from parser import parsing_explore_lines"
   ]
  },
  {
   "cell_type": "code",
   "execution_count": 14,
   "metadata": {},
   "outputs": [
    {
     "data": {
      "text/plain": [
       "['explore: sf__accounts_leads_engagio {',\n",
       " '  label: \"Accounts (Engagio)\"',\n",
       " '  # Base view of explore',\n",
       " '  from: sf__accounts',\n",
       " '  # Hide it from the main list -- still accessible via URL',\n",
       " '  hidden: yes',\n",
       " '  # Label the view in the Explore UI as Accounts (instead of the long explore name)',\n",
       " '  view_label: \"Accounts\"',\n",
       " '  # Add a convenient description to Explore',\n",
       " '  description: \"Accounts and associated leads as identified by engagio\"',\n",
       " '  # Ignore deleted accounts',\n",
       " '  sql_always_where: NOT ${sf__accounts_leads_engagio.is_deleted}',\n",
       " '    ;;',\n",
       " '',\n",
       " '  join: sf__leads {',\n",
       " '    view_label: \"Leads\"',\n",
       " '    sql_on: ${sf__accounts_leads_engagio.id} = ${sf__leads.engagio_matched_account} ;;',\n",
       " '    # One account will have many leads,',\n",
       " \"    # and a lead (from engagio's perspective) belongs to a single account\",\n",
       " '    relationship: one_to_many',\n",
       " '  }',\n",
       " '}']"
      ]
     },
     "execution_count": 14,
     "metadata": {},
     "output_type": "execute_result"
    }
   ],
   "source": [
    "explore_list"
   ]
  },
  {
   "cell_type": "code",
   "execution_count": 15,
   "metadata": {},
   "outputs": [],
   "source": [
    "parsed_explore = parsing_explore_lines(explore_list, loc_list)"
   ]
  },
  {
   "cell_type": "code",
   "execution_count": 16,
   "metadata": {},
   "outputs": [
    {
     "data": {
      "text/plain": [
       "[['explore: sf__accounts_leads_engagio {',\n",
       "  '  label: \"Accounts (Engagio)\"',\n",
       "  '  # Base view of explore',\n",
       "  '  from: sf__accounts',\n",
       "  '  # Hide it from the main list -- still accessible via URL',\n",
       "  '  hidden: yes',\n",
       "  '  # Label the view in the Explore UI as Accounts (instead of the long explore name)',\n",
       "  '  view_label: \"Accounts\"',\n",
       "  '  # Add a convenient description to Explore',\n",
       "  '  description: \"Accounts and associated leads as identified by engagio\"',\n",
       "  '  # Ignore deleted accounts',\n",
       "  '  sql_always_where: NOT ${sf__accounts_leads_engagio.is_deleted}',\n",
       "  '    ;;',\n",
       "  ''],\n",
       " ['  join: sf__leads {',\n",
       "  '    view_label: \"Leads\"',\n",
       "  '    sql_on: ${sf__accounts_leads_engagio.id} = ${sf__leads.engagio_matched_account} ;;',\n",
       "  '    # One account will have many leads,',\n",
       "  \"    # and a lead (from engagio's perspective) belongs to a single account\",\n",
       "  '    relationship: one_to_many',\n",
       "  '  }',\n",
       "  '}']]"
      ]
     },
     "execution_count": 16,
     "metadata": {},
     "output_type": "execute_result"
    }
   ],
   "source": [
    "parsed_explore"
   ]
  },
  {
   "cell_type": "code",
   "execution_count": 17,
   "metadata": {},
   "outputs": [
    {
     "data": {
      "text/plain": [
       "22"
      ]
     },
     "execution_count": 17,
     "metadata": {},
     "output_type": "execute_result"
    }
   ],
   "source": [
    "len(explore_list)"
   ]
  },
  {
   "cell_type": "code",
   "execution_count": 19,
   "metadata": {},
   "outputs": [
    {
     "data": {
      "text/plain": [
       "22"
      ]
     },
     "execution_count": 19,
     "metadata": {},
     "output_type": "execute_result"
    }
   ],
   "source": [
    "sum([len(e) for e in parsed_explore])"
   ]
  },
  {
   "cell_type": "code",
   "execution_count": 21,
   "metadata": {},
   "outputs": [],
   "source": [
    "from parser import trace_joins"
   ]
  },
  {
   "cell_type": "code",
   "execution_count": 22,
   "metadata": {},
   "outputs": [
    {
     "data": {
      "text/plain": [
       "{'sf__accounts', 'sf__leads'}"
      ]
     },
     "execution_count": 22,
     "metadata": {},
     "output_type": "execute_result"
    }
   ],
   "source": [
    "trace_joins(parsed_explore)"
   ]
  },
  {
   "cell_type": "code",
   "execution_count": 24,
   "metadata": {},
   "outputs": [],
   "source": [
    "from parser import trace_base"
   ]
  },
  {
   "cell_type": "code",
   "execution_count": 27,
   "metadata": {},
   "outputs": [
    {
     "name": "stdout",
     "output_type": "stream",
     "text": [
      "['explore: sf__accounts_leads_engagio {', '  label: \"Accounts (Engagio)\"', '  # Base view of explore', '  from: sf__accounts', '  # Hide it from the main list -- still accessible via URL', '  hidden: yes', '  # Label the view in the Explore UI as Accounts (instead of the long explore name)', '  view_label: \"Accounts\"', '  # Add a convenient description to Explore', '  description: \"Accounts and associated leads as identified by engagio\"', '  # Ignore deleted accounts', '  sql_always_where: NOT ${sf__accounts_leads_engagio.is_deleted}', '    ;;', '']\n",
      "sf__accounts\n",
      "['  join: sf__leads {', '    view_label: \"Leads\"', '    sql_on: ${sf__accounts_leads_engagio.id} = ${sf__leads.engagio_matched_account} ;;', '    # One account will have many leads,', \"    # and a lead (from engagio's perspective) belongs to a single account\", '    relationship: one_to_many', '  }', '}']\n",
      "sf__leads\n"
     ]
    }
   ],
   "source": [
    "joins = set()\n",
    "for clause in parsed_explore:\n",
    "    print(clause)\n",
    "    print(trace_base(clause))\n",
    "    "
   ]
  },
  {
   "cell_type": "code",
   "execution_count": 29,
   "metadata": {},
   "outputs": [
    {
     "data": {
      "text/plain": [
       "['  join: sf__leads {',\n",
       " '    view_label: \"Leads\"',\n",
       " '    sql_on: ${sf__accounts_leads_engagio.id} = ${sf__leads.engagio_matched_account} ;;',\n",
       " '    # One account will have many leads,',\n",
       " \"    # and a lead (from engagio's perspective) belongs to a single account\",\n",
       " '    relationship: one_to_many',\n",
       " '  }',\n",
       " '}']"
      ]
     },
     "execution_count": 29,
     "metadata": {},
     "output_type": "execute_result"
    }
   ],
   "source": [
    "clause"
   ]
  },
  {
   "cell_type": "code",
   "execution_count": 30,
   "metadata": {},
   "outputs": [
    {
     "data": {
      "text/plain": [
       "'sf__leads'"
      ]
     },
     "execution_count": 30,
     "metadata": {},
     "output_type": "execute_result"
    }
   ],
   "source": [
    "trace_base(clause)"
   ]
  },
  {
   "cell_type": "code",
   "execution_count": 31,
   "metadata": {},
   "outputs": [],
   "source": [
    "from parser import get_derived_table"
   ]
  },
  {
   "cell_type": "code",
   "execution_count": 39,
   "metadata": {},
   "outputs": [],
   "source": [
    "view_path = '../test_folder/views/total_active_node_count.json'"
   ]
  },
  {
   "cell_type": "code",
   "execution_count": 40,
   "metadata": {},
   "outputs": [],
   "source": [
    "with open(view_path, 'r') as f:    \n",
    "    view = json.load(f)\n",
    "\n",
    "view_source = {'view_name': view['view_name']}\n",
    "line_dict = {}\n"
   ]
  },
  {
   "cell_type": "code",
   "execution_count": 41,
   "metadata": {},
   "outputs": [],
   "source": [
    "import re"
   ]
  },
  {
   "cell_type": "code",
   "execution_count": 42,
   "metadata": {},
   "outputs": [],
   "source": [
    "for line in view['view']:\n",
    "    line_list = list(filter(None, line.split(' ')))\n",
    "    if len(line_list) > 0 and (bool(re.search('extends', line_list[0])) \\\n",
    "                               or bool(re.search('sql_table_name', line_list[0]))):\n",
    "        line_dict[line_list[0]] = line_list[1]\n",
    "    elif len(line_list) > 0 and bool(re.search('derived_table', line_list[0])):\n",
    "        view_source['view_type'] = 'derived_table'\n",
    "\n",
    "override_key_list = [bool(re.search('sql_table_name', x)) for x in line_dict.keys()]\n"
   ]
  },
  {
   "cell_type": "code",
   "execution_count": 43,
   "metadata": {},
   "outputs": [],
   "source": [
    "if len(override_key_list) >= 1 and sum(override_key_list) >= 1:\n",
    "    view_source['source_table'] = line_dict['sql_table_name:']\n",
    "    view_source['view_type'] = 'sql_table_name'\n",
    "elif len(override_key_list) == 1 and sum(override_key_list) == 0:\n",
    "    view_source['source_table'] = line_dict['extends:'][1:-1]\n",
    "    view_source['view_type'] = 'extension'\n",
    "\n",
    "if view_source['view_type'] == 'derived_table':\n",
    "    derived_list = get_derived_table(view['view'])\n",
    "    view_source['derived_table'] = derived_list"
   ]
  },
  {
   "cell_type": "code",
   "execution_count": 44,
   "metadata": {},
   "outputs": [
    {
     "data": {
      "text/plain": [
       "[['derived_table:', '{'],\n",
       " ['explore_source:', 'sf__opportunities', '{'],\n",
       " ['column:', 'id', '{', 'field:', 'sf__accounts.id', '}'],\n",
       " ['column:', 'name', '{', 'field:', 'sf__accounts.name', '}'],\n",
       " ['column:',\n",
       "  'total_quantity',\n",
       "  '{',\n",
       "  'field:',\n",
       "  'opportunity_products.total_quantity',\n",
       "  '}'],\n",
       " ['column:',\n",
       "  'node_type',\n",
       "  '{',\n",
       "  'field:',\n",
       "  'opportunity_products.node_type',\n",
       "  '}'],\n",
       " ['filters:', '{'],\n",
       " ['field:', 'opportunity_products.end_date'],\n",
       " ['value:', '\"after', '1', 'days', 'from', 'now\"'],\n",
       " ['}'],\n",
       " ['filters:', '{'],\n",
       " ['field:', 'opportunity_products.node_type'],\n",
       " ['value:', '\"-None\"'],\n",
       " ['}'],\n",
       " ['filters:', '{'],\n",
       " ['field:', 'opportunity_products.product_family'],\n",
       " ['value:', '\"Subscription\"'],\n",
       " ['}'],\n",
       " ['filters:', '{'],\n",
       " ['field:', 'sf__opportunities.is_won'],\n",
       " ['value:', '\"Yes\"'],\n",
       " ['}'],\n",
       " ['}'],\n",
       " ['}']]"
      ]
     },
     "execution_count": 44,
     "metadata": {},
     "output_type": "execute_result"
    }
   ],
   "source": [
    "derived_list"
   ]
  },
  {
   "cell_type": "code",
   "execution_count": 45,
   "metadata": {},
   "outputs": [
    {
     "data": {
      "text/plain": [
       "{'view_name': 'total_active_node_count',\n",
       " 'view_type': 'derived_table',\n",
       " 'derived_table': [['derived_table:', '{'],\n",
       "  ['explore_source:', 'sf__opportunities', '{'],\n",
       "  ['column:', 'id', '{', 'field:', 'sf__accounts.id', '}'],\n",
       "  ['column:', 'name', '{', 'field:', 'sf__accounts.name', '}'],\n",
       "  ['column:',\n",
       "   'total_quantity',\n",
       "   '{',\n",
       "   'field:',\n",
       "   'opportunity_products.total_quantity',\n",
       "   '}'],\n",
       "  ['column:',\n",
       "   'node_type',\n",
       "   '{',\n",
       "   'field:',\n",
       "   'opportunity_products.node_type',\n",
       "   '}'],\n",
       "  ['filters:', '{'],\n",
       "  ['field:', 'opportunity_products.end_date'],\n",
       "  ['value:', '\"after', '1', 'days', 'from', 'now\"'],\n",
       "  ['}'],\n",
       "  ['filters:', '{'],\n",
       "  ['field:', 'opportunity_products.node_type'],\n",
       "  ['value:', '\"-None\"'],\n",
       "  ['}'],\n",
       "  ['filters:', '{'],\n",
       "  ['field:', 'opportunity_products.product_family'],\n",
       "  ['value:', '\"Subscription\"'],\n",
       "  ['}'],\n",
       "  ['filters:', '{'],\n",
       "  ['field:', 'sf__opportunities.is_won'],\n",
       "  ['value:', '\"Yes\"'],\n",
       "  ['}'],\n",
       "  ['}'],\n",
       "  ['}']]}"
      ]
     },
     "execution_count": 45,
     "metadata": {},
     "output_type": "execute_result"
    }
   ],
   "source": [
    "view_source"
   ]
  },
  {
   "cell_type": "code",
   "execution_count": 46,
   "metadata": {},
   "outputs": [],
   "source": [
    "from parser import source_table"
   ]
  },
  {
   "cell_type": "code",
   "execution_count": 51,
   "metadata": {},
   "outputs": [],
   "source": [
    "view_path = '../test_folder/views/sf__accounts.json'"
   ]
  },
  {
   "cell_type": "code",
   "execution_count": 52,
   "metadata": {},
   "outputs": [],
   "source": [
    "payload = source_table(view_path)"
   ]
  },
  {
   "cell_type": "code",
   "execution_count": 53,
   "metadata": {},
   "outputs": [
    {
     "data": {
      "text/plain": [
       "dict_keys(['view_name', 'source_table', 'view_type'])"
      ]
     },
     "execution_count": 53,
     "metadata": {},
     "output_type": "execute_result"
    }
   ],
   "source": [
    "payload.keys()"
   ]
  },
  {
   "cell_type": "code",
   "execution_count": null,
   "metadata": {},
   "outputs": [],
   "source": []
  }
 ],
 "metadata": {
  "kernelspec": {
   "display_name": "Python 3",
   "language": "python",
   "name": "python3"
  },
  "language_info": {
   "codemirror_mode": {
    "name": "ipython",
    "version": 3
   },
   "file_extension": ".py",
   "mimetype": "text/x-python",
   "name": "python",
   "nbconvert_exporter": "python",
   "pygments_lexer": "ipython3",
   "version": "3.7.4"
  }
 },
 "nbformat": 4,
 "nbformat_minor": 2
}
